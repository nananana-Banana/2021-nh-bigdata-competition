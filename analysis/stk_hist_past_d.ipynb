{
 "cells": [
  {
   "cell_type": "code",
   "execution_count": 35,
   "id": "0a6ee6c9",
   "metadata": {},
   "outputs": [],
   "source": [
    "import pandas as pd\n",
    "import numpy as np\n",
    "import os\n",
    "import sys\n",
    "sys.path.append('../')\n",
    "\n",
    "import core.config as conf\n",
    "from tqdm import trange, notebook, tqdm\n",
    "\n",
    "%matplotlib inline"
   ]
  },
  {
   "cell_type": "code",
   "execution_count": 2,
   "id": "ba4ca9b5",
   "metadata": {},
   "outputs": [],
   "source": [
    "path = conf.data_path"
   ]
  },
  {
   "cell_type": "code",
   "execution_count": 4,
   "id": "19fd842a",
   "metadata": {},
   "outputs": [],
   "source": [
    "train_df = pd.read_csv(path + 'stk_hld_train.csv')"
   ]
  },
  {
   "cell_type": "code",
   "execution_count": 21,
   "id": "b42b9f1d",
   "metadata": {},
   "outputs": [],
   "source": [
    "train_df = train_df.sort_values(by = ['act_id', 'iem_cd', 'byn_dt'], axis = 0).reset_index(drop=True)"
   ]
  },
  {
   "cell_type": "code",
   "execution_count": 25,
   "id": "c2b63a4c",
   "metadata": {},
   "outputs": [],
   "source": [
    "tmp = train_df[train_df['act_id']=='0007f3d10282e6f9de1eb445a64eb1f13e9ed2308cfbfa9b6e6efa399d0bdf31']\n",
    "stk_lst = tmp['iem_cd'].unique()"
   ]
  },
  {
   "cell_type": "code",
   "execution_count": 57,
   "id": "7b1ddd3a",
   "metadata": {
    "scrolled": true
   },
   "outputs": [
    {
     "name": "stderr",
     "output_type": "stream",
     "text": [
      "681472it [00:56, 12021.36it/s]\n"
     ]
    }
   ],
   "source": [
    "train_df['past_d'] = 0\n",
    "\n",
    "iem = ''\n",
    "cnt = 1\n",
    "for idx, row in tqdm(train_df.iterrows()) :\n",
    "    if row['iem_cd'] != iem :\n",
    "        iem = row['iem_cd']\n",
    "        cnt = 1\n",
    "    else :\n",
    "        train_df.at[idx, 'past_d'] = (train_df.iloc[idx-1]['past_d']*(cnt-1) + train_df.iloc[idx-1]['hold_d']) / cnt\n",
    "        cnt += 1"
   ]
  },
  {
   "cell_type": "code",
   "execution_count": 60,
   "id": "db33ea25",
   "metadata": {},
   "outputs": [
    {
     "data": {
      "text/plain": [
       "0      433496\n",
       "1       64974\n",
       "2       30845\n",
       "3       21287\n",
       "4       15928\n",
       "        ...  \n",
       "526         1\n",
       "718         1\n",
       "298         1\n",
       "552         1\n",
       "594         1\n",
       "Name: past_d, Length: 553, dtype: int64"
      ]
     },
     "execution_count": 60,
     "metadata": {},
     "output_type": "execute_result"
    }
   ],
   "source": [
    "train_df['past_d'].value_counts()"
   ]
  },
  {
   "cell_type": "code",
   "execution_count": 63,
   "id": "fbf42ad4",
   "metadata": {},
   "outputs": [],
   "source": [
    "train_df.to_csv(path + 'new_train_past_d.csv', index=False)"
   ]
  },
  {
   "cell_type": "code",
   "execution_count": null,
   "id": "b58be434",
   "metadata": {},
   "outputs": [],
   "source": []
  }
 ],
 "metadata": {
  "kernelspec": {
   "display_name": "Python 3 (ipykernel)",
   "language": "python",
   "name": "python3"
  },
  "language_info": {
   "codemirror_mode": {
    "name": "ipython",
    "version": 3
   },
   "file_extension": ".py",
   "mimetype": "text/x-python",
   "name": "python",
   "nbconvert_exporter": "python",
   "pygments_lexer": "ipython3",
   "version": "3.7.11"
  }
 },
 "nbformat": 4,
 "nbformat_minor": 5
}
