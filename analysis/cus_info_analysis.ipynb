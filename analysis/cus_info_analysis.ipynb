{
 "cells": [
  {
   "cell_type": "code",
   "execution_count": 1,
   "metadata": {},
   "outputs": [],
   "source": [
    "import pandas as pd\n",
    "import numpy as np\n",
    "import sys\n",
    "sys.path.append('../')\n",
    "\n",
    "import matplotlib.pyplot as plt\n",
    "import core.config as conf"
   ]
  },
  {
   "cell_type": "code",
   "execution_count": 2,
   "metadata": {},
   "outputs": [],
   "source": [
    "cus_df = pd.read_csv(conf.data_path + 'cus_info.csv')"
   ]
  },
  {
   "cell_type": "code",
   "execution_count": 3,
   "metadata": {},
   "outputs": [
    {
     "data": {
      "text/html": [
       "<div>\n",
       "<style scoped>\n",
       "    .dataframe tbody tr th:only-of-type {\n",
       "        vertical-align: middle;\n",
       "    }\n",
       "\n",
       "    .dataframe tbody tr th {\n",
       "        vertical-align: top;\n",
       "    }\n",
       "\n",
       "    .dataframe thead th {\n",
       "        text-align: right;\n",
       "    }\n",
       "</style>\n",
       "<table border=\"1\" class=\"dataframe\">\n",
       "  <thead>\n",
       "    <tr style=\"text-align: right;\">\n",
       "      <th></th>\n",
       "      <th>act_id</th>\n",
       "      <th>sex_dit_cd</th>\n",
       "      <th>cus_age_stn_cd</th>\n",
       "      <th>ivs_icn_cd</th>\n",
       "      <th>cus_aet_stn_cd</th>\n",
       "      <th>mrz_pdt_tp_sgm_cd</th>\n",
       "      <th>lsg_sgm_cd</th>\n",
       "      <th>tco_cus_grd_cd</th>\n",
       "      <th>tot_ivs_te_sgm_cd</th>\n",
       "      <th>mrz_btp_dit_cd</th>\n",
       "    </tr>\n",
       "  </thead>\n",
       "  <tbody>\n",
       "    <tr>\n",
       "      <th>0</th>\n",
       "      <td>64aae8dd71e5c0761000db9f9a6779e504e7a4aa9dc097...</td>\n",
       "      <td>1</td>\n",
       "      <td>4</td>\n",
       "      <td>99</td>\n",
       "      <td>1</td>\n",
       "      <td>2</td>\n",
       "      <td>3</td>\n",
       "      <td>3</td>\n",
       "      <td>6</td>\n",
       "      <td>16</td>\n",
       "    </tr>\n",
       "    <tr>\n",
       "      <th>1</th>\n",
       "      <td>5f7c3a8f37d9c268d06130ff0be5d32a1b9ef68c13049f...</td>\n",
       "      <td>1</td>\n",
       "      <td>6</td>\n",
       "      <td>4</td>\n",
       "      <td>4</td>\n",
       "      <td>2</td>\n",
       "      <td>5</td>\n",
       "      <td>2</td>\n",
       "      <td>6</td>\n",
       "      <td>1</td>\n",
       "    </tr>\n",
       "    <tr>\n",
       "      <th>2</th>\n",
       "      <td>1119c23c3a504ca7b75060277410c0f6fb9018ec7638c2...</td>\n",
       "      <td>2</td>\n",
       "      <td>7</td>\n",
       "      <td>4</td>\n",
       "      <td>3</td>\n",
       "      <td>2</td>\n",
       "      <td>5</td>\n",
       "      <td>5</td>\n",
       "      <td>6</td>\n",
       "      <td>9</td>\n",
       "    </tr>\n",
       "    <tr>\n",
       "      <th>3</th>\n",
       "      <td>6d497facfa1ea5901b827335553331f8555fec02a8184f...</td>\n",
       "      <td>2</td>\n",
       "      <td>6</td>\n",
       "      <td>4</td>\n",
       "      <td>4</td>\n",
       "      <td>8</td>\n",
       "      <td>5</td>\n",
       "      <td>3</td>\n",
       "      <td>6</td>\n",
       "      <td>16</td>\n",
       "    </tr>\n",
       "    <tr>\n",
       "      <th>4</th>\n",
       "      <td>b727c78d2cfc246c97b677f29a034399a0c7e7873fff44...</td>\n",
       "      <td>1</td>\n",
       "      <td>5</td>\n",
       "      <td>2</td>\n",
       "      <td>2</td>\n",
       "      <td>2</td>\n",
       "      <td>5</td>\n",
       "      <td>5</td>\n",
       "      <td>5</td>\n",
       "      <td>16</td>\n",
       "    </tr>\n",
       "  </tbody>\n",
       "</table>\n",
       "</div>"
      ],
      "text/plain": [
       "                                              act_id  sex_dit_cd  \\\n",
       "0  64aae8dd71e5c0761000db9f9a6779e504e7a4aa9dc097...           1   \n",
       "1  5f7c3a8f37d9c268d06130ff0be5d32a1b9ef68c13049f...           1   \n",
       "2  1119c23c3a504ca7b75060277410c0f6fb9018ec7638c2...           2   \n",
       "3  6d497facfa1ea5901b827335553331f8555fec02a8184f...           2   \n",
       "4  b727c78d2cfc246c97b677f29a034399a0c7e7873fff44...           1   \n",
       "\n",
       "   cus_age_stn_cd  ivs_icn_cd  cus_aet_stn_cd  mrz_pdt_tp_sgm_cd  lsg_sgm_cd  \\\n",
       "0               4          99               1                  2           3   \n",
       "1               6           4               4                  2           5   \n",
       "2               7           4               3                  2           5   \n",
       "3               6           4               4                  8           5   \n",
       "4               5           2               2                  2           5   \n",
       "\n",
       "   tco_cus_grd_cd  tot_ivs_te_sgm_cd  mrz_btp_dit_cd  \n",
       "0               3                  6              16  \n",
       "1               2                  6               1  \n",
       "2               5                  6               9  \n",
       "3               3                  6              16  \n",
       "4               5                  5              16  "
      ]
     },
     "execution_count": 3,
     "metadata": {},
     "output_type": "execute_result"
    }
   ],
   "source": [
    "cus_df.head()"
   ]
  },
  {
   "cell_type": "markdown",
   "metadata": {},
   "source": [
    "## 성별 및 연령구간 데이터 분포 분석\n",
    "\n",
    "- sex_dit_cd : 성별 ( 1 : 남성, 2 : 여성)\n",
    "- cus_age_stn_cd : 연령  "
   ]
  },
  {
   "cell_type": "markdown",
   "metadata": {},
   "source": [
    "#### 성별"
   ]
  },
  {
   "cell_type": "code",
   "execution_count": 4,
   "metadata": {},
   "outputs": [
    {
     "data": {
      "text/plain": [
       "1    5985\n",
       "2    4015\n",
       "Name: sex_dit_cd, dtype: int64"
      ]
     },
     "execution_count": 4,
     "metadata": {},
     "output_type": "execute_result"
    }
   ],
   "source": [
    "cus_df['sex_dit_cd'].value_counts()"
   ]
  },
  {
   "cell_type": "code",
   "execution_count": 5,
   "metadata": {},
   "outputs": [
    {
     "data": {
      "image/png": "[encoded data removed]",
      "text/plain": [
       "<Figure size 432x288 with 1 Axes>"
      ]
     },
     "metadata": {},
     "output_type": "display_data"
    }
   ],
   "source": [
    "plt.pie(cus_df['sex_dit_cd'].value_counts(), labels = cus_df['sex_dit_cd'].value_counts().keys())\n",
    "plt.show()"
   ]
  },
  {
   "cell_type": "markdown",
   "metadata": {},
   "source": [
    "#### 연령"
   ]
  },
  {
   "cell_type": "code",
   "execution_count": 6,
   "metadata": {},
   "outputs": [],
   "source": [
    "cus_age = cus_df.groupby('cus_age_stn_cd').cus_age_stn_cd.sum()\n",
    "label = cus_age.keys()"
   ]
  },
  {
   "cell_type": "code",
   "execution_count": 7,
   "metadata": {},
   "outputs": [
    {
     "data": {
      "text/plain": [
       "cus_age_stn_cd\n",
       "1     481\n",
       "2    2756\n",
       "3    4572\n",
       "4    6268\n",
       "5    6845\n",
       "6    8490\n",
       "7    7686\n",
       "8    6296\n",
       "9    3429\n",
       "Name: cus_age_stn_cd, dtype: int64"
      ]
     },
     "execution_count": 7,
     "metadata": {},
     "output_type": "execute_result"
    }
   ],
   "source": [
    "cus_age"
   ]
  },
  {
   "cell_type": "code",
   "execution_count": 8,
   "metadata": {},
   "outputs": [],
   "source": [
    "index = np.arange(len(label))"
   ]
  },
  {
   "cell_type": "code",
   "execution_count": 9,
   "metadata": {},
   "outputs": [
    {
     "data": {
      "image/png": "[encoded data removed]",
      "text/plain": [
       "<Figure size 432x288 with 1 Axes>"
      ]
     },
     "metadata": {
      "needs_background": "light"
     },
     "output_type": "display_data"
    }
   ],
   "source": [
    "plt.bar(index, cus_age)\n",
    "plt.title('Age Analysis', fontsize=15)\n",
    "plt.xlabel('age', fontsize=10)\n",
    "plt.xticks(index, label, fontsize=15)\n",
    "plt.show()"
   ]
  },
  {
   "cell_type": "markdown",
   "metadata": {},
   "source": [
    "01 : 20세 ~ 25세미만  \n",
    "02 : 25세 ~ 30세미만  \n",
    "03 : 30세 ~ 35세미만  \n",
    "04 : 35세 ~ 40세미만  \n",
    "05 : 40세 ~ 45세미만  \n",
    "06 : 45세 ~ 50세미만  \n",
    "07 : 50세 ~ 55세미만  \n",
    "08 : 55세 ~ 60세미만  \n",
    "09 : 60세 ~ 65세미만  "
   ]
  },
  {
   "cell_type": "markdown",
   "metadata": {},
   "source": [
    "## 성별과 연령 관계 분석"
   ]
  },
  {
   "cell_type": "code",
   "execution_count": 10,
   "metadata": {},
   "outputs": [],
   "source": [
    "male_age = cus_df[cus_df['sex_dit_cd'] == 1]['cus_age_stn_cd']"
   ]
  },
  {
   "cell_type": "code",
   "execution_count": 11,
   "metadata": {},
   "outputs": [],
   "source": [
    "female_age = cus_df[cus_df['sex_dit_cd'] == 2]['cus_age_stn_cd']"
   ]
  },
  {
   "cell_type": "code",
   "execution_count": 12,
   "metadata": {},
   "outputs": [
    {
     "data": {
      "image/png": "[encoded data removed]",
      "text/plain": [
       "<Figure size 432x288 with 1 Axes>"
      ]
     },
     "metadata": {
      "needs_background": "light"
     },
     "output_type": "display_data"
    }
   ],
   "source": [
    "bar_width = 0.35\n",
    "p1 = plt.bar(index, male_age.value_counts().sort_index(), \n",
    "             bar_width, \n",
    "             label='Male')\n",
    "\n",
    "p2 = plt.bar(index + bar_width, female_age.value_counts().sort_index(), \n",
    "             bar_width, \n",
    "             label='Female')\n",
    "\n",
    "\n",
    "\n",
    "plt.title('Sum of Age by Sex', fontsize=20)\n",
    "plt.xlabel('age', fontsize=18)\n",
    "plt.legend((p1[0], p2[0]), ('Male', 'Female'), fontsize=15)\n",
    "plt.show()"
   ]
  },
  {
   "cell_type": "markdown",
   "metadata": {},
   "source": [
    "## 투자성향 분포\n",
    "\n",
    "01: 안정형  \n",
    "02: 안정추구형  \n",
    "03: 위험중립형  \n",
    "04: 적극투자형  \n",
    "05: 공격투자형  \n",
    "09: 전문투자가형  \n",
    "00: 정보제공미동의  \n",
    "99: 미정의 "
   ]
  },
  {
   "cell_type": "code",
   "execution_count": 13,
   "metadata": {},
   "outputs": [],
   "source": [
    "ivs = cus_df['ivs_icn_cd'].value_counts().sort_index()\n",
    "label = ivs.keys()"
   ]
  },
  {
   "cell_type": "code",
   "execution_count": 14,
   "metadata": {},
   "outputs": [],
   "source": [
    "index = np.arange(len(label))"
   ]
  },
  {
   "cell_type": "code",
   "execution_count": 15,
   "metadata": {},
   "outputs": [
    {
     "data": {
      "image/png": "[encoded data removed]",
      "text/plain": [
       "<Figure size 432x288 with 1 Axes>"
      ]
     },
     "metadata": {
      "needs_background": "light"
     },
     "output_type": "display_data"
    }
   ],
   "source": [
    "plt.bar(index, ivs)\n",
    "plt.title('IVS Analysis', fontsize=15)\n",
    "plt.xlabel('ivs', fontsize=10)\n",
    "plt.xticks(index, label, fontsize=15)\n",
    "plt.show()"
   ]
  },
  {
   "cell_type": "markdown",
   "metadata": {},
   "source": [
    "## 고객자산구간 분포\n",
    "\n",
    "01: 0원이상-1천만원미만  \n",
    "02: 1천만원이상-3천만원미만  \n",
    "03: 3천만원이상-5천만원미만  \n",
    "04: 5천만원이상-1억원미만  \n",
    "05: 1억원이상-3억원미만  \n",
    "06: 3억원이상  "
   ]
  },
  {
   "cell_type": "code",
   "execution_count": 16,
   "metadata": {},
   "outputs": [],
   "source": [
    "aet = cus_df['cus_aet_stn_cd'].value_counts().sort_index()\n",
    "label = aet.keys()\n",
    "index = np.arange(len(label))"
   ]
  },
  {
   "cell_type": "code",
   "execution_count": 17,
   "metadata": {},
   "outputs": [
    {
     "data": {
      "image/png": "[encoded data removed]",
      "text/plain": [
       "<Figure size 432x288 with 1 Axes>"
      ]
     },
     "metadata": {
      "needs_background": "light"
     },
     "output_type": "display_data"
    }
   ],
   "source": [
    "plt.bar(index, aet)\n",
    "plt.title('AET Analysis', fontsize=15)\n",
    "plt.xlabel('aet', fontsize=10)\n",
    "plt.xticks(index, label, fontsize=15)\n",
    "plt.show()"
   ]
  },
  {
   "cell_type": "markdown",
   "metadata": {},
   "source": [
    "## 주거래 상품군 분석\n",
    "01: Only CMA  \n",
    "02: 국내주식  \n",
    "03: 해외주식  \n",
    "04: 선물옵션  \n",
    "05: 금속  \n",
    "06: 국내채권  \n",
    "07: 해외채권  \n",
    "08: 펀드  \n",
    "09: ELS/DLS  \n",
    "10: 신탁_퇴직연금  \n",
    "11: RP  \n",
    "12: 발행어음  \n",
    "14: WRAP  \n",
    "15: 신용대출  \n",
    "99: 미정의  "
   ]
  },
  {
   "cell_type": "code",
   "execution_count": 18,
   "metadata": {},
   "outputs": [],
   "source": [
    "mrz = cus_df['mrz_pdt_tp_sgm_cd'].value_counts().sort_index()\n",
    "label = mrz.keys()\n",
    "index = np.arange(len(label))"
   ]
  },
  {
   "cell_type": "code",
   "execution_count": 19,
   "metadata": {},
   "outputs": [
    {
     "data": {
      "text/plain": [
       "1       34\n",
       "2     9659\n",
       "3      261\n",
       "5        7\n",
       "6        3\n",
       "8        8\n",
       "9        5\n",
       "10       9\n",
       "11       3\n",
       "12       1\n",
       "15      10\n",
       "Name: mrz_pdt_tp_sgm_cd, dtype: int64"
      ]
     },
     "execution_count": 19,
     "metadata": {},
     "output_type": "execute_result"
    }
   ],
   "source": [
    "mrz"
   ]
  },
  {
   "cell_type": "code",
   "execution_count": 20,
   "metadata": {},
   "outputs": [
    {
     "data": {
      "image/png": "[encoded data removed]",
      "text/plain": [
       "<Figure size 432x288 with 1 Axes>"
      ]
     },
     "metadata": {
      "needs_background": "light"
     },
     "output_type": "display_data"
    }
   ],
   "source": [
    "plt.bar(index, mrz)\n",
    "plt.title('MRZ Analysis', fontsize=15)\n",
    "plt.xlabel('mrz', fontsize=10)\n",
    "plt.xticks(index, label, fontsize=15)\n",
    "plt.show()"
   ]
  },
  {
   "cell_type": "markdown",
   "metadata": {},
   "source": [
    "## 고객 Life Stage 분석\n",
    "02: 사회초년생 (20-29세)  \n",
    "03: 가족형성기_남자 (30-39세 & 남자)  \n",
    "04: 가족형성기_여자 (30-39세 & 여자)  \n",
    "05: 가족성숙기_직장인 (40-59세 & 직장인 & 남자)  \n",
    "06: 가족성숙기_주부 (40-59세 & 주부 & 여자 )  \n",
    "07: 가족성숙기_남자 (40-59세 & 기타 & 남자 )  \n",
    "08: 가족성숙기_여자 (40-59세 & 기타 & 여자)  \n",
    "09: 은퇴기 (60-69세)"
   ]
  },
  {
   "cell_type": "code",
   "execution_count": 21,
   "metadata": {},
   "outputs": [],
   "source": [
    "lsg = cus_df['lsg_sgm_cd'].value_counts().sort_index()\n",
    "label = lsg.keys()\n",
    "index = np.arange(len(label))"
   ]
  },
  {
   "cell_type": "code",
   "execution_count": 22,
   "metadata": {},
   "outputs": [
    {
     "data": {
      "text/plain": [
       "2    1860\n",
       "3    1926\n",
       "4    1164\n",
       "5    2593\n",
       "6     851\n",
       "7     827\n",
       "8     400\n",
       "9     379\n",
       "Name: lsg_sgm_cd, dtype: int64"
      ]
     },
     "execution_count": 22,
     "metadata": {},
     "output_type": "execute_result"
    }
   ],
   "source": [
    "lsg"
   ]
  },
  {
   "cell_type": "code",
   "execution_count": 23,
   "metadata": {},
   "outputs": [
    {
     "data": {
      "image/png": "[encoded data removed]",
      "text/plain": [
       "<Figure size 432x288 with 1 Axes>"
      ]
     },
     "metadata": {
      "needs_background": "light"
     },
     "output_type": "display_data"
    }
   ],
   "source": [
    "plt.bar(index, lsg)\n",
    "plt.title('LSG Analysis', fontsize=15)\n",
    "plt.xlabel('lsg', fontsize=10)\n",
    "plt.xticks(index, label, fontsize=15)\n",
    "plt.show()"
   ]
  },
  {
   "cell_type": "markdown",
   "metadata": {},
   "source": [
    "## 고객 등급 분석\n",
    "01: 탑클래스 (자산1)10억이상 or 수익기여도2) 5백만원 이상)  \n",
    "02: 골드 (자산3억이상 or 수익기여도 3백만원 이상)  \n",
    "03: 로얄 (자산1억이상 or 수익기여도 1백만원 이상)  \n",
    "04: 그린 (자산3천이상 or 수익기여도 5십만원 이상)  \n",
    "05: 블루 (자산1천이상 or 수익기여도 1십만원 이상)  \n",
    "09: 등급 미정의  \n",
    "99: 미정의 (결측치)  "
   ]
  },
  {
   "cell_type": "code",
   "execution_count": 24,
   "metadata": {},
   "outputs": [],
   "source": [
    "tco = cus_df['tco_cus_grd_cd'].value_counts().sort_index()\n",
    "label = tco.keys()\n",
    "index = np.arange(len(label))"
   ]
  },
  {
   "cell_type": "code",
   "execution_count": 25,
   "metadata": {},
   "outputs": [
    {
     "data": {
      "text/plain": [
       "1       83\n",
       "2      345\n",
       "3     1184\n",
       "4     2298\n",
       "5     2687\n",
       "9     3366\n",
       "99      37\n",
       "Name: tco_cus_grd_cd, dtype: int64"
      ]
     },
     "execution_count": 25,
     "metadata": {},
     "output_type": "execute_result"
    }
   ],
   "source": [
    "tco"
   ]
  },
  {
   "cell_type": "code",
   "execution_count": 26,
   "metadata": {},
   "outputs": [
    {
     "data": {
      "image/png": "[encoded data removed]",
      "text/plain": [
       "<Figure size 432x288 with 1 Axes>"
      ]
     },
     "metadata": {
      "needs_background": "light"
     },
     "output_type": "display_data"
    }
   ],
   "source": [
    "plt.bar(index, tco)\n",
    "plt.title('TCO Analysis', fontsize=15)\n",
    "plt.xlabel('tco', fontsize=10)\n",
    "plt.xticks(index, label, fontsize=15)\n",
    "plt.show()"
   ]
  },
  {
   "cell_type": "markdown",
   "metadata": {},
   "source": [
    "## 총 투자기간 분석\n",
    "계좌를 개설한 이래 고객이 100만원 이상 보유한 개월 수  \n",
    "01: 6개월 미만  \n",
    "02: 6개월-1년 미만  \n",
    "03: 1년-3년 미만  \n",
    "04: 3년-5년 미만  \n",
    "05: 5년-10년 미만  \n",
    "06: 10년 이상  "
   ]
  },
  {
   "cell_type": "code",
   "execution_count": 27,
   "metadata": {},
   "outputs": [],
   "source": [
    "tot = cus_df['tot_ivs_te_sgm_cd'].value_counts().sort_index()\n",
    "label = tot.keys()\n",
    "index = np.arange(len(label))"
   ]
  },
  {
   "cell_type": "code",
   "execution_count": 28,
   "metadata": {},
   "outputs": [
    {
     "data": {
      "text/plain": [
       "1     962\n",
       "2    3315\n",
       "3    4271\n",
       "4     992\n",
       "5     312\n",
       "6     148\n",
       "Name: tot_ivs_te_sgm_cd, dtype: int64"
      ]
     },
     "execution_count": 28,
     "metadata": {},
     "output_type": "execute_result"
    }
   ],
   "source": [
    "tot"
   ]
  },
  {
   "cell_type": "code",
   "execution_count": 29,
   "metadata": {},
   "outputs": [
    {
     "data": {
      "image/png": "[encoded data removed]",
      "text/plain": [
       "<Figure size 432x288 with 1 Axes>"
      ]
     },
     "metadata": {
      "needs_background": "light"
     },
     "output_type": "display_data"
    }
   ],
   "source": [
    "plt.bar(index, tot)\n",
    "plt.title('TOT Analysis', fontsize=15)\n",
    "plt.xlabel('tot', fontsize=10)\n",
    "plt.xticks(index, label, fontsize=15)\n",
    "plt.show()"
   ]
  },
  {
   "cell_type": "markdown",
   "metadata": {},
   "source": [
    "## 주거래 업종 분석\n",
    "해당월 거래 금액이 가장 큰 업종 구분   \n",
    "01: 건설업  \n",
    "02: 금융업  \n",
    "03: 기계  \n",
    "04: 방송/통신  \n",
    "05: 서비스/오락/문화  \n",
    "06: 운송/운수  \n",
    "07: 유통  \n",
    "08: 의료/의약  \n",
    "09: 전기/전자  \n",
    "10: 제조  \n",
    "11: 철강  \n",
    "12: 화학  \n",
    "13: IT  \n",
    "14: 기타  \n",
    "15: 혼합  \n",
    "16: 비매매  "
   ]
  },
  {
   "cell_type": "code",
   "execution_count": 30,
   "metadata": {},
   "outputs": [],
   "source": [
    "mrz_btp = cus_df['mrz_btp_dit_cd'].value_counts().sort_index()\n",
    "label = mrz_btp.keys()\n",
    "index = np.arange(len(label))"
   ]
  },
  {
   "cell_type": "code",
   "execution_count": 31,
   "metadata": {},
   "outputs": [
    {
     "data": {
      "text/plain": [
       "1       75\n",
       "2      322\n",
       "3       79\n",
       "4       46\n",
       "5      831\n",
       "6      488\n",
       "7      324\n",
       "8      550\n",
       "9     1320\n",
       "10    2107\n",
       "11      83\n",
       "12     325\n",
       "13     867\n",
       "14     496\n",
       "15      63\n",
       "16    2024\n",
       "Name: mrz_btp_dit_cd, dtype: int64"
      ]
     },
     "execution_count": 31,
     "metadata": {},
     "output_type": "execute_result"
    }
   ],
   "source": [
    "mrz_btp"
   ]
  },
  {
   "cell_type": "code",
   "execution_count": 32,
   "metadata": {},
   "outputs": [
    {
     "data": {
      "image/png": "[encoded data removed]",
      "text/plain": [
       "<Figure size 432x288 with 1 Axes>"
      ]
     },
     "metadata": {
      "needs_background": "light"
     },
     "output_type": "display_data"
    }
   ],
   "source": [
    "plt.bar(index, mrz_btp)\n",
    "plt.title('MRZ BTP Analysis', fontsize=15)\n",
    "plt.xlabel('mrz', fontsize=10)\n",
    "plt.xticks(index, label, fontsize=15)\n",
    "plt.show()"
   ]
  },
  {
   "cell_type": "markdown",
   "metadata": {},
   "source": [
    "제조부문 종목?"
   ]
  },
  {
   "cell_type": "markdown",
   "metadata": {},
   "source": [
    "## 주식 보유기간 & 고객 정보 연관 분석"
   ]
  },
  {
   "cell_type": "code",
   "execution_count": 33,
   "metadata": {},
   "outputs": [],
   "source": [
    "stk_df = pd.read_csv(conf.data_path + 'stk_hld_train.csv')"
   ]
  },
  {
   "cell_type": "code",
   "execution_count": 38,
   "metadata": {},
   "outputs": [],
   "source": [
    "df = pd.merge(left = stk_df, right = cus_df, how = \"left\", on = \"act_id\")"
   ]
  },
  {
   "cell_type": "code",
   "execution_count": 46,
   "metadata": {},
   "outputs": [
    {
     "data": {
      "text/html": [
       "<div>\n",
       "<style scoped>\n",
       "    .dataframe tbody tr th:only-of-type {\n",
       "        vertical-align: middle;\n",
       "    }\n",
       "\n",
       "    .dataframe tbody tr th {\n",
       "        vertical-align: top;\n",
       "    }\n",
       "\n",
       "    .dataframe thead th {\n",
       "        text-align: right;\n",
       "    }\n",
       "</style>\n",
       "<table border=\"1\" class=\"dataframe\">\n",
       "  <thead>\n",
       "    <tr style=\"text-align: right;\">\n",
       "      <th></th>\n",
       "      <th>act_id</th>\n",
       "      <th>iem_cd</th>\n",
       "      <th>byn_dt</th>\n",
       "      <th>hold_d</th>\n",
       "      <th>sex_dit_cd</th>\n",
       "      <th>cus_age_stn_cd</th>\n",
       "      <th>ivs_icn_cd</th>\n",
       "      <th>cus_aet_stn_cd</th>\n",
       "      <th>mrz_pdt_tp_sgm_cd</th>\n",
       "      <th>lsg_sgm_cd</th>\n",
       "      <th>tco_cus_grd_cd</th>\n",
       "      <th>tot_ivs_te_sgm_cd</th>\n",
       "      <th>mrz_btp_dit_cd</th>\n",
       "    </tr>\n",
       "  </thead>\n",
       "  <tbody>\n",
       "    <tr>\n",
       "      <th>0</th>\n",
       "      <td>0ad104dbed99be0cd858aa772765ddedade554601a981b...</td>\n",
       "      <td>A006360</td>\n",
       "      <td>20180726</td>\n",
       "      <td>11</td>\n",
       "      <td>1</td>\n",
       "      <td>9</td>\n",
       "      <td>3</td>\n",
       "      <td>2</td>\n",
       "      <td>2</td>\n",
       "      <td>9</td>\n",
       "      <td>5</td>\n",
       "      <td>5</td>\n",
       "      <td>8</td>\n",
       "    </tr>\n",
       "    <tr>\n",
       "      <th>1</th>\n",
       "      <td>0ad104dbed99be0cd858aa772765ddedade554601a981b...</td>\n",
       "      <td>A005930</td>\n",
       "      <td>20180131</td>\n",
       "      <td>80</td>\n",
       "      <td>1</td>\n",
       "      <td>9</td>\n",
       "      <td>3</td>\n",
       "      <td>2</td>\n",
       "      <td>2</td>\n",
       "      <td>9</td>\n",
       "      <td>5</td>\n",
       "      <td>5</td>\n",
       "      <td>8</td>\n",
       "    </tr>\n",
       "    <tr>\n",
       "      <th>2</th>\n",
       "      <td>0ad104dbed99be0cd858aa772765ddedade554601a981b...</td>\n",
       "      <td>A005070</td>\n",
       "      <td>20180517</td>\n",
       "      <td>5</td>\n",
       "      <td>1</td>\n",
       "      <td>9</td>\n",
       "      <td>3</td>\n",
       "      <td>2</td>\n",
       "      <td>2</td>\n",
       "      <td>9</td>\n",
       "      <td>5</td>\n",
       "      <td>5</td>\n",
       "      <td>8</td>\n",
       "    </tr>\n",
       "    <tr>\n",
       "      <th>3</th>\n",
       "      <td>0ad104dbed99be0cd858aa772765ddedade554601a981b...</td>\n",
       "      <td>A003520</td>\n",
       "      <td>20201112</td>\n",
       "      <td>22</td>\n",
       "      <td>1</td>\n",
       "      <td>9</td>\n",
       "      <td>3</td>\n",
       "      <td>2</td>\n",
       "      <td>2</td>\n",
       "      <td>9</td>\n",
       "      <td>5</td>\n",
       "      <td>5</td>\n",
       "      <td>8</td>\n",
       "    </tr>\n",
       "    <tr>\n",
       "      <th>4</th>\n",
       "      <td>0ad104dbed99be0cd858aa772765ddedade554601a981b...</td>\n",
       "      <td>A002310</td>\n",
       "      <td>20180905</td>\n",
       "      <td>324</td>\n",
       "      <td>1</td>\n",
       "      <td>9</td>\n",
       "      <td>3</td>\n",
       "      <td>2</td>\n",
       "      <td>2</td>\n",
       "      <td>9</td>\n",
       "      <td>5</td>\n",
       "      <td>5</td>\n",
       "      <td>8</td>\n",
       "    </tr>\n",
       "  </tbody>\n",
       "</table>\n",
       "</div>"
      ],
      "text/plain": [
       "                                              act_id   iem_cd    byn_dt  \\\n",
       "0  0ad104dbed99be0cd858aa772765ddedade554601a981b...  A006360  20180726   \n",
       "1  0ad104dbed99be0cd858aa772765ddedade554601a981b...  A005930  20180131   \n",
       "2  0ad104dbed99be0cd858aa772765ddedade554601a981b...  A005070  20180517   \n",
       "3  0ad104dbed99be0cd858aa772765ddedade554601a981b...  A003520  20201112   \n",
       "4  0ad104dbed99be0cd858aa772765ddedade554601a981b...  A002310  20180905   \n",
       "\n",
       "   hold_d  sex_dit_cd  cus_age_stn_cd  ivs_icn_cd  cus_aet_stn_cd  \\\n",
       "0      11           1               9           3               2   \n",
       "1      80           1               9           3               2   \n",
       "2       5           1               9           3               2   \n",
       "3      22           1               9           3               2   \n",
       "4     324           1               9           3               2   \n",
       "\n",
       "   mrz_pdt_tp_sgm_cd  lsg_sgm_cd  tco_cus_grd_cd  tot_ivs_te_sgm_cd  \\\n",
       "0                  2           9               5                  5   \n",
       "1                  2           9               5                  5   \n",
       "2                  2           9               5                  5   \n",
       "3                  2           9               5                  5   \n",
       "4                  2           9               5                  5   \n",
       "\n",
       "   mrz_btp_dit_cd  \n",
       "0               8  \n",
       "1               8  \n",
       "2               8  \n",
       "3               8  \n",
       "4               8  "
      ]
     },
     "execution_count": 46,
     "metadata": {},
     "output_type": "execute_result"
    }
   ],
   "source": [
    "df.head()"
   ]
  },
  {
   "cell_type": "markdown",
   "metadata": {},
   "source": [
    "### 주식 보유기간(label) 분석"
   ]
  },
  {
   "cell_type": "code",
   "execution_count": 42,
   "metadata": {},
   "outputs": [],
   "source": [
    "hold = df['hold_d'].value_counts().sort_index()\n",
    "label = hold.keys()\n",
    "index = np.arange(len(label))"
   ]
  },
  {
   "cell_type": "code",
   "execution_count": 45,
   "metadata": {},
   "outputs": [
    {
     "data": {
      "text/plain": [
       "1       190008\n",
       "2        83359\n",
       "3        52303\n",
       "4        38318\n",
       "5        29640\n",
       "         ...  \n",
       "1062         1\n",
       "1131         1\n",
       "1140         1\n",
       "1173         1\n",
       "1184         1\n",
       "Name: hold_d, Length: 774, dtype: int64"
      ]
     },
     "execution_count": 45,
     "metadata": {},
     "output_type": "execute_result"
    }
   ],
   "source": [
    "hold"
   ]
  },
  {
   "cell_type": "code",
   "execution_count": 44,
   "metadata": {},
   "outputs": [
    {
     "data": {
      "image/png": "[encoded data removed]",
      "text/plain": [
       "<Figure size 432x288 with 1 Axes>"
      ]
     },
     "metadata": {
      "needs_background": "light"
     },
     "output_type": "display_data"
    }
   ],
   "source": [
    "plt.bar(index, hold)\n",
    "plt.title('Hold Day Analysis', fontsize=15)\n",
    "plt.xlabel('hold', fontsize=10)\n",
    "plt.show()"
   ]
  },
  {
   "cell_type": "code",
   "execution_count": 68,
   "metadata": {},
   "outputs": [
    {
     "name": "stdout",
     "output_type": "stream",
     "text": [
      "mean :  18.584065082644628\n"
     ]
    }
   ],
   "source": [
    "cumsum = 0\n",
    "for idx, value in enumerate(hold) :\n",
    "    cumsum += idx * value\n",
    "print(\"mean : \", cumsum / hold.sum())"
   ]
  },
  {
   "cell_type": "markdown",
   "metadata": {},
   "source": [
    "### 연령 구간에 따른 주식 보유 기간"
   ]
  },
  {
   "cell_type": "code",
   "execution_count": 51,
   "metadata": {},
   "outputs": [],
   "source": [
    "hold_age = df['hold_d'].groupby(df['cus_age_stn_cd']).mean()"
   ]
  },
  {
   "cell_type": "code",
   "execution_count": 52,
   "metadata": {},
   "outputs": [
    {
     "data": {
      "text/plain": [
       "cus_age_stn_cd\n",
       "1    15.285900\n",
       "2    17.148652\n",
       "3    20.588914\n",
       "4    20.279309\n",
       "5    23.083953\n",
       "6    21.952967\n",
       "7    16.902997\n",
       "8    18.099228\n",
       "9    14.993685\n",
       "Name: hold_d, dtype: float64"
      ]
     },
     "execution_count": 52,
     "metadata": {},
     "output_type": "execute_result"
    }
   ],
   "source": [
    "hold_age"
   ]
  },
  {
   "cell_type": "code",
   "execution_count": 53,
   "metadata": {},
   "outputs": [],
   "source": [
    "label = hold_age.keys()\n",
    "index = np.arange(len(label))"
   ]
  },
  {
   "cell_type": "code",
   "execution_count": 56,
   "metadata": {},
   "outputs": [
    {
     "data": {
      "image/png": "[encoded data removed]",
      "text/plain": [
       "<Figure size 432x288 with 1 Axes>"
      ]
     },
     "metadata": {
      "needs_background": "light"
     },
     "output_type": "display_data"
    }
   ],
   "source": [
    "plt.bar(index, hold_age)\n",
    "plt.title('Hold_Age Analysis', fontsize=15)\n",
    "plt.xlabel('age', fontsize=10)\n",
    "plt.xticks(index, label, fontsize=15)\n",
    "plt.show()"
   ]
  },
  {
   "cell_type": "markdown",
   "metadata": {},
   "source": [
    "### 투자성향에 따른 주식 보유기간 분석"
   ]
  },
  {
   "cell_type": "code",
   "execution_count": 57,
   "metadata": {},
   "outputs": [],
   "source": [
    "hold_ivs = df['hold_d'].groupby(df['ivs_icn_cd']).mean()"
   ]
  },
  {
   "cell_type": "code",
   "execution_count": 58,
   "metadata": {},
   "outputs": [
    {
     "data": {
      "text/plain": [
       "ivs_icn_cd\n",
       "0     22.516752\n",
       "1     12.944112\n",
       "2     16.454892\n",
       "3     17.103244\n",
       "4     19.741460\n",
       "5     22.818877\n",
       "9     29.513699\n",
       "99    22.361541\n",
       "Name: hold_d, dtype: float64"
      ]
     },
     "execution_count": 58,
     "metadata": {},
     "output_type": "execute_result"
    }
   ],
   "source": [
    "hold_ivs"
   ]
  },
  {
   "cell_type": "code",
   "execution_count": 59,
   "metadata": {},
   "outputs": [],
   "source": [
    "label = hold_ivs.keys()\n",
    "index = np.arange(len(label))"
   ]
  },
  {
   "cell_type": "code",
   "execution_count": 60,
   "metadata": {},
   "outputs": [
    {
     "data": {
      "image/png": "[encoded data removed]",
      "text/plain": [
       "<Figure size 432x288 with 1 Axes>"
      ]
     },
     "metadata": {
      "needs_background": "light"
     },
     "output_type": "display_data"
    }
   ],
   "source": [
    "plt.bar(index, hold_ivs)\n",
    "plt.title('Hold_IVS Analysis', fontsize=15)\n",
    "plt.xlabel('ivs', fontsize=10)\n",
    "plt.xticks(index, label, fontsize=15)\n",
    "plt.show()"
   ]
  },
  {
   "cell_type": "markdown",
   "metadata": {},
   "source": [
    "01: 안정형  \n",
    "02: 안정추구형  \n",
    "03: 위험중립형  \n",
    "04: 적극투자형  \n",
    "05: 공격투자형  \n",
    "09: 전문투자가형  \n",
    "00: 정보제공미동의  \n",
    "99: 미정의  \n",
    "\n",
    "**-> 안정형일수록 주식 보유기간이 낮음**"
   ]
  },
  {
   "cell_type": "markdown",
   "metadata": {},
   "source": [
    "### 고객자산구간에 따른 주식 보유기간 분석 "
   ]
  },
  {
   "cell_type": "code",
   "execution_count": 61,
   "metadata": {},
   "outputs": [],
   "source": [
    "hold_aet = df['hold_d'].groupby(df['cus_aet_stn_cd']).mean()"
   ]
  },
  {
   "cell_type": "code",
   "execution_count": 62,
   "metadata": {},
   "outputs": [
    {
     "data": {
      "text/plain": [
       "cus_aet_stn_cd\n",
       "1    16.443982\n",
       "2    18.715247\n",
       "3    17.975862\n",
       "4    19.885230\n",
       "5    25.948949\n",
       "6    25.704958\n",
       "Name: hold_d, dtype: float64"
      ]
     },
     "execution_count": 62,
     "metadata": {},
     "output_type": "execute_result"
    }
   ],
   "source": [
    "hold_aet"
   ]
  },
  {
   "cell_type": "code",
   "execution_count": 63,
   "metadata": {},
   "outputs": [],
   "source": [
    "label = hold_aet.keys()\n",
    "index = np.arange(len(label))"
   ]
  },
  {
   "cell_type": "code",
   "execution_count": 64,
   "metadata": {},
   "outputs": [
    {
     "data": {
      "image/png": "[encoded data removed]",
      "text/plain": [
       "<Figure size 432x288 with 1 Axes>"
      ]
     },
     "metadata": {
      "needs_background": "light"
     },
     "output_type": "display_data"
    }
   ],
   "source": [
    "plt.bar(index, hold_aet)\n",
    "plt.title('Hold_AET Analysis', fontsize=15)\n",
    "plt.xlabel('aet', fontsize=10)\n",
    "plt.xticks(index, label, fontsize=15)\n",
    "plt.show()"
   ]
  },
  {
   "cell_type": "markdown",
   "metadata": {},
   "source": [
    "01: 0원이상-1천만원미만  \n",
    "02: 1천만원이상-3천만원미만  \n",
    "03: 3천만원이상-5천만원미만  \n",
    "04: 5천만원이상-1억원미만  \n",
    "05: 1억원이상-3억원미만  \n",
    "06: 3억원이상 \n",
    "\n",
    "**-> 자산이 많을수록 보유 기간 길어짐**"
   ]
  },
  {
   "cell_type": "markdown",
   "metadata": {},
   "source": [
    "### Life Stage에 따른 주식 보유기간 분석"
   ]
  },
  {
   "cell_type": "code",
   "execution_count": 69,
   "metadata": {},
   "outputs": [],
   "source": [
    "hold_lsg = df['hold_d'].groupby(df['lsg_sgm_cd']).mean()"
   ]
  },
  {
   "cell_type": "code",
   "execution_count": 70,
   "metadata": {},
   "outputs": [
    {
     "data": {
      "text/plain": [
       "lsg_sgm_cd\n",
       "2    16.782481\n",
       "3    18.757898\n",
       "4    24.000614\n",
       "5    20.917437\n",
       "6    19.536418\n",
       "7    19.848741\n",
       "8    18.276048\n",
       "9    14.987741\n",
       "Name: hold_d, dtype: float64"
      ]
     },
     "execution_count": 70,
     "metadata": {},
     "output_type": "execute_result"
    }
   ],
   "source": [
    "hold_lsg"
   ]
  },
  {
   "cell_type": "code",
   "execution_count": 72,
   "metadata": {},
   "outputs": [],
   "source": [
    "label = hold_lsg.keys()\n",
    "index = np.arange(len(label))"
   ]
  },
  {
   "cell_type": "code",
   "execution_count": 73,
   "metadata": {},
   "outputs": [
    {
     "data": {
      "image/png": "[encoded data removed]",
      "text/plain": [
       "<Figure size 432x288 with 1 Axes>"
      ]
     },
     "metadata": {
      "needs_background": "light"
     },
     "output_type": "display_data"
    }
   ],
   "source": [
    "plt.bar(index, hold_lsg)\n",
    "plt.title('Hold_LSG Analysis', fontsize=15)\n",
    "plt.xlabel('lsg', fontsize=10)\n",
    "plt.xticks(index, label, fontsize=15)\n",
    "plt.show()"
   ]
  },
  {
   "cell_type": "markdown",
   "metadata": {},
   "source": [
    "02: 사회초년생 (20-29세)  \n",
    "03: 가족형성기_남자 (30-39세 & 남자)  \n",
    "04: 가족형성기_여자 (30-39세 & 여자)  \n",
    "05: 가족성숙기_직장인 (40-59세 & 직장인 & 남자)  \n",
    "06: 가족성숙기_주부 (40-59세 & 주부 & 여자 )  \n",
    "07: 가족성숙기_남자 (40-59세 & 기타 & 남자 )  \n",
    "08: 가족성숙기_여자 (40-59세 & 기타 & 여자)  \n",
    "09: 은퇴기 (60-69세)  "
   ]
  },
  {
   "cell_type": "markdown",
   "metadata": {},
   "source": [
    "### lifestage와 투자성향 관계 분석\n",
    "-> 주식 보유 기간이 가장 긴 04(가족형성기 여자 (30~39세 & 여자)의 경우 05 공격투자형을 보이는 경우가 큰 것을 확인 가능)"
   ]
  },
  {
   "cell_type": "code",
   "execution_count": 94,
   "metadata": {},
   "outputs": [
    {
     "data": {
      "text/plain": [
       "<AxesSubplot:xlabel='ivs_icn_cd'>"
      ]
     },
     "execution_count": 94,
     "metadata": {},
     "output_type": "execute_result"
    },
    {
     "data": {
      "image/png": "[encoded data removed]",
      "text/plain": [
       "<Figure size 432x288 with 1 Axes>"
      ]
     },
     "metadata": {
      "needs_background": "light"
     },
     "output_type": "display_data"
    }
   ],
   "source": [
    "pd.crosstab(cus_df['ivs_icn_cd'],cus_df['lsg_sgm_cd']).plot.bar()"
   ]
  },
  {
   "cell_type": "markdown",
   "metadata": {},
   "source": [
    "### 고객 등급에 따른 주식 보유기간 분석"
   ]
  },
  {
   "cell_type": "code",
   "execution_count": 96,
   "metadata": {},
   "outputs": [],
   "source": [
    "hold_tco = df['hold_d'].groupby(df['tco_cus_grd_cd']).mean()"
   ]
  },
  {
   "cell_type": "code",
   "execution_count": 97,
   "metadata": {},
   "outputs": [
    {
     "data": {
      "text/plain": [
       "tco_cus_grd_cd\n",
       "1     21.298104\n",
       "2     25.237621\n",
       "3     22.141544\n",
       "4     19.228788\n",
       "5     17.702088\n",
       "9     18.814454\n",
       "99     6.010101\n",
       "Name: hold_d, dtype: float64"
      ]
     },
     "execution_count": 97,
     "metadata": {},
     "output_type": "execute_result"
    }
   ],
   "source": [
    "hold_tco"
   ]
  },
  {
   "cell_type": "code",
   "execution_count": 98,
   "metadata": {},
   "outputs": [],
   "source": [
    "label = hold_tco.keys()\n",
    "index = np.arange(len(label))"
   ]
  },
  {
   "cell_type": "code",
   "execution_count": 99,
   "metadata": {},
   "outputs": [
    {
     "data": {
      "image/png": "[encoded data removed]",
      "text/plain": [
       "<Figure size 432x288 with 1 Axes>"
      ]
     },
     "metadata": {
      "needs_background": "light"
     },
     "output_type": "display_data"
    }
   ],
   "source": [
    "plt.bar(index, hold_tco)\n",
    "plt.title('Hold_TCO Analysis', fontsize=15)\n",
    "plt.xlabel('tco', fontsize=10)\n",
    "plt.xticks(index, label, fontsize=15)\n",
    "plt.show()"
   ]
  },
  {
   "cell_type": "markdown",
   "metadata": {},
   "source": [
    "01: 탑클래스 (자산1)10억이상 or 수익기여도2) 5백만원 이상)  \n",
    "02: 골드 (자산3억이상 or 수익기여도 3백만원 이상)  \n",
    "03: 로얄 (자산1억이상 or 수익기여도 1백만원 이상)  \n",
    "04: 그린 (자산3천이상 or 수익기여도 5십만원 이상)  \n",
    "05: 블루 (자산1천이상 or 수익기여도 1십만원 이상)  \n",
    "09: 등급 미정의  \n",
    "99: 미정의 (결측치)  "
   ]
  },
  {
   "cell_type": "markdown",
   "metadata": {},
   "source": [
    "### 총 투자기간에 따른 주식 보유 기간 분석"
   ]
  },
  {
   "cell_type": "code",
   "execution_count": 100,
   "metadata": {},
   "outputs": [],
   "source": [
    "hold_tot = df['hold_d'].groupby(df['tot_ivs_te_sgm_cd']).mean()"
   ]
  },
  {
   "cell_type": "code",
   "execution_count": 101,
   "metadata": {},
   "outputs": [
    {
     "data": {
      "text/plain": [
       "tot_ivs_te_sgm_cd\n",
       "1    12.310893\n",
       "2    12.556034\n",
       "3    20.111816\n",
       "4    26.488120\n",
       "5    23.119426\n",
       "6    21.441604\n",
       "Name: hold_d, dtype: float64"
      ]
     },
     "execution_count": 101,
     "metadata": {},
     "output_type": "execute_result"
    }
   ],
   "source": [
    "hold_tot"
   ]
  },
  {
   "cell_type": "code",
   "execution_count": 104,
   "metadata": {},
   "outputs": [],
   "source": [
    "label = hold_tot.keys()\n",
    "index = np.arange(len(label))"
   ]
  },
  {
   "cell_type": "code",
   "execution_count": 105,
   "metadata": {},
   "outputs": [
    {
     "data": {
      "image/png": "[encoded data removed]",
      "text/plain": [
       "<Figure size 432x288 with 1 Axes>"
      ]
     },
     "metadata": {
      "needs_background": "light"
     },
     "output_type": "display_data"
    }
   ],
   "source": [
    "plt.bar(index, hold_tot)\n",
    "plt.title('Hold_TOT Analysis', fontsize=15)\n",
    "plt.xlabel('tot', fontsize=10)\n",
    "plt.xticks(index, label, fontsize=15)\n",
    "plt.show()"
   ]
  },
  {
   "cell_type": "markdown",
   "metadata": {},
   "source": [
    "계좌를 개설한 이래 고객이 100만원 이상 보유한 개월 수  \n",
    "01: 6개월 미만  \n",
    "02: 6개월-1년 미만  \n",
    "03: 1년-3년 미만  \n",
    "04: 3년-5년 미만  \n",
    "05: 5년-10년 미만  \n",
    "06: 10년 이상  "
   ]
  },
  {
   "cell_type": "markdown",
   "metadata": {},
   "source": [
    "#### 연령 별 총 투자기간 분석\n",
    "투자 기간이 길다는 뜻은 (예를 들면 10년 이상) 연령대가 그만큼 높을 수 있다고 볼 수도 있어 보유 개월 수가 어느 정도 이상 증가하면 투자 기간이 줄어드는 이유가 연령대인가 하여 분석해보았으나 딱히 그렇지도 않은 듯"
   ]
  },
  {
   "cell_type": "code",
   "execution_count": 106,
   "metadata": {},
   "outputs": [
    {
     "data": {
      "text/plain": [
       "<AxesSubplot:xlabel='cus_age_stn_cd'>"
      ]
     },
     "execution_count": 106,
     "metadata": {},
     "output_type": "execute_result"
    },
    {
     "data": {
      "image/png": "[encoded data removed]",
      "text/plain": [
       "<Figure size 432x288 with 1 Axes>"
      ]
     },
     "metadata": {
      "needs_background": "light"
     },
     "output_type": "display_data"
    }
   ],
   "source": [
    "pd.crosstab(cus_df['cus_age_stn_cd'],cus_df['tot_ivs_te_sgm_cd']).plot.bar()"
   ]
  },
  {
   "cell_type": "markdown",
   "metadata": {},
   "source": [
    "### 주거래 업종 부문에 따른 주식 보유 기간 분석"
   ]
  },
  {
   "cell_type": "code",
   "execution_count": 107,
   "metadata": {},
   "outputs": [],
   "source": [
    "hold_mrz_btp = df['hold_d'].groupby(df['mrz_btp_dit_cd']).mean()"
   ]
  },
  {
   "cell_type": "code",
   "execution_count": 108,
   "metadata": {},
   "outputs": [
    {
     "data": {
      "text/plain": [
       "mrz_btp_dit_cd\n",
       "1     24.758744\n",
       "2     22.087984\n",
       "3     20.663376\n",
       "4     19.087474\n",
       "5     20.685079\n",
       "6     20.333439\n",
       "7     21.868174\n",
       "8     19.437650\n",
       "9     23.432756\n",
       "10    14.818892\n",
       "11    25.680756\n",
       "12    20.994593\n",
       "13    20.362778\n",
       "14    23.239887\n",
       "15    18.620184\n",
       "16    38.934054\n",
       "Name: hold_d, dtype: float64"
      ]
     },
     "execution_count": 108,
     "metadata": {},
     "output_type": "execute_result"
    }
   ],
   "source": [
    "hold_mrz_btp"
   ]
  },
  {
   "cell_type": "code",
   "execution_count": 109,
   "metadata": {},
   "outputs": [],
   "source": [
    "label = hold_mrz_btp.keys()\n",
    "index = np.arange(len(label))"
   ]
  },
  {
   "cell_type": "code",
   "execution_count": 110,
   "metadata": {},
   "outputs": [
    {
     "data": {
      "image/png": "[encoded data removed]",
      "text/plain": [
       "<Figure size 432x288 with 1 Axes>"
      ]
     },
     "metadata": {
      "needs_background": "light"
     },
     "output_type": "display_data"
    }
   ],
   "source": [
    "plt.bar(index, hold_mrz_btp)\n",
    "plt.title('Hold_MRZ_BTP Analysis', fontsize=15)\n",
    "plt.xlabel('tot', fontsize=10)\n",
    "plt.xticks(index, label, fontsize=15)\n",
    "plt.show()"
   ]
  },
  {
   "cell_type": "markdown",
   "metadata": {},
   "source": [
    "해당월 거래 금액이 가장 큰 업종 구분   \n",
    "01: 건설업  \n",
    "02: 금융업  \n",
    "03: 기계  \n",
    "04: 방송/통신  \n",
    "05: 서비스/오락/문화  \n",
    "06: 운송/운수  \n",
    "07: 유통  \n",
    "08: 의료/의약  \n",
    "09: 전기/전자  \n",
    "10: 제조  \n",
    "11: 철강  \n",
    "12: 화학  \n",
    "13: IT  \n",
    "14: 기타  \n",
    "15: 혼합  \n",
    "16: 비매매  \n",
    "\n",
    "**-> 위에서 분석한 것을 보면 제조 부분이 주거래 업종인 경우가 압도적으로 많았으나 반대로 주식 보유 기간은 압도적으로 제조 부분이 적음**"
   ]
  },
  {
   "cell_type": "code",
   "execution_count": null,
   "metadata": {},
   "outputs": [],
   "source": []
  }
 ],
 "metadata": {
  "kernelspec": {
   "display_name": "Python 3",
   "language": "python",
   "name": "python3"
  },
  "language_info": {
   "codemirror_mode": {
    "name": "ipython",
    "version": 3
   },
   "file_extension": ".py",
   "mimetype": "text/x-python",
   "name": "python",
   "nbconvert_exporter": "python",
   "pygments_lexer": "ipython3",
   "version": "3.8.8"
  }
 },
 "nbformat": 4,
 "nbformat_minor": 4
}
