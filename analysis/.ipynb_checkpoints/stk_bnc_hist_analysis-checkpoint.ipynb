{
 "cells": [
  {
   "cell_type": "markdown",
   "metadata": {},
   "source": [
    "## 국내주식 잔고이력\u001c",
    "(STK_BNC_HIST)\n",
    "\n",
    "기간 : 2016년 1월 ~ 2020년 12월\n",
    "- act_id : 계좌번호 (EX. 27666E123D)\n",
    "- bse_dt : 기준일자 (EX. 20200522) -> 조회\n",
    "- iem_cd : 종목코드 (EX. A000100)\n",
    "- bnc_qty : 잔고수량 (EX. 500), 종목 보유 잔고수량을 말한다.  -> 몇 주 가지고 있냐? \n",
    "- tot_aet_amt: 잔고금액 (EX. 945000), 종목 평가금액을 말한다. -> 주가g(날마다 바뀜) * 수량\n",
    "- stk_par_pr : 액면가\u001e",
    " (EX. 1000), 주당 액면가를 말한다. ->  기업이 주식을 최초로 발행할때 정한 주식 1주당 가격"
   ]
  },
  {
   "cell_type": "code",
   "execution_count": 403,
   "metadata": {},
   "outputs": [],
   "source": [
    "import pandas as pd\n",
    "import numpy as np\n",
    "import os\n",
    "import sys\n",
    "sys.path.append('../')\n",
    "\n",
    "from pandas import Series, DataFrame\n",
    "import matplotlib.pyplot as plt\n",
    "import core.config as conf\n",
    "from matplotlib import rc\n",
    "\n",
    "%matplotlib inline"
   ]
  },
  {
   "cell_type": "code",
   "execution_count": 404,
   "metadata": {},
   "outputs": [],
   "source": [
    "# 맥북\n",
    "rc('font', family='AppleGothic')\n",
    "plt.rcParams['axes.unicode_minus'] = False"
   ]
  },
  {
   "cell_type": "code",
   "execution_count": 405,
   "metadata": {},
   "outputs": [],
   "source": [
    "# hist = pd.read_csv(conf.data_path + 'stk_bnc_hist.csv')\n",
    "hist = pd.read_csv('~/Study/' + conf.data_path[2:] + 'stk_bnc_hist.csv')\n",
    "iem = pd.read_csv('~/Study/' + conf.data_path[2:] + 'iem_info_20210902.csv')\n",
    "cus = pd.read_csv('~/Study/' + conf.data_path[2:] + 'cus_info.csv')"
   ]
  },
  {
   "cell_type": "code",
   "execution_count": 406,
   "metadata": {},
   "outputs": [
    {
     "data": {
      "text/html": [
       "<div>\n",
       "<style scoped>\n",
       "    .dataframe tbody tr th:only-of-type {\n",
       "        vertical-align: middle;\n",
       "    }\n",
       "\n",
       "    .dataframe tbody tr th {\n",
       "        vertical-align: top;\n",
       "    }\n",
       "\n",
       "    .dataframe thead th {\n",
       "        text-align: right;\n",
       "    }\n",
       "</style>\n",
       "<table border=\"1\" class=\"dataframe\">\n",
       "  <thead>\n",
       "    <tr style=\"text-align: right;\">\n",
       "      <th></th>\n",
       "      <th>act_id</th>\n",
       "      <th>bse_dt</th>\n",
       "      <th>iem_cd</th>\n",
       "      <th>bnc_qty</th>\n",
       "      <th>tot_aet_amt</th>\n",
       "      <th>stk_par_pr</th>\n",
       "    </tr>\n",
       "  </thead>\n",
       "  <tbody>\n",
       "    <tr>\n",
       "      <th>0</th>\n",
       "      <td>1119c23c3a504ca7b75060277410c0f6fb9018ec7638c2...</td>\n",
       "      <td>20200820</td>\n",
       "      <td>A008770</td>\n",
       "      <td>40.0</td>\n",
       "      <td>2828000.0</td>\n",
       "      <td>5000.0</td>\n",
       "    </tr>\n",
       "    <tr>\n",
       "      <th>1</th>\n",
       "      <td>1119c23c3a504ca7b75060277410c0f6fb9018ec7638c2...</td>\n",
       "      <td>20200623</td>\n",
       "      <td>A008770</td>\n",
       "      <td>20.0</td>\n",
       "      <td>1390000.0</td>\n",
       "      <td>5000.0</td>\n",
       "    </tr>\n",
       "    <tr>\n",
       "      <th>2</th>\n",
       "      <td>1119c23c3a504ca7b75060277410c0f6fb9018ec7638c2...</td>\n",
       "      <td>20160104</td>\n",
       "      <td>A005940</td>\n",
       "      <td>311.0</td>\n",
       "      <td>2982490.0</td>\n",
       "      <td>5000.0</td>\n",
       "    </tr>\n",
       "    <tr>\n",
       "      <th>3</th>\n",
       "      <td>1119c23c3a504ca7b75060277410c0f6fb9018ec7638c2...</td>\n",
       "      <td>20200814</td>\n",
       "      <td>A005930</td>\n",
       "      <td>40.0</td>\n",
       "      <td>2320000.0</td>\n",
       "      <td>100.0</td>\n",
       "    </tr>\n",
       "    <tr>\n",
       "      <th>4</th>\n",
       "      <td>1119c23c3a504ca7b75060277410c0f6fb9018ec7638c2...</td>\n",
       "      <td>20200623</td>\n",
       "      <td>A005930</td>\n",
       "      <td>20.0</td>\n",
       "      <td>1028000.0</td>\n",
       "      <td>100.0</td>\n",
       "    </tr>\n",
       "  </tbody>\n",
       "</table>\n",
       "</div>"
      ],
      "text/plain": [
       "                                              act_id    bse_dt   iem_cd  \\\n",
       "0  1119c23c3a504ca7b75060277410c0f6fb9018ec7638c2...  20200820  A008770   \n",
       "1  1119c23c3a504ca7b75060277410c0f6fb9018ec7638c2...  20200623  A008770   \n",
       "2  1119c23c3a504ca7b75060277410c0f6fb9018ec7638c2...  20160104  A005940   \n",
       "3  1119c23c3a504ca7b75060277410c0f6fb9018ec7638c2...  20200814  A005930   \n",
       "4  1119c23c3a504ca7b75060277410c0f6fb9018ec7638c2...  20200623  A005930   \n",
       "\n",
       "   bnc_qty  tot_aet_amt  stk_par_pr  \n",
       "0     40.0    2828000.0      5000.0  \n",
       "1     20.0    1390000.0      5000.0  \n",
       "2    311.0    2982490.0      5000.0  \n",
       "3     40.0    2320000.0       100.0  \n",
       "4     20.0    1028000.0       100.0  "
      ]
     },
     "execution_count": 406,
     "metadata": {},
     "output_type": "execute_result"
    }
   ],
   "source": [
    "hist.head()"
   ]
  },
  {
   "cell_type": "code",
   "execution_count": 407,
   "metadata": {},
   "outputs": [
    {
     "data": {
      "text/html": [
       "<div>\n",
       "<style scoped>\n",
       "    .dataframe tbody tr th:only-of-type {\n",
       "        vertical-align: middle;\n",
       "    }\n",
       "\n",
       "    .dataframe tbody tr th {\n",
       "        vertical-align: top;\n",
       "    }\n",
       "\n",
       "    .dataframe thead th {\n",
       "        text-align: right;\n",
       "    }\n",
       "</style>\n",
       "<table border=\"1\" class=\"dataframe\">\n",
       "  <thead>\n",
       "    <tr style=\"text-align: right;\">\n",
       "      <th></th>\n",
       "      <th>iem_cd</th>\n",
       "      <th>iem_krl_nm</th>\n",
       "      <th>btp_cfc_cd</th>\n",
       "      <th>mkt_pr_tal_scl_tp_cd</th>\n",
       "      <th>stk_dit_cd</th>\n",
       "    </tr>\n",
       "  </thead>\n",
       "  <tbody>\n",
       "    <tr>\n",
       "      <th>0</th>\n",
       "      <td>A000020</td>\n",
       "      <td>동화약품</td>\n",
       "      <td>8</td>\n",
       "      <td>2</td>\n",
       "      <td>99</td>\n",
       "    </tr>\n",
       "    <tr>\n",
       "      <th>1</th>\n",
       "      <td>A000080</td>\n",
       "      <td>하이트진로</td>\n",
       "      <td>14</td>\n",
       "      <td>2</td>\n",
       "      <td>1</td>\n",
       "    </tr>\n",
       "    <tr>\n",
       "      <th>2</th>\n",
       "      <td>A000180</td>\n",
       "      <td>성창기업지주</td>\n",
       "      <td>5</td>\n",
       "      <td>3</td>\n",
       "      <td>99</td>\n",
       "    </tr>\n",
       "    <tr>\n",
       "      <th>3</th>\n",
       "      <td>A000227</td>\n",
       "      <td>유유제약2우B</td>\n",
       "      <td>8</td>\n",
       "      <td>99</td>\n",
       "      <td>99</td>\n",
       "    </tr>\n",
       "    <tr>\n",
       "      <th>4</th>\n",
       "      <td>A000325</td>\n",
       "      <td>노루홀딩스우</td>\n",
       "      <td>2</td>\n",
       "      <td>99</td>\n",
       "      <td>99</td>\n",
       "    </tr>\n",
       "  </tbody>\n",
       "</table>\n",
       "</div>"
      ],
      "text/plain": [
       "    iem_cd iem_krl_nm  btp_cfc_cd  mkt_pr_tal_scl_tp_cd  stk_dit_cd\n",
       "0  A000020       동화약품           8                     2          99\n",
       "1  A000080      하이트진로          14                     2           1\n",
       "2  A000180     성창기업지주           5                     3          99\n",
       "3  A000227    유유제약2우B           8                    99          99\n",
       "4  A000325     노루홀딩스우           2                    99          99"
      ]
     },
     "execution_count": 407,
     "metadata": {},
     "output_type": "execute_result"
    }
   ],
   "source": [
    "iem.head()"
   ]
  },
  {
   "cell_type": "code",
   "execution_count": 408,
   "metadata": {},
   "outputs": [
    {
     "data": {
      "text/html": [
       "<div>\n",
       "<style scoped>\n",
       "    .dataframe tbody tr th:only-of-type {\n",
       "        vertical-align: middle;\n",
       "    }\n",
       "\n",
       "    .dataframe tbody tr th {\n",
       "        vertical-align: top;\n",
       "    }\n",
       "\n",
       "    .dataframe thead th {\n",
       "        text-align: right;\n",
       "    }\n",
       "</style>\n",
       "<table border=\"1\" class=\"dataframe\">\n",
       "  <thead>\n",
       "    <tr style=\"text-align: right;\">\n",
       "      <th></th>\n",
       "      <th>act_id</th>\n",
       "      <th>sex_dit_cd</th>\n",
       "      <th>cus_age_stn_cd</th>\n",
       "      <th>ivs_icn_cd</th>\n",
       "      <th>cus_aet_stn_cd</th>\n",
       "      <th>mrz_pdt_tp_sgm_cd</th>\n",
       "      <th>lsg_sgm_cd</th>\n",
       "      <th>tco_cus_grd_cd</th>\n",
       "      <th>tot_ivs_te_sgm_cd</th>\n",
       "      <th>mrz_btp_dit_cd</th>\n",
       "    </tr>\n",
       "  </thead>\n",
       "  <tbody>\n",
       "    <tr>\n",
       "      <th>0</th>\n",
       "      <td>64aae8dd71e5c0761000db9f9a6779e504e7a4aa9dc097...</td>\n",
       "      <td>1</td>\n",
       "      <td>4</td>\n",
       "      <td>99</td>\n",
       "      <td>1</td>\n",
       "      <td>2</td>\n",
       "      <td>3</td>\n",
       "      <td>3</td>\n",
       "      <td>6</td>\n",
       "      <td>16</td>\n",
       "    </tr>\n",
       "    <tr>\n",
       "      <th>1</th>\n",
       "      <td>5f7c3a8f37d9c268d06130ff0be5d32a1b9ef68c13049f...</td>\n",
       "      <td>1</td>\n",
       "      <td>6</td>\n",
       "      <td>4</td>\n",
       "      <td>4</td>\n",
       "      <td>2</td>\n",
       "      <td>5</td>\n",
       "      <td>2</td>\n",
       "      <td>6</td>\n",
       "      <td>1</td>\n",
       "    </tr>\n",
       "    <tr>\n",
       "      <th>2</th>\n",
       "      <td>1119c23c3a504ca7b75060277410c0f6fb9018ec7638c2...</td>\n",
       "      <td>2</td>\n",
       "      <td>7</td>\n",
       "      <td>4</td>\n",
       "      <td>3</td>\n",
       "      <td>2</td>\n",
       "      <td>5</td>\n",
       "      <td>5</td>\n",
       "      <td>6</td>\n",
       "      <td>9</td>\n",
       "    </tr>\n",
       "    <tr>\n",
       "      <th>3</th>\n",
       "      <td>6d497facfa1ea5901b827335553331f8555fec02a8184f...</td>\n",
       "      <td>2</td>\n",
       "      <td>6</td>\n",
       "      <td>4</td>\n",
       "      <td>4</td>\n",
       "      <td>8</td>\n",
       "      <td>5</td>\n",
       "      <td>3</td>\n",
       "      <td>6</td>\n",
       "      <td>16</td>\n",
       "    </tr>\n",
       "    <tr>\n",
       "      <th>4</th>\n",
       "      <td>b727c78d2cfc246c97b677f29a034399a0c7e7873fff44...</td>\n",
       "      <td>1</td>\n",
       "      <td>5</td>\n",
       "      <td>2</td>\n",
       "      <td>2</td>\n",
       "      <td>2</td>\n",
       "      <td>5</td>\n",
       "      <td>5</td>\n",
       "      <td>5</td>\n",
       "      <td>16</td>\n",
       "    </tr>\n",
       "  </tbody>\n",
       "</table>\n",
       "</div>"
      ],
      "text/plain": [
       "                                              act_id  sex_dit_cd  \\\n",
       "0  64aae8dd71e5c0761000db9f9a6779e504e7a4aa9dc097...           1   \n",
       "1  5f7c3a8f37d9c268d06130ff0be5d32a1b9ef68c13049f...           1   \n",
       "2  1119c23c3a504ca7b75060277410c0f6fb9018ec7638c2...           2   \n",
       "3  6d497facfa1ea5901b827335553331f8555fec02a8184f...           2   \n",
       "4  b727c78d2cfc246c97b677f29a034399a0c7e7873fff44...           1   \n",
       "\n",
       "   cus_age_stn_cd  ivs_icn_cd  cus_aet_stn_cd  mrz_pdt_tp_sgm_cd  lsg_sgm_cd  \\\n",
       "0               4          99               1                  2           3   \n",
       "1               6           4               4                  2           5   \n",
       "2               7           4               3                  2           5   \n",
       "3               6           4               4                  8           5   \n",
       "4               5           2               2                  2           5   \n",
       "\n",
       "   tco_cus_grd_cd  tot_ivs_te_sgm_cd  mrz_btp_dit_cd  \n",
       "0               3                  6              16  \n",
       "1               2                  6               1  \n",
       "2               5                  6               9  \n",
       "3               3                  6              16  \n",
       "4               5                  5              16  "
      ]
     },
     "execution_count": 408,
     "metadata": {},
     "output_type": "execute_result"
    }
   ],
   "source": [
    "cus.head()"
   ]
  },
  {
   "cell_type": "markdown",
   "metadata": {},
   "source": [
    "## 계좌 번호 별 보유 주식 종목\n",
    "\n",
    "- act_id : 계좌 번호 (9992개)\n",
    "- iem_cd : 종목 코드"
   ]
  },
  {
   "cell_type": "code",
   "execution_count": 409,
   "metadata": {},
   "outputs": [
    {
     "data": {
      "text/html": [
       "<div>\n",
       "<style scoped>\n",
       "    .dataframe tbody tr th:only-of-type {\n",
       "        vertical-align: middle;\n",
       "    }\n",
       "\n",
       "    .dataframe tbody tr th {\n",
       "        vertical-align: top;\n",
       "    }\n",
       "\n",
       "    .dataframe thead th {\n",
       "        text-align: right;\n",
       "    }\n",
       "</style>\n",
       "<table border=\"1\" class=\"dataframe\">\n",
       "  <thead>\n",
       "    <tr style=\"text-align: right;\">\n",
       "      <th></th>\n",
       "      <th>act_id</th>\n",
       "    </tr>\n",
       "  </thead>\n",
       "  <tbody>\n",
       "    <tr>\n",
       "      <th>0</th>\n",
       "      <td>1119c23c3a504ca7b75060277410c0f6fb9018ec7638c2...</td>\n",
       "    </tr>\n",
       "    <tr>\n",
       "      <th>1</th>\n",
       "      <td>66d8611661423c1e0764994be4a7afe772e70a8f7f3cd2...</td>\n",
       "    </tr>\n",
       "    <tr>\n",
       "      <th>2</th>\n",
       "      <td>51c0d868a0d91c15a5eefdd68fbca1d1c5e3215fcebb33...</td>\n",
       "    </tr>\n",
       "    <tr>\n",
       "      <th>3</th>\n",
       "      <td>dbc7f1c8694e7a40827680f9d8b8538db774a134fa24bb...</td>\n",
       "    </tr>\n",
       "    <tr>\n",
       "      <th>4</th>\n",
       "      <td>7a17368be2d52cf0c0bd1873748d09ebf416c437835ea1...</td>\n",
       "    </tr>\n",
       "    <tr>\n",
       "      <th>...</th>\n",
       "      <td>...</td>\n",
       "    </tr>\n",
       "    <tr>\n",
       "      <th>9987</th>\n",
       "      <td>39e431e1f1c4398e822c78420fa37cde61b521d0ae0ea9...</td>\n",
       "    </tr>\n",
       "    <tr>\n",
       "      <th>9988</th>\n",
       "      <td>9aca83b59ffcc920ef4d6f577e45041cf98ecc70160309...</td>\n",
       "    </tr>\n",
       "    <tr>\n",
       "      <th>9989</th>\n",
       "      <td>ba4c5e445f98014ba264571300430c4f4b75a81dab0256...</td>\n",
       "    </tr>\n",
       "    <tr>\n",
       "      <th>9990</th>\n",
       "      <td>3e51702eea7420c4c0c68831b42bc7dea1b79064df6692...</td>\n",
       "    </tr>\n",
       "    <tr>\n",
       "      <th>9991</th>\n",
       "      <td>720aa28d24bfa8fbeddf4fe625cb53af0a6f7ff2d526de...</td>\n",
       "    </tr>\n",
       "  </tbody>\n",
       "</table>\n",
       "<p>9992 rows × 1 columns</p>\n",
       "</div>"
      ],
      "text/plain": [
       "                                                 act_id\n",
       "0     1119c23c3a504ca7b75060277410c0f6fb9018ec7638c2...\n",
       "1     66d8611661423c1e0764994be4a7afe772e70a8f7f3cd2...\n",
       "2     51c0d868a0d91c15a5eefdd68fbca1d1c5e3215fcebb33...\n",
       "3     dbc7f1c8694e7a40827680f9d8b8538db774a134fa24bb...\n",
       "4     7a17368be2d52cf0c0bd1873748d09ebf416c437835ea1...\n",
       "...                                                 ...\n",
       "9987  39e431e1f1c4398e822c78420fa37cde61b521d0ae0ea9...\n",
       "9988  9aca83b59ffcc920ef4d6f577e45041cf98ecc70160309...\n",
       "9989  ba4c5e445f98014ba264571300430c4f4b75a81dab0256...\n",
       "9990  3e51702eea7420c4c0c68831b42bc7dea1b79064df6692...\n",
       "9991  720aa28d24bfa8fbeddf4fe625cb53af0a6f7ff2d526de...\n",
       "\n",
       "[9992 rows x 1 columns]"
      ]
     },
     "execution_count": 409,
     "metadata": {},
     "output_type": "execute_result"
    }
   ],
   "source": [
    "act_id = hist['act_id'].unique()\n",
    "id_f = pd.DataFrame(act_id, columns=['act_id'])\n",
    "id_f"
   ]
  },
  {
   "cell_type": "markdown",
   "metadata": {},
   "source": [
    "### 계좌 번호 별 보유 주식 코드 리스트 & 개수\n"
   ]
  },
  {
   "cell_type": "code",
   "execution_count": 410,
   "metadata": {},
   "outputs": [
    {
     "name": "stderr",
     "output_type": "stream",
     "text": [
      "<ipython-input-410-6730f625fd6a>:14: SettingWithCopyWarning: \n",
      "A value is trying to be set on a copy of a slice from a DataFrame\n",
      "\n",
      "See the caveats in the documentation: https://pandas.pydata.org/pandas-docs/stable/user_guide/indexing.html#returning-a-view-versus-a-copy\n",
      "  id_cd_list['count'][i] = count\n"
     ]
    },
    {
     "data": {
      "text/html": [
       "<div>\n",
       "<style scoped>\n",
       "    .dataframe tbody tr th:only-of-type {\n",
       "        vertical-align: middle;\n",
       "    }\n",
       "\n",
       "    .dataframe tbody tr th {\n",
       "        vertical-align: top;\n",
       "    }\n",
       "\n",
       "    .dataframe thead th {\n",
       "        text-align: right;\n",
       "    }\n",
       "</style>\n",
       "<table border=\"1\" class=\"dataframe\">\n",
       "  <thead>\n",
       "    <tr style=\"text-align: right;\">\n",
       "      <th></th>\n",
       "      <th>act_id</th>\n",
       "      <th>iem_cd_list</th>\n",
       "      <th>count</th>\n",
       "    </tr>\n",
       "  </thead>\n",
       "  <tbody>\n",
       "    <tr>\n",
       "      <th>0</th>\n",
       "      <td>0000c7a5a5a1db9c7e890da984b20d544c09cb6f51c546...</td>\n",
       "      <td>{A079980, A093370, A104040, A033270, A247540, ...</td>\n",
       "      <td>27</td>\n",
       "    </tr>\n",
       "    <tr>\n",
       "      <th>1</th>\n",
       "      <td>0007f3d10282e6f9de1eb445a64eb1f13e9ed2308cfbfa...</td>\n",
       "      <td>{A092220, A000660, A060250, A227950, A033270, ...</td>\n",
       "      <td>32</td>\n",
       "    </tr>\n",
       "    <tr>\n",
       "      <th>2</th>\n",
       "      <td>0008d1bfac569bdb998897e2eb8519dec06b9277a686f4...</td>\n",
       "      <td>{A052020, A009420, A179900, A053800, A096630, ...</td>\n",
       "      <td>51</td>\n",
       "    </tr>\n",
       "    <tr>\n",
       "      <th>3</th>\n",
       "      <td>000a83a961cbcbce40673aed998effbd462fb10dcac8e6...</td>\n",
       "      <td>{A054050, A066570, A035720, A079160, A001040, ...</td>\n",
       "      <td>14</td>\n",
       "    </tr>\n",
       "    <tr>\n",
       "      <th>4</th>\n",
       "      <td>000b92ca83a96312a0909b1f489340f4d399c86555012f...</td>\n",
       "      <td>{A367380, A005930, A000660, A360200, A051910, ...</td>\n",
       "      <td>6</td>\n",
       "    </tr>\n",
       "    <tr>\n",
       "      <th>...</th>\n",
       "      <td>...</td>\n",
       "      <td>...</td>\n",
       "      <td>...</td>\n",
       "    </tr>\n",
       "    <tr>\n",
       "      <th>9987</th>\n",
       "      <td>ffea89aa464a4fcf8a5416989d21deef4e748192ba17bf...</td>\n",
       "      <td>{A034220, A066570, A153490, A082850, A037400}</td>\n",
       "      <td>5</td>\n",
       "    </tr>\n",
       "    <tr>\n",
       "      <th>9988</th>\n",
       "      <td>ffecc8e2823943ef1a7b0d9c6512f716a88032a1bdf7ba...</td>\n",
       "      <td>{A005360, A004770, A038340, A118990, A247540, ...</td>\n",
       "      <td>41</td>\n",
       "    </tr>\n",
       "    <tr>\n",
       "      <th>9989</th>\n",
       "      <td>ffee399294db1c721e010cbf3dae5c8a1f140dbaf2dcae...</td>\n",
       "      <td>{A004370, A104040, A012800, A068270, A082800, ...</td>\n",
       "      <td>27</td>\n",
       "    </tr>\n",
       "    <tr>\n",
       "      <th>9990</th>\n",
       "      <td>fff7d563e388744fdc1ca90153ec0161d1345511cb9070...</td>\n",
       "      <td>{A067630, A009420, A004770, A091090, A000995, ...</td>\n",
       "      <td>29</td>\n",
       "    </tr>\n",
       "    <tr>\n",
       "      <th>9991</th>\n",
       "      <td>fff9cf3aaffd32dcbf70dce8e5216411f9d38537b477d6...</td>\n",
       "      <td>{A298040, A043200, A253450, A004770, A293490, ...</td>\n",
       "      <td>37</td>\n",
       "    </tr>\n",
       "  </tbody>\n",
       "</table>\n",
       "<p>9992 rows × 3 columns</p>\n",
       "</div>"
      ],
      "text/plain": [
       "                                                 act_id  \\\n",
       "0     0000c7a5a5a1db9c7e890da984b20d544c09cb6f51c546...   \n",
       "1     0007f3d10282e6f9de1eb445a64eb1f13e9ed2308cfbfa...   \n",
       "2     0008d1bfac569bdb998897e2eb8519dec06b9277a686f4...   \n",
       "3     000a83a961cbcbce40673aed998effbd462fb10dcac8e6...   \n",
       "4     000b92ca83a96312a0909b1f489340f4d399c86555012f...   \n",
       "...                                                 ...   \n",
       "9987  ffea89aa464a4fcf8a5416989d21deef4e748192ba17bf...   \n",
       "9988  ffecc8e2823943ef1a7b0d9c6512f716a88032a1bdf7ba...   \n",
       "9989  ffee399294db1c721e010cbf3dae5c8a1f140dbaf2dcae...   \n",
       "9990  fff7d563e388744fdc1ca90153ec0161d1345511cb9070...   \n",
       "9991  fff9cf3aaffd32dcbf70dce8e5216411f9d38537b477d6...   \n",
       "\n",
       "                                            iem_cd_list  count  \n",
       "0     {A079980, A093370, A104040, A033270, A247540, ...     27  \n",
       "1     {A092220, A000660, A060250, A227950, A033270, ...     32  \n",
       "2     {A052020, A009420, A179900, A053800, A096630, ...     51  \n",
       "3     {A054050, A066570, A035720, A079160, A001040, ...     14  \n",
       "4     {A367380, A005930, A000660, A360200, A051910, ...      6  \n",
       "...                                                 ...    ...  \n",
       "9987      {A034220, A066570, A153490, A082850, A037400}      5  \n",
       "9988  {A005360, A004770, A038340, A118990, A247540, ...     41  \n",
       "9989  {A004370, A104040, A012800, A068270, A082800, ...     27  \n",
       "9990  {A067630, A009420, A004770, A091090, A000995, ...     29  \n",
       "9991  {A298040, A043200, A253450, A004770, A293490, ...     37  \n",
       "\n",
       "[9992 rows x 3 columns]"
      ]
     },
     "execution_count": 410,
     "metadata": {},
     "output_type": "execute_result"
    }
   ],
   "source": [
    "df = hist[['act_id', 'iem_cd']]\n",
    "id_cd_count = df.groupby('act_id')['iem_cd'].count().reset_index(name='count')\n",
    "id_cd_list = df.groupby('act_id')['iem_cd'].apply(list).reset_index(name='iem_cd_list')\n",
    "\n",
    "for i in range(9992):\n",
    "    cd_list = id_cd_list['iem_cd_list'][i]\n",
    "    cd_set = set(cd_list)\n",
    "    count = len(cd_set)\n",
    "    id_cd_list['iem_cd_list'][i] = cd_set\n",
    "\n",
    "id_cd_list['count'] = 0\n",
    "for i in range(9992):\n",
    "    count = len(id_cd_list['iem_cd_list'][i])\n",
    "    id_cd_list['count'][i] = count\n",
    "id_cd_list\n",
    "\n",
    "# id_cd_list[(id_cd_list['act_id'] == '1119c23c3a504ca7b75060277410c0f6fb9018ec7638c226bfff4211d8a7bde6')]\n",
    "# pd.concat([id_cd_list, id_cd_count['count']], axis=1)"
   ]
  },
  {
   "cell_type": "markdown",
   "metadata": {},
   "source": [
    "### 고객 라이프 Stage 별 보유 종목\n",
    "- cus_info 의 고객 라이프 Stage\n",
    "\n",
    "02: 사회초년생 (20-29세)\n",
    "\n",
    "03: 가족형성기_남자 (30-39세 & 남자)\n",
    "\n",
    "04: 가족형성기_여자 (30-39세 & 여자)\n",
    "\n",
    "05: 가족성숙기_직장인 (40-59세 & 직장인 & 남자)\n",
    "\n",
    "06: 가족성숙기_주부 (40-59세 & 주부 & 여자 )\n",
    "\n",
    "07: 가족성숙기_남자 (40-59세 & 기타 & 남자 )\n",
    "\n",
    "08: 가족성숙기_여자 (40-59세 & 기타 & 여자)\n",
    "\n",
    "09: 은퇴기 (60-69세)\n",
    "\n"
   ]
  },
  {
   "cell_type": "code",
   "execution_count": 411,
   "metadata": {},
   "outputs": [
    {
     "data": {
      "text/html": [
       "<div>\n",
       "<style scoped>\n",
       "    .dataframe tbody tr th:only-of-type {\n",
       "        vertical-align: middle;\n",
       "    }\n",
       "\n",
       "    .dataframe tbody tr th {\n",
       "        vertical-align: top;\n",
       "    }\n",
       "\n",
       "    .dataframe thead th {\n",
       "        text-align: right;\n",
       "    }\n",
       "</style>\n",
       "<table border=\"1\" class=\"dataframe\">\n",
       "  <thead>\n",
       "    <tr style=\"text-align: right;\">\n",
       "      <th></th>\n",
       "      <th>act_id</th>\n",
       "      <th>lsg_sgm_cd</th>\n",
       "      <th>iem_cd_list</th>\n",
       "      <th>count</th>\n",
       "    </tr>\n",
       "  </thead>\n",
       "  <tbody>\n",
       "    <tr>\n",
       "      <th>0</th>\n",
       "      <td>64aae8dd71e5c0761000db9f9a6779e504e7a4aa9dc097...</td>\n",
       "      <td>3</td>\n",
       "      <td>{A000030, A012330, A316140}</td>\n",
       "      <td>3</td>\n",
       "    </tr>\n",
       "    <tr>\n",
       "      <th>1</th>\n",
       "      <td>5f7c3a8f37d9c268d06130ff0be5d32a1b9ef68c13049f...</td>\n",
       "      <td>5</td>\n",
       "      <td>{A036200, A120115, A002310, A139480, A007810, ...</td>\n",
       "      <td>69</td>\n",
       "    </tr>\n",
       "    <tr>\n",
       "      <th>2</th>\n",
       "      <td>1119c23c3a504ca7b75060277410c0f6fb9018ec7638c2...</td>\n",
       "      <td>5</td>\n",
       "      <td>{A066570, A005490, A035720, A003620, A017810, ...</td>\n",
       "      <td>13</td>\n",
       "    </tr>\n",
       "    <tr>\n",
       "      <th>3</th>\n",
       "      <td>6d497facfa1ea5901b827335553331f8555fec02a8184f...</td>\n",
       "      <td>5</td>\n",
       "      <td>{A103590, A038110, A086280, A005880, A000660, ...</td>\n",
       "      <td>31</td>\n",
       "    </tr>\n",
       "    <tr>\n",
       "      <th>4</th>\n",
       "      <td>b727c78d2cfc246c97b677f29a034399a0c7e7873fff44...</td>\n",
       "      <td>5</td>\n",
       "      <td>{A005450, A003310, A001120, A009830, A051500, ...</td>\n",
       "      <td>15</td>\n",
       "    </tr>\n",
       "    <tr>\n",
       "      <th>...</th>\n",
       "      <td>...</td>\n",
       "      <td>...</td>\n",
       "      <td>...</td>\n",
       "      <td>...</td>\n",
       "    </tr>\n",
       "    <tr>\n",
       "      <th>9987</th>\n",
       "      <td>2fdd734bf8fc04c0d484ddc1d021622a1cdc802705702e...</td>\n",
       "      <td>9</td>\n",
       "      <td>{A133690, A261220, A269540}</td>\n",
       "      <td>3</td>\n",
       "    </tr>\n",
       "    <tr>\n",
       "      <th>9988</th>\n",
       "      <td>720aa28d24bfa8fbeddf4fe625cb53af0a6f7ff2d526de...</td>\n",
       "      <td>2</td>\n",
       "      <td>{A051915, A035720, A000885, A005490, A009830, ...</td>\n",
       "      <td>14</td>\n",
       "    </tr>\n",
       "    <tr>\n",
       "      <th>9989</th>\n",
       "      <td>7702030b3b0760e6b37c8a3e8ed58611b1b85913526ad1...</td>\n",
       "      <td>5</td>\n",
       "      <td>{A133690, A219480, A169950, A283580, A314250}</td>\n",
       "      <td>5</td>\n",
       "    </tr>\n",
       "    <tr>\n",
       "      <th>9990</th>\n",
       "      <td>4006ddaa5673365096b9dd5965e20db866f6523c162f79...</td>\n",
       "      <td>5</td>\n",
       "      <td>{A014910, A034730, A065450, A251270, A045520}</td>\n",
       "      <td>5</td>\n",
       "    </tr>\n",
       "    <tr>\n",
       "      <th>9991</th>\n",
       "      <td>564af3cf975ed4fa05148ada689d5002e9c2d43dee9481...</td>\n",
       "      <td>5</td>\n",
       "      <td>{A034220, A026960, A035760, A005940, A011790, ...</td>\n",
       "      <td>42</td>\n",
       "    </tr>\n",
       "  </tbody>\n",
       "</table>\n",
       "<p>9992 rows × 4 columns</p>\n",
       "</div>"
      ],
      "text/plain": [
       "                                                 act_id  lsg_sgm_cd  \\\n",
       "0     64aae8dd71e5c0761000db9f9a6779e504e7a4aa9dc097...           3   \n",
       "1     5f7c3a8f37d9c268d06130ff0be5d32a1b9ef68c13049f...           5   \n",
       "2     1119c23c3a504ca7b75060277410c0f6fb9018ec7638c2...           5   \n",
       "3     6d497facfa1ea5901b827335553331f8555fec02a8184f...           5   \n",
       "4     b727c78d2cfc246c97b677f29a034399a0c7e7873fff44...           5   \n",
       "...                                                 ...         ...   \n",
       "9987  2fdd734bf8fc04c0d484ddc1d021622a1cdc802705702e...           9   \n",
       "9988  720aa28d24bfa8fbeddf4fe625cb53af0a6f7ff2d526de...           2   \n",
       "9989  7702030b3b0760e6b37c8a3e8ed58611b1b85913526ad1...           5   \n",
       "9990  4006ddaa5673365096b9dd5965e20db866f6523c162f79...           5   \n",
       "9991  564af3cf975ed4fa05148ada689d5002e9c2d43dee9481...           5   \n",
       "\n",
       "                                            iem_cd_list  count  \n",
       "0                           {A000030, A012330, A316140}      3  \n",
       "1     {A036200, A120115, A002310, A139480, A007810, ...     69  \n",
       "2     {A066570, A005490, A035720, A003620, A017810, ...     13  \n",
       "3     {A103590, A038110, A086280, A005880, A000660, ...     31  \n",
       "4     {A005450, A003310, A001120, A009830, A051500, ...     15  \n",
       "...                                                 ...    ...  \n",
       "9987                        {A133690, A261220, A269540}      3  \n",
       "9988  {A051915, A035720, A000885, A005490, A009830, ...     14  \n",
       "9989      {A133690, A219480, A169950, A283580, A314250}      5  \n",
       "9990      {A014910, A034730, A065450, A251270, A045520}      5  \n",
       "9991  {A034220, A026960, A035760, A005940, A011790, ...     42  \n",
       "\n",
       "[9992 rows x 4 columns]"
      ]
     },
     "execution_count": 411,
     "metadata": {},
     "output_type": "execute_result"
    }
   ],
   "source": [
    "# lsg = cus['lsg_sgm_cd']\n",
    "# lsg\n",
    "cus_stg = cus[['act_id', 'lsg_sgm_cd']]\n",
    "cus_cd = pd.merge(cus_stg, id_cd_list, on = 'act_id')\n",
    "cus_cd"
   ]
  },
  {
   "cell_type": "markdown",
   "metadata": {},
   "source": [
    "#### 고객 라이프 별 보유 종목  리스트"
   ]
  },
  {
   "cell_type": "code",
   "execution_count": 412,
   "metadata": {},
   "outputs": [
    {
     "data": {
      "text/html": [
       "<div>\n",
       "<style scoped>\n",
       "    .dataframe tbody tr th:only-of-type {\n",
       "        vertical-align: middle;\n",
       "    }\n",
       "\n",
       "    .dataframe tbody tr th {\n",
       "        vertical-align: top;\n",
       "    }\n",
       "\n",
       "    .dataframe thead th {\n",
       "        text-align: right;\n",
       "    }\n",
       "</style>\n",
       "<table border=\"1\" class=\"dataframe\">\n",
       "  <thead>\n",
       "    <tr style=\"text-align: right;\">\n",
       "      <th></th>\n",
       "      <th>lsg_sgm_cd</th>\n",
       "      <th>cd_list</th>\n",
       "    </tr>\n",
       "  </thead>\n",
       "  <tbody>\n",
       "    <tr>\n",
       "      <th>0</th>\n",
       "      <td>2</td>\n",
       "      <td>[{A066570, A026960, A028050, A090430, A000660,...</td>\n",
       "    </tr>\n",
       "    <tr>\n",
       "      <th>1</th>\n",
       "      <td>3</td>\n",
       "      <td>[{A000030, A012330, A316140}, {A066910, A05137...</td>\n",
       "    </tr>\n",
       "    <tr>\n",
       "      <th>2</th>\n",
       "      <td>4</td>\n",
       "      <td>[{A052020, A029960, A043200, A215790, A228760,...</td>\n",
       "    </tr>\n",
       "    <tr>\n",
       "      <th>3</th>\n",
       "      <td>5</td>\n",
       "      <td>[{A036200, A120115, A002310, A139480, A007810,...</td>\n",
       "    </tr>\n",
       "    <tr>\n",
       "      <th>4</th>\n",
       "      <td>6</td>\n",
       "      <td>[{A031980, A027360, A138930, A087220, A093370,...</td>\n",
       "    </tr>\n",
       "    <tr>\n",
       "      <th>5</th>\n",
       "      <td>7</td>\n",
       "      <td>[{A169330, A079160, A061250, A008470, A252670,...</td>\n",
       "    </tr>\n",
       "    <tr>\n",
       "      <th>6</th>\n",
       "      <td>8</td>\n",
       "      <td>[{A052020, A067630, A092460, A009420, A200230,...</td>\n",
       "    </tr>\n",
       "    <tr>\n",
       "      <th>7</th>\n",
       "      <td>9</td>\n",
       "      <td>[{A118000, A142280, A065270, A046440, A002700,...</td>\n",
       "    </tr>\n",
       "  </tbody>\n",
       "</table>\n",
       "</div>"
      ],
      "text/plain": [
       "   lsg_sgm_cd                                            cd_list\n",
       "0           2  [{A066570, A026960, A028050, A090430, A000660,...\n",
       "1           3  [{A000030, A012330, A316140}, {A066910, A05137...\n",
       "2           4  [{A052020, A029960, A043200, A215790, A228760,...\n",
       "3           5  [{A036200, A120115, A002310, A139480, A007810,...\n",
       "4           6  [{A031980, A027360, A138930, A087220, A093370,...\n",
       "5           7  [{A169330, A079160, A061250, A008470, A252670,...\n",
       "6           8  [{A052020, A067630, A092460, A009420, A200230,...\n",
       "7           9  [{A118000, A142280, A065270, A046440, A002700,..."
      ]
     },
     "execution_count": 412,
     "metadata": {},
     "output_type": "execute_result"
    }
   ],
   "source": [
    "df = cus_cd[['lsg_sgm_cd', 'iem_cd_list']]\n",
    "stage_cd = df.groupby('lsg_sgm_cd')['iem_cd_list'].apply(list).reset_index(name='cd_list')\n",
    "stage_cd"
   ]
  },
  {
   "cell_type": "markdown",
   "metadata": {},
   "source": [
    "### 고객 라이프 별 보유 종목 분포"
   ]
  },
  {
   "cell_type": "markdown",
   "metadata": {},
   "source": [
    "#### 02: 사회초년생 (20-29세)"
   ]
  },
  {
   "cell_type": "code",
   "execution_count": 431,
   "metadata": {},
   "outputs": [],
   "source": [
    "import operator\n",
    "cd_list = stage_cd['cd_list'][0]\n",
    "cd_list\n",
    "cd_dict = {}\n",
    "for i in range(len(cd_list)):\n",
    "    cus_cd = list(cd_list[i])\n",
    "    for j in range(len(cus_cd)):\n",
    "        if cus_cd[j] in cd_dict:\n",
    "            cd_dict[cus_cd[j]] += 1\n",
    "        else:\n",
    "            cd_dict[cus_cd[j]] = 1\n",
    "# cd_dict\n",
    "cd_num = sorted(cd_dict.items(), key = operator.itemgetter(1), reverse=True)\n",
    "label = []\n",
    "num = []\n",
    "for i in range(len(cd_num)):\n",
    "    label.append(cd_num[i][0])\n",
    "    num.append(cd_num[i][1])"
   ]
  },
  {
   "cell_type": "code",
   "execution_count": 436,
   "metadata": {},
   "outputs": [
    {
     "data": {
      "image/png": "[encoded data removed]",
      "text/plain": [
       "<Figure size 432x288 with 1 Axes>"
      ]
     },
     "metadata": {
      "needs_background": "light"
     },
     "output_type": "display_data"
    }
   ],
   "source": [
    "index = np.arange(len(label))\n",
    "plt.title('02 사회초년생 (20~29세)')\n",
    "plt.bar(index, num)\n",
    "plt.xticks(index, label, fontsize=3) # label 이름 넣기\n",
    "plt.ylim(0, max(num) + 100)\n",
    "plt.show()"
   ]
  },
  {
   "cell_type": "markdown",
   "metadata": {},
   "source": [
    "#### 02 사회초년생 (20~29세) : 보유 주식 개수 및 종류"
   ]
  },
  {
   "cell_type": "code",
   "execution_count": 437,
   "metadata": {},
   "outputs": [
    {
     "data": {
      "text/html": [
       "<div>\n",
       "<style scoped>\n",
       "    .dataframe tbody tr th:only-of-type {\n",
       "        vertical-align: middle;\n",
       "    }\n",
       "\n",
       "    .dataframe tbody tr th {\n",
       "        vertical-align: top;\n",
       "    }\n",
       "\n",
       "    .dataframe thead th {\n",
       "        text-align: right;\n",
       "    }\n",
       "</style>\n",
       "<table border=\"1\" class=\"dataframe\">\n",
       "  <thead>\n",
       "    <tr style=\"text-align: right;\">\n",
       "      <th></th>\n",
       "      <th>iem_cd</th>\n",
       "      <th>iem_krl_nm</th>\n",
       "      <th>보유 개수</th>\n",
       "      <th>btp_cfc_cd</th>\n",
       "      <th>name</th>\n",
       "    </tr>\n",
       "  </thead>\n",
       "  <tbody>\n",
       "    <tr>\n",
       "      <th>0</th>\n",
       "      <td>A005930</td>\n",
       "      <td>삼성전자</td>\n",
       "      <td>1211</td>\n",
       "      <td>9</td>\n",
       "      <td>전기</td>\n",
       "    </tr>\n",
       "    <tr>\n",
       "      <th>1</th>\n",
       "      <td>A000660</td>\n",
       "      <td>SK하이닉스</td>\n",
       "      <td>546</td>\n",
       "      <td>9</td>\n",
       "      <td>전기</td>\n",
       "    </tr>\n",
       "    <tr>\n",
       "      <th>2</th>\n",
       "      <td>A005935</td>\n",
       "      <td>삼성전자우</td>\n",
       "      <td>488</td>\n",
       "      <td>9</td>\n",
       "      <td>전기</td>\n",
       "    </tr>\n",
       "    <tr>\n",
       "      <th>3</th>\n",
       "      <td>A015760</td>\n",
       "      <td>한국전력</td>\n",
       "      <td>270</td>\n",
       "      <td>9</td>\n",
       "      <td>전기</td>\n",
       "    </tr>\n",
       "    <tr>\n",
       "      <th>4</th>\n",
       "      <td>A026890</td>\n",
       "      <td>디피씨</td>\n",
       "      <td>204</td>\n",
       "      <td>9</td>\n",
       "      <td>전기</td>\n",
       "    </tr>\n",
       "    <tr>\n",
       "      <th>...</th>\n",
       "      <td>...</td>\n",
       "      <td>...</td>\n",
       "      <td>...</td>\n",
       "      <td>...</td>\n",
       "      <td>...</td>\n",
       "    </tr>\n",
       "    <tr>\n",
       "      <th>2477</th>\n",
       "      <td>A002787</td>\n",
       "      <td>진흥기업2우B</td>\n",
       "      <td>2</td>\n",
       "      <td>1</td>\n",
       "      <td>건설</td>\n",
       "    </tr>\n",
       "    <tr>\n",
       "      <th>2478</th>\n",
       "      <td>A005965</td>\n",
       "      <td>동부건설우</td>\n",
       "      <td>2</td>\n",
       "      <td>1</td>\n",
       "      <td>건설</td>\n",
       "    </tr>\n",
       "    <tr>\n",
       "      <th>2479</th>\n",
       "      <td>A016250</td>\n",
       "      <td>SGC이테크건설</td>\n",
       "      <td>2</td>\n",
       "      <td>1</td>\n",
       "      <td>건설</td>\n",
       "    </tr>\n",
       "    <tr>\n",
       "      <th>2480</th>\n",
       "      <td>A000215</td>\n",
       "      <td>DL우</td>\n",
       "      <td>1</td>\n",
       "      <td>1</td>\n",
       "      <td>건설</td>\n",
       "    </tr>\n",
       "    <tr>\n",
       "      <th>2481</th>\n",
       "      <td>A078940</td>\n",
       "      <td>코드네이처</td>\n",
       "      <td>1</td>\n",
       "      <td>1</td>\n",
       "      <td>건설</td>\n",
       "    </tr>\n",
       "  </tbody>\n",
       "</table>\n",
       "<p>2482 rows × 5 columns</p>\n",
       "</div>"
      ],
      "text/plain": [
       "       iem_cd iem_krl_nm  보유 개수  btp_cfc_cd name\n",
       "0     A005930       삼성전자   1211           9   전기\n",
       "1     A000660     SK하이닉스    546           9   전기\n",
       "2     A005935      삼성전자우    488           9   전기\n",
       "3     A015760       한국전력    270           9   전기\n",
       "4     A026890        디피씨    204           9   전기\n",
       "...       ...        ...    ...         ...  ...\n",
       "2477  A002787    진흥기업2우B      2           1   건설\n",
       "2478  A005965      동부건설우      2           1   건설\n",
       "2479  A016250   SGC이테크건설      2           1   건설\n",
       "2480  A000215        DL우      1           1   건설\n",
       "2481  A078940      코드네이처      1           1   건설\n",
       "\n",
       "[2482 rows x 5 columns]"
      ]
     },
     "execution_count": 437,
     "metadata": {},
     "output_type": "execute_result"
    }
   ],
   "source": [
    "iem_f = iem[['iem_cd','iem_krl_nm']]\n",
    "test = {'iem_cd' : label, '보유 개수': num}\n",
    "df = DataFrame(test)\n",
    "df2 = pd.merge(iem_f, df, on='iem_cd').sort_values('보유 개수', ascending=False)\n",
    "test = iem[['iem_cd', 'btp_cfc_cd']]\n",
    "df3 = pd.merge(df2, test, on = 'iem_cd')\n",
    "\n",
    "btp_cfc_dic = {1:'건설',2:'금융',3:'기계',4:'통신',5:'서비스',6:'운송',7:'유통',8:'의료',9:'전기',10:'제조',11:'철강',12:'화학',13:'IT',14:'기타'}\n",
    "dic = {'btp_cfc_cd':list(btp_cfc_dic.keys()), 'name':list(btp_cfc_dic.values())}\n",
    "temp = DataFrame(dic)\n",
    "\n",
    "df4 = pd.merge(df3, temp, on='btp_cfc_cd')\n",
    "df4\n",
    "# iem_cd 는 무시해도 될 듯"
   ]
  },
  {
   "cell_type": "markdown",
   "metadata": {},
   "source": [
    "#### 02 사회초년생 (20~29세): 보유 주식 별 분포(주식 종류X)"
   ]
  },
  {
   "cell_type": "code",
   "execution_count": 438,
   "metadata": {},
   "outputs": [
    {
     "data": {
      "image/png": "[encoded data removed]",
      "text/plain": [
       "<Figure size 432x288 with 1 Axes>"
      ]
     },
     "metadata": {},
     "output_type": "display_data"
    }
   ],
   "source": [
    "plt.pie(df2['보유 개수'][:10], labels = df2['iem_cd'][:10], \n",
    "        autopct = '%0.1f%%', counterclock = False)\n",
    "plt.title('02 사회초년생 (20~29세) 보유 주식 분포')\n",
    "plt.show()"
   ]
  },
  {
   "cell_type": "markdown",
   "metadata": {},
   "source": [
    "#### 02 사회초년생 (20~29세) : 보유 주식의 종류 별 분포"
   ]
  },
  {
   "cell_type": "code",
   "execution_count": 440,
   "metadata": {},
   "outputs": [
    {
     "data": {
      "image/png": "[encoded data removed]",
      "text/plain": [
       "<Figure size 432x288 with 1 Axes>"
      ]
     },
     "metadata": {
      "needs_background": "light"
     },
     "output_type": "display_data"
    }
   ],
   "source": [
    "df4\n",
    "label= list(df4['name'].unique())\n",
    "idx = np.arange(len(label))\n",
    "count = df4['btp_cfc_cd'].value_counts()\n",
    "plt.bar(idx, count)\n",
    "plt.title('02 사회초년생 (20~29세) 보유 주식 종류 별 분포')\n",
    "plt.xlabel('업종')\n",
    "plt.ylabel('개수')\n",
    "plt.xticks(idx, label, fontsize=10)\n",
    "\n",
    "for i,v in enumerate(count):\n",
    "    plt.text(i,v,str(v), fontsize=10, horizontalalignment='center',verticalalignment=\"bottom\")\n",
    "\n",
    "plt.show()"
   ]
  },
  {
   "cell_type": "markdown",
   "metadata": {},
   "source": [
    "=============================================\n",
    "============================================="
   ]
  },
  {
   "cell_type": "markdown",
   "metadata": {},
   "source": [
    "#### 03: 가족형성기_남자 (30-39세 & 남자)"
   ]
  },
  {
   "cell_type": "code",
   "execution_count": 445,
   "metadata": {},
   "outputs": [],
   "source": [
    "import operator\n",
    "cd_list = stage_cd['cd_list'][1]\n",
    "cd_list\n",
    "cd_dict = {}\n",
    "for i in range(len(cd_list)):\n",
    "    cus_cd = list(cd_list[i])\n",
    "    for j in range(len(cus_cd)):\n",
    "        if cus_cd[j] in cd_dict:\n",
    "            cd_dict[cus_cd[j]] += 1\n",
    "        else:\n",
    "            cd_dict[cus_cd[j]] = 1\n",
    "# cd_dict\n",
    "cd_num = sorted(cd_dict.items(), key = operator.itemgetter(1), reverse=True)\n",
    "label = []\n",
    "num = []\n",
    "for i in range(len(cd_num)):\n",
    "    label.append(cd_num[i][0])\n",
    "    num.append(cd_num[i][1])"
   ]
  },
  {
   "cell_type": "code",
   "execution_count": 446,
   "metadata": {},
   "outputs": [
    {
     "data": {
      "image/png": "[encoded data removed]",
      "text/plain": [
       "<Figure size 432x288 with 1 Axes>"
      ]
     },
     "metadata": {
      "needs_background": "light"
     },
     "output_type": "display_data"
    }
   ],
   "source": [
    "index = np.arange(len(label))\n",
    "plt.title('03: 가족형성기_남자 (30-39세 & 남자)')\n",
    "plt.bar(index, num)\n",
    "plt.xticks(index, label, fontsize=3) # label 이름 넣기\n",
    "plt.ylim(0, max(num) + 100)\n",
    "plt.show()"
   ]
  },
  {
   "cell_type": "markdown",
   "metadata": {},
   "source": [
    "####  03: 가족형성기_남자 (30-39세 & 남자) : 보유 주식 개수 및 종류"
   ]
  },
  {
   "cell_type": "code",
   "execution_count": 447,
   "metadata": {},
   "outputs": [
    {
     "data": {
      "text/html": [
       "<div>\n",
       "<style scoped>\n",
       "    .dataframe tbody tr th:only-of-type {\n",
       "        vertical-align: middle;\n",
       "    }\n",
       "\n",
       "    .dataframe tbody tr th {\n",
       "        vertical-align: top;\n",
       "    }\n",
       "\n",
       "    .dataframe thead th {\n",
       "        text-align: right;\n",
       "    }\n",
       "</style>\n",
       "<table border=\"1\" class=\"dataframe\">\n",
       "  <thead>\n",
       "    <tr style=\"text-align: right;\">\n",
       "      <th></th>\n",
       "      <th>iem_cd</th>\n",
       "      <th>iem_krl_nm</th>\n",
       "      <th>보유 개수</th>\n",
       "      <th>btp_cfc_cd</th>\n",
       "      <th>name</th>\n",
       "    </tr>\n",
       "  </thead>\n",
       "  <tbody>\n",
       "    <tr>\n",
       "      <th>0</th>\n",
       "      <td>A005930</td>\n",
       "      <td>삼성전자</td>\n",
       "      <td>1079</td>\n",
       "      <td>9</td>\n",
       "      <td>전기</td>\n",
       "    </tr>\n",
       "    <tr>\n",
       "      <th>1</th>\n",
       "      <td>A000660</td>\n",
       "      <td>SK하이닉스</td>\n",
       "      <td>543</td>\n",
       "      <td>9</td>\n",
       "      <td>전기</td>\n",
       "    </tr>\n",
       "    <tr>\n",
       "      <th>2</th>\n",
       "      <td>A005935</td>\n",
       "      <td>삼성전자우</td>\n",
       "      <td>343</td>\n",
       "      <td>9</td>\n",
       "      <td>전기</td>\n",
       "    </tr>\n",
       "    <tr>\n",
       "      <th>3</th>\n",
       "      <td>A015760</td>\n",
       "      <td>한국전력</td>\n",
       "      <td>311</td>\n",
       "      <td>9</td>\n",
       "      <td>전기</td>\n",
       "    </tr>\n",
       "    <tr>\n",
       "      <th>4</th>\n",
       "      <td>A026890</td>\n",
       "      <td>디피씨</td>\n",
       "      <td>267</td>\n",
       "      <td>9</td>\n",
       "      <td>전기</td>\n",
       "    </tr>\n",
       "    <tr>\n",
       "      <th>...</th>\n",
       "      <td>...</td>\n",
       "      <td>...</td>\n",
       "      <td>...</td>\n",
       "      <td>...</td>\n",
       "      <td>...</td>\n",
       "    </tr>\n",
       "    <tr>\n",
       "      <th>2659</th>\n",
       "      <td>A002785</td>\n",
       "      <td>진흥기업우B</td>\n",
       "      <td>8</td>\n",
       "      <td>1</td>\n",
       "      <td>건설</td>\n",
       "    </tr>\n",
       "    <tr>\n",
       "      <th>2660</th>\n",
       "      <td>A005965</td>\n",
       "      <td>동부건설우</td>\n",
       "      <td>7</td>\n",
       "      <td>1</td>\n",
       "      <td>건설</td>\n",
       "    </tr>\n",
       "    <tr>\n",
       "      <th>2661</th>\n",
       "      <td>A078940</td>\n",
       "      <td>코드네이처</td>\n",
       "      <td>5</td>\n",
       "      <td>1</td>\n",
       "      <td>건설</td>\n",
       "    </tr>\n",
       "    <tr>\n",
       "      <th>2662</th>\n",
       "      <td>A023960</td>\n",
       "      <td>에쓰씨엔지니어링</td>\n",
       "      <td>4</td>\n",
       "      <td>1</td>\n",
       "      <td>건설</td>\n",
       "    </tr>\n",
       "    <tr>\n",
       "      <th>2663</th>\n",
       "      <td>A036190</td>\n",
       "      <td>금화피에스시</td>\n",
       "      <td>3</td>\n",
       "      <td>1</td>\n",
       "      <td>건설</td>\n",
       "    </tr>\n",
       "  </tbody>\n",
       "</table>\n",
       "<p>2664 rows × 5 columns</p>\n",
       "</div>"
      ],
      "text/plain": [
       "       iem_cd iem_krl_nm  보유 개수  btp_cfc_cd name\n",
       "0     A005930       삼성전자   1079           9   전기\n",
       "1     A000660     SK하이닉스    543           9   전기\n",
       "2     A005935      삼성전자우    343           9   전기\n",
       "3     A015760       한국전력    311           9   전기\n",
       "4     A026890        디피씨    267           9   전기\n",
       "...       ...        ...    ...         ...  ...\n",
       "2659  A002785     진흥기업우B      8           1   건설\n",
       "2660  A005965      동부건설우      7           1   건설\n",
       "2661  A078940      코드네이처      5           1   건설\n",
       "2662  A023960   에쓰씨엔지니어링      4           1   건설\n",
       "2663  A036190     금화피에스시      3           1   건설\n",
       "\n",
       "[2664 rows x 5 columns]"
      ]
     },
     "execution_count": 447,
     "metadata": {},
     "output_type": "execute_result"
    }
   ],
   "source": [
    "iem_f = iem[['iem_cd','iem_krl_nm']]\n",
    "test = {'iem_cd' : label, '보유 개수': num}\n",
    "df = DataFrame(test)\n",
    "df2 = pd.merge(iem_f, df, on='iem_cd').sort_values('보유 개수', ascending=False)\n",
    "test = iem[['iem_cd', 'btp_cfc_cd']]\n",
    "df3 = pd.merge(df2, test, on = 'iem_cd')\n",
    "\n",
    "btp_cfc_dic = {1:'건설',2:'금융',3:'기계',4:'통신',5:'서비스',6:'운송',7:'유통',8:'의료',9:'전기',10:'제조',11:'철강',12:'화학',13:'IT',14:'기타'}\n",
    "dic = {'btp_cfc_cd':list(btp_cfc_dic.keys()), 'name':list(btp_cfc_dic.values())}\n",
    "temp = DataFrame(dic)\n",
    "\n",
    "df4 = pd.merge(df3, temp, on='btp_cfc_cd')\n",
    "df4\n",
    "# iem_cd 는 무시해도 될 듯"
   ]
  },
  {
   "cell_type": "markdown",
   "metadata": {},
   "source": [
    "####  03: 가족형성기_남자 (30-39세 & 남자) : 보유 주식 별 분포(주식 종류X)"
   ]
  },
  {
   "cell_type": "code",
   "execution_count": 448,
   "metadata": {},
   "outputs": [
    {
     "data": {
      "image/png": "[encoded data removed]",
      "text/plain": [
       "<Figure size 432x288 with 1 Axes>"
      ]
     },
     "metadata": {},
     "output_type": "display_data"
    }
   ],
   "source": [
    "plt.pie(df2['보유 개수'][:10], labels = df2['iem_cd'][:10], \n",
    "        autopct = '%0.1f%%', counterclock = False)\n",
    "plt.title(' 03: 가족형성기_남자 (30-39세 & 남자) 보유 주식 분포')\n",
    "plt.show()"
   ]
  },
  {
   "cell_type": "markdown",
   "metadata": {},
   "source": [
    "#### 03: 가족형성기_남자 (30-39세 & 남자) : 보유 주식의 종류 별 분포"
   ]
  },
  {
   "cell_type": "code",
   "execution_count": 449,
   "metadata": {},
   "outputs": [
    {
     "data": {
      "image/png": "[encoded data removed]",
      "text/plain": [
       "<Figure size 432x288 with 1 Axes>"
      ]
     },
     "metadata": {
      "needs_background": "light"
     },
     "output_type": "display_data"
    }
   ],
   "source": [
    "df4\n",
    "label= list(df4['name'].unique())\n",
    "idx = np.arange(len(label))\n",
    "count = df4['btp_cfc_cd'].value_counts()\n",
    "plt.bar(idx, count)\n",
    "plt.title(' 03: 가족형성기_남자 (30-39세 & 남자) 보유 주식 종류 별 분포')\n",
    "plt.xlabel('업종')\n",
    "plt.ylabel('개수')\n",
    "plt.xticks(idx, label, fontsize=10)\n",
    "\n",
    "for i,v in enumerate(count):\n",
    "    plt.text(i,v,str(v), fontsize=10, horizontalalignment='center',verticalalignment=\"bottom\")\n",
    "\n",
    "plt.show()"
   ]
  },
  {
   "cell_type": "markdown",
   "metadata": {},
   "source": [
    "=============================================\n",
    "============================================="
   ]
  },
  {
   "cell_type": "markdown",
   "metadata": {},
   "source": [
    "#### 04: 가족형성기_여자 (30-39세 & 여자)"
   ]
  },
  {
   "cell_type": "code",
   "execution_count": 450,
   "metadata": {},
   "outputs": [],
   "source": [
    "import operator\n",
    "cd_list = stage_cd['cd_list'][2]\n",
    "cd_list\n",
    "cd_dict = {}\n",
    "for i in range(len(cd_list)):\n",
    "    cus_cd = list(cd_list[i])\n",
    "    for j in range(len(cus_cd)):\n",
    "        if cus_cd[j] in cd_dict:\n",
    "            cd_dict[cus_cd[j]] += 1\n",
    "        else:\n",
    "            cd_dict[cus_cd[j]] = 1\n",
    "# cd_dict\n",
    "cd_num = sorted(cd_dict.items(), key = operator.itemgetter(1), reverse=True)\n",
    "label = []\n",
    "num = []\n",
    "for i in range(len(cd_num)):\n",
    "    label.append(cd_num[i][0])\n",
    "    num.append(cd_num[i][1])"
   ]
  },
  {
   "cell_type": "code",
   "execution_count": 451,
   "metadata": {},
   "outputs": [
    {
     "data": {
      "image/png": "[encoded data removed]",
      "text/plain": [
       "<Figure size 432x288 with 1 Axes>"
      ]
     },
     "metadata": {
      "needs_background": "light"
     },
     "output_type": "display_data"
    }
   ],
   "source": [
    "index = np.arange(len(label))\n",
    "plt.title(' 04: 가족형성기_여자 (30-39세 & 여자)')\n",
    "plt.bar(index, num)\n",
    "plt.xticks(index, label, fontsize=3) # label 이름 넣기\n",
    "plt.ylim(0, max(num) + 100)\n",
    "plt.show()"
   ]
  },
  {
   "cell_type": "markdown",
   "metadata": {},
   "source": [
    "####   04: 가족형성기_여자 (30-39세 & 여자) : 보유 주식 개수 및 종류"
   ]
  },
  {
   "cell_type": "code",
   "execution_count": 454,
   "metadata": {},
   "outputs": [
    {
     "data": {
      "text/html": [
       "<div>\n",
       "<style scoped>\n",
       "    .dataframe tbody tr th:only-of-type {\n",
       "        vertical-align: middle;\n",
       "    }\n",
       "\n",
       "    .dataframe tbody tr th {\n",
       "        vertical-align: top;\n",
       "    }\n",
       "\n",
       "    .dataframe thead th {\n",
       "        text-align: right;\n",
       "    }\n",
       "</style>\n",
       "<table border=\"1\" class=\"dataframe\">\n",
       "  <thead>\n",
       "    <tr style=\"text-align: right;\">\n",
       "      <th></th>\n",
       "      <th>iem_cd</th>\n",
       "      <th>iem_krl_nm</th>\n",
       "      <th>보유 개수</th>\n",
       "      <th>btp_cfc_cd</th>\n",
       "      <th>name</th>\n",
       "    </tr>\n",
       "  </thead>\n",
       "  <tbody>\n",
       "    <tr>\n",
       "      <th>0</th>\n",
       "      <td>A005930</td>\n",
       "      <td>삼성전자</td>\n",
       "      <td>777</td>\n",
       "      <td>9</td>\n",
       "      <td>전기</td>\n",
       "    </tr>\n",
       "    <tr>\n",
       "      <th>1</th>\n",
       "      <td>A000660</td>\n",
       "      <td>SK하이닉스</td>\n",
       "      <td>346</td>\n",
       "      <td>9</td>\n",
       "      <td>전기</td>\n",
       "    </tr>\n",
       "    <tr>\n",
       "      <th>2</th>\n",
       "      <td>A005935</td>\n",
       "      <td>삼성전자우</td>\n",
       "      <td>246</td>\n",
       "      <td>9</td>\n",
       "      <td>전기</td>\n",
       "    </tr>\n",
       "    <tr>\n",
       "      <th>3</th>\n",
       "      <td>A066570</td>\n",
       "      <td>LG전자</td>\n",
       "      <td>154</td>\n",
       "      <td>9</td>\n",
       "      <td>전기</td>\n",
       "    </tr>\n",
       "    <tr>\n",
       "      <th>4</th>\n",
       "      <td>A015760</td>\n",
       "      <td>한국전력</td>\n",
       "      <td>146</td>\n",
       "      <td>9</td>\n",
       "      <td>전기</td>\n",
       "    </tr>\n",
       "    <tr>\n",
       "      <th>...</th>\n",
       "      <td>...</td>\n",
       "      <td>...</td>\n",
       "      <td>...</td>\n",
       "      <td>...</td>\n",
       "      <td>...</td>\n",
       "    </tr>\n",
       "    <tr>\n",
       "      <th>2419</th>\n",
       "      <td>A002787</td>\n",
       "      <td>진흥기업2우B</td>\n",
       "      <td>2</td>\n",
       "      <td>1</td>\n",
       "      <td>건설</td>\n",
       "    </tr>\n",
       "    <tr>\n",
       "      <th>2420</th>\n",
       "      <td>A011560</td>\n",
       "      <td>세보엠이씨</td>\n",
       "      <td>2</td>\n",
       "      <td>1</td>\n",
       "      <td>건설</td>\n",
       "    </tr>\n",
       "    <tr>\n",
       "      <th>2421</th>\n",
       "      <td>A066620</td>\n",
       "      <td>국보디자인</td>\n",
       "      <td>2</td>\n",
       "      <td>1</td>\n",
       "      <td>건설</td>\n",
       "    </tr>\n",
       "    <tr>\n",
       "      <th>2422</th>\n",
       "      <td>A002785</td>\n",
       "      <td>진흥기업우B</td>\n",
       "      <td>2</td>\n",
       "      <td>1</td>\n",
       "      <td>건설</td>\n",
       "    </tr>\n",
       "    <tr>\n",
       "      <th>2423</th>\n",
       "      <td>A036190</td>\n",
       "      <td>금화피에스시</td>\n",
       "      <td>1</td>\n",
       "      <td>1</td>\n",
       "      <td>건설</td>\n",
       "    </tr>\n",
       "  </tbody>\n",
       "</table>\n",
       "<p>2424 rows × 5 columns</p>\n",
       "</div>"
      ],
      "text/plain": [
       "       iem_cd iem_krl_nm  보유 개수  btp_cfc_cd name\n",
       "0     A005930       삼성전자    777           9   전기\n",
       "1     A000660     SK하이닉스    346           9   전기\n",
       "2     A005935      삼성전자우    246           9   전기\n",
       "3     A066570       LG전자    154           9   전기\n",
       "4     A015760       한국전력    146           9   전기\n",
       "...       ...        ...    ...         ...  ...\n",
       "2419  A002787    진흥기업2우B      2           1   건설\n",
       "2420  A011560      세보엠이씨      2           1   건설\n",
       "2421  A066620      국보디자인      2           1   건설\n",
       "2422  A002785     진흥기업우B      2           1   건설\n",
       "2423  A036190     금화피에스시      1           1   건설\n",
       "\n",
       "[2424 rows x 5 columns]"
      ]
     },
     "execution_count": 454,
     "metadata": {},
     "output_type": "execute_result"
    }
   ],
   "source": [
    "iem_f = iem[['iem_cd','iem_krl_nm']]\n",
    "test = {'iem_cd' : label, '보유 개수': num}\n",
    "df = DataFrame(test)\n",
    "df2 = pd.merge(iem_f, df, on='iem_cd').sort_values('보유 개수', ascending=False)\n",
    "test = iem[['iem_cd', 'btp_cfc_cd']]\n",
    "df3 = pd.merge(df2, test, on = 'iem_cd')\n",
    "\n",
    "btp_cfc_dic = {1:'건설',2:'금융',3:'기계',4:'통신',5:'서비스',6:'운송',7:'유통',8:'의료',9:'전기',10:'제조',11:'철강',12:'화학',13:'IT',14:'기타'}\n",
    "dic = {'btp_cfc_cd':list(btp_cfc_dic.keys()), 'name':list(btp_cfc_dic.values())}\n",
    "temp = DataFrame(dic)\n",
    "\n",
    "df4 = pd.merge(df3, temp, on='btp_cfc_cd')\n",
    "df4\n",
    "# iem_cd 는 무시해도 될 듯"
   ]
  },
  {
   "cell_type": "markdown",
   "metadata": {},
   "source": [
    "####   04: 가족형성기_여자 (30-39세 & 여자) : 보유 주식 별 분포(주식 종류X)"
   ]
  },
  {
   "cell_type": "code",
   "execution_count": 455,
   "metadata": {},
   "outputs": [
    {
     "data": {
      "image/png": "[encoded data removed]",
      "text/plain": [
       "<Figure size 432x288 with 1 Axes>"
      ]
     },
     "metadata": {},
     "output_type": "display_data"
    }
   ],
   "source": [
    "plt.pie(df2['보유 개수'][:10], labels = df2['iem_cd'][:10], \n",
    "        autopct = '%0.1f%%', counterclock = False)\n",
    "plt.title('  04: 가족형성기_여자 (30-39세 & 여자) 보유 주식 분포')\n",
    "plt.show()"
   ]
  },
  {
   "cell_type": "markdown",
   "metadata": {},
   "source": [
    "####  04: 가족형성기_여자 (30-39세 & 여자) : 보유 주식의 종류 별 분포"
   ]
  },
  {
   "cell_type": "code",
   "execution_count": 456,
   "metadata": {},
   "outputs": [
    {
     "data": {
      "image/png": "[encoded data removed]",
      "text/plain": [
       "<Figure size 432x288 with 1 Axes>"
      ]
     },
     "metadata": {
      "needs_background": "light"
     },
     "output_type": "display_data"
    }
   ],
   "source": [
    "df4\n",
    "label= list(df4['name'].unique())\n",
    "idx = np.arange(len(label))\n",
    "count = df4['btp_cfc_cd'].value_counts()\n",
    "plt.bar(idx, count)\n",
    "plt.title('  04: 가족형성기_여자 (30-39세 & 여자) 보유 주식 종류 별 분포')\n",
    "plt.xlabel('업종')\n",
    "plt.ylabel('개수')\n",
    "plt.xticks(idx, label, fontsize=10)\n",
    "\n",
    "for i,v in enumerate(count):\n",
    "    plt.text(i,v,str(v), fontsize=10, horizontalalignment='center',verticalalignment=\"bottom\")\n",
    "\n",
    "plt.show()"
   ]
  },
  {
   "cell_type": "markdown",
   "metadata": {},
   "source": [
    "=============================================\n",
    "============================================="
   ]
  },
  {
   "cell_type": "markdown",
   "metadata": {},
   "source": [
    "#### 05: 가족성숙기_직장인 (40-59세 & 직장인 & 남자)"
   ]
  },
  {
   "cell_type": "code",
   "execution_count": 464,
   "metadata": {},
   "outputs": [],
   "source": [
    "import operator\n",
    "cd_list = stage_cd['cd_list'][3]\n",
    "cd_list\n",
    "cd_dict = {}\n",
    "for i in range(len(cd_list)):\n",
    "    cus_cd = list(cd_list[i])\n",
    "    for j in range(len(cus_cd)):\n",
    "        if cus_cd[j] in cd_dict:\n",
    "            cd_dict[cus_cd[j]] += 1\n",
    "        else:\n",
    "            cd_dict[cus_cd[j]] = 1\n",
    "# cd_dict\n",
    "cd_num = sorted(cd_dict.items(), key = operator.itemgetter(1), reverse=True)\n",
    "label = []\n",
    "num = []\n",
    "for i in range(len(cd_num)):\n",
    "    label.append(cd_num[i][0])\n",
    "    num.append(cd_num[i][1])"
   ]
  },
  {
   "cell_type": "code",
   "execution_count": 465,
   "metadata": {},
   "outputs": [
    {
     "data": {
      "image/png": "[encoded data removed]",
      "text/plain": [
       "<Figure size 432x288 with 1 Axes>"
      ]
     },
     "metadata": {
      "needs_background": "light"
     },
     "output_type": "display_data"
    }
   ],
   "source": [
    "index = np.arange(len(label))\n",
    "plt.title('05: 가족성숙기_직장인 (40-59세 & 직장인 & 남자)')\n",
    "plt.bar(index, num)\n",
    "plt.xticks(index, label, fontsize=3) # label 이름 넣기\n",
    "plt.ylim(0, max(num) + 100)\n",
    "plt.show()"
   ]
  },
  {
   "cell_type": "markdown",
   "metadata": {},
   "source": [
    "####   05: 가족성숙기_직장인 (40-59세 & 직장인 & 남자) : 보유 주식 개수 및 종류"
   ]
  },
  {
   "cell_type": "code",
   "execution_count": 466,
   "metadata": {},
   "outputs": [
    {
     "data": {
      "text/html": [
       "<div>\n",
       "<style scoped>\n",
       "    .dataframe tbody tr th:only-of-type {\n",
       "        vertical-align: middle;\n",
       "    }\n",
       "\n",
       "    .dataframe tbody tr th {\n",
       "        vertical-align: top;\n",
       "    }\n",
       "\n",
       "    .dataframe thead th {\n",
       "        text-align: right;\n",
       "    }\n",
       "</style>\n",
       "<table border=\"1\" class=\"dataframe\">\n",
       "  <thead>\n",
       "    <tr style=\"text-align: right;\">\n",
       "      <th></th>\n",
       "      <th>iem_cd</th>\n",
       "      <th>iem_krl_nm</th>\n",
       "      <th>보유 개수</th>\n",
       "      <th>btp_cfc_cd</th>\n",
       "      <th>name</th>\n",
       "    </tr>\n",
       "  </thead>\n",
       "  <tbody>\n",
       "    <tr>\n",
       "      <th>0</th>\n",
       "      <td>A005930</td>\n",
       "      <td>삼성전자</td>\n",
       "      <td>1484</td>\n",
       "      <td>9</td>\n",
       "      <td>전기</td>\n",
       "    </tr>\n",
       "    <tr>\n",
       "      <th>1</th>\n",
       "      <td>A000660</td>\n",
       "      <td>SK하이닉스</td>\n",
       "      <td>689</td>\n",
       "      <td>9</td>\n",
       "      <td>전기</td>\n",
       "    </tr>\n",
       "    <tr>\n",
       "      <th>2</th>\n",
       "      <td>A005935</td>\n",
       "      <td>삼성전자우</td>\n",
       "      <td>493</td>\n",
       "      <td>9</td>\n",
       "      <td>전기</td>\n",
       "    </tr>\n",
       "    <tr>\n",
       "      <th>3</th>\n",
       "      <td>A015760</td>\n",
       "      <td>한국전력</td>\n",
       "      <td>442</td>\n",
       "      <td>9</td>\n",
       "      <td>전기</td>\n",
       "    </tr>\n",
       "    <tr>\n",
       "      <th>4</th>\n",
       "      <td>A006400</td>\n",
       "      <td>삼성SDI</td>\n",
       "      <td>368</td>\n",
       "      <td>9</td>\n",
       "      <td>전기</td>\n",
       "    </tr>\n",
       "    <tr>\n",
       "      <th>...</th>\n",
       "      <td>...</td>\n",
       "      <td>...</td>\n",
       "      <td>...</td>\n",
       "      <td>...</td>\n",
       "      <td>...</td>\n",
       "    </tr>\n",
       "    <tr>\n",
       "      <th>2694</th>\n",
       "      <td>A002785</td>\n",
       "      <td>진흥기업우B</td>\n",
       "      <td>11</td>\n",
       "      <td>1</td>\n",
       "      <td>건설</td>\n",
       "    </tr>\n",
       "    <tr>\n",
       "      <th>2695</th>\n",
       "      <td>A066620</td>\n",
       "      <td>국보디자인</td>\n",
       "      <td>11</td>\n",
       "      <td>1</td>\n",
       "      <td>건설</td>\n",
       "    </tr>\n",
       "    <tr>\n",
       "      <th>2696</th>\n",
       "      <td>A002787</td>\n",
       "      <td>진흥기업2우B</td>\n",
       "      <td>9</td>\n",
       "      <td>1</td>\n",
       "      <td>건설</td>\n",
       "    </tr>\n",
       "    <tr>\n",
       "      <th>2697</th>\n",
       "      <td>A078940</td>\n",
       "      <td>코드네이처</td>\n",
       "      <td>7</td>\n",
       "      <td>1</td>\n",
       "      <td>건설</td>\n",
       "    </tr>\n",
       "    <tr>\n",
       "      <th>2698</th>\n",
       "      <td>A005965</td>\n",
       "      <td>동부건설우</td>\n",
       "      <td>6</td>\n",
       "      <td>1</td>\n",
       "      <td>건설</td>\n",
       "    </tr>\n",
       "  </tbody>\n",
       "</table>\n",
       "<p>2699 rows × 5 columns</p>\n",
       "</div>"
      ],
      "text/plain": [
       "       iem_cd iem_krl_nm  보유 개수  btp_cfc_cd name\n",
       "0     A005930       삼성전자   1484           9   전기\n",
       "1     A000660     SK하이닉스    689           9   전기\n",
       "2     A005935      삼성전자우    493           9   전기\n",
       "3     A015760       한국전력    442           9   전기\n",
       "4     A006400      삼성SDI    368           9   전기\n",
       "...       ...        ...    ...         ...  ...\n",
       "2694  A002785     진흥기업우B     11           1   건설\n",
       "2695  A066620      국보디자인     11           1   건설\n",
       "2696  A002787    진흥기업2우B      9           1   건설\n",
       "2697  A078940      코드네이처      7           1   건설\n",
       "2698  A005965      동부건설우      6           1   건설\n",
       "\n",
       "[2699 rows x 5 columns]"
      ]
     },
     "execution_count": 466,
     "metadata": {},
     "output_type": "execute_result"
    }
   ],
   "source": [
    "iem_f = iem[['iem_cd','iem_krl_nm']]\n",
    "test = {'iem_cd' : label, '보유 개수': num}\n",
    "df = DataFrame(test)\n",
    "df2 = pd.merge(iem_f, df, on='iem_cd').sort_values('보유 개수', ascending=False)\n",
    "test = iem[['iem_cd', 'btp_cfc_cd']]\n",
    "df3 = pd.merge(df2, test, on = 'iem_cd')\n",
    "\n",
    "btp_cfc_dic = {1:'건설',2:'금융',3:'기계',4:'통신',5:'서비스',6:'운송',7:'유통',8:'의료',9:'전기',10:'제조',11:'철강',12:'화학',13:'IT',14:'기타'}\n",
    "dic = {'btp_cfc_cd':list(btp_cfc_dic.keys()), 'name':list(btp_cfc_dic.values())}\n",
    "temp = DataFrame(dic)\n",
    "\n",
    "df4 = pd.merge(df3, temp, on='btp_cfc_cd')\n",
    "df4\n",
    "# iem_cd 는 무시해도 될 듯"
   ]
  },
  {
   "cell_type": "markdown",
   "metadata": {},
   "source": [
    "####   05: 가족성숙기_직장인 (40-59세 & 직장인 & 남자) : 보유 주식 별 분포(주식 종류X)"
   ]
  },
  {
   "cell_type": "code",
   "execution_count": 467,
   "metadata": {},
   "outputs": [
    {
     "data": {
      "image/png": "[encoded data removed]",
      "text/plain": [
       "<Figure size 432x288 with 1 Axes>"
      ]
     },
     "metadata": {},
     "output_type": "display_data"
    }
   ],
   "source": [
    "plt.pie(df2['보유 개수'][:10], labels = df2['iem_cd'][:10], \n",
    "        autopct = '%0.1f%%', counterclock = False)\n",
    "plt.title('05: 가족성숙기_직장인 (40-59세 & 직장인 & 남자) 보유 주식 분포')\n",
    "plt.show()"
   ]
  },
  {
   "cell_type": "markdown",
   "metadata": {},
   "source": [
    "#### 05: 가족성숙기_직장인 (40-59세 & 직장인 & 남자) : 보유 주식의 종류 별 분포"
   ]
  },
  {
   "cell_type": "code",
   "execution_count": 468,
   "metadata": {},
   "outputs": [
    {
     "data": {
      "image/png": "[encoded data removed]",
      "text/plain": [
       "<Figure size 432x288 with 1 Axes>"
      ]
     },
     "metadata": {
      "needs_background": "light"
     },
     "output_type": "display_data"
    }
   ],
   "source": [
    "df4\n",
    "label= list(df4['name'].unique())\n",
    "idx = np.arange(len(label))\n",
    "count = df4['btp_cfc_cd'].value_counts()\n",
    "plt.bar(idx, count)\n",
    "plt.title('05: 가족성숙기_직장인 (40-59세 & 직장인 & 남자) 보유 주식 종류 별 분포')\n",
    "plt.xlabel('업종')\n",
    "plt.ylabel('개수')\n",
    "plt.xticks(idx, label, fontsize=10)\n",
    "\n",
    "for i,v in enumerate(count):\n",
    "    plt.text(i,v,str(v), fontsize=10, horizontalalignment='center',verticalalignment=\"bottom\")\n",
    "\n",
    "plt.show()"
   ]
  },
  {
   "cell_type": "markdown",
   "metadata": {},
   "source": [
    "=============================================\n",
    "============================================="
   ]
  },
  {
   "cell_type": "markdown",
   "metadata": {},
   "source": [
    "#### 06: 가족성숙기_주부 (40-59세 & 주부 & 여자 )"
   ]
  },
  {
   "cell_type": "code",
   "execution_count": 469,
   "metadata": {},
   "outputs": [],
   "source": [
    "import operator\n",
    "cd_list = stage_cd['cd_list'][4]\n",
    "cd_list\n",
    "cd_dict = {}\n",
    "for i in range(len(cd_list)):\n",
    "    cus_cd = list(cd_list[i])\n",
    "    for j in range(len(cus_cd)):\n",
    "        if cus_cd[j] in cd_dict:\n",
    "            cd_dict[cus_cd[j]] += 1\n",
    "        else:\n",
    "            cd_dict[cus_cd[j]] = 1\n",
    "# cd_dict\n",
    "cd_num = sorted(cd_dict.items(), key = operator.itemgetter(1), reverse=True)\n",
    "label = []\n",
    "num = []\n",
    "for i in range(len(cd_num)):\n",
    "    label.append(cd_num[i][0])\n",
    "    num.append(cd_num[i][1])"
   ]
  },
  {
   "cell_type": "code",
   "execution_count": 470,
   "metadata": {},
   "outputs": [
    {
     "data": {
      "image/png": "[encoded data removed]",
      "text/plain": [
       "<Figure size 432x288 with 1 Axes>"
      ]
     },
     "metadata": {
      "needs_background": "light"
     },
     "output_type": "display_data"
    }
   ],
   "source": [
    "index = np.arange(len(label))\n",
    "plt.title('06: 가족성숙기_주부 (40-59세 & 주부 & 여자 )')\n",
    "plt.bar(index, num)\n",
    "plt.xticks(index, label, fontsize=3) # label 이름 넣기\n",
    "plt.ylim(0, max(num) + 100)\n",
    "plt.show()"
   ]
  },
  {
   "cell_type": "markdown",
   "metadata": {},
   "source": [
    "####   06: 가족성숙기_주부 (40-59세 & 주부 & 여자 ) : 보유 주식 개수 및 종류"
   ]
  },
  {
   "cell_type": "code",
   "execution_count": 471,
   "metadata": {},
   "outputs": [
    {
     "data": {
      "text/html": [
       "<div>\n",
       "<style scoped>\n",
       "    .dataframe tbody tr th:only-of-type {\n",
       "        vertical-align: middle;\n",
       "    }\n",
       "\n",
       "    .dataframe tbody tr th {\n",
       "        vertical-align: top;\n",
       "    }\n",
       "\n",
       "    .dataframe thead th {\n",
       "        text-align: right;\n",
       "    }\n",
       "</style>\n",
       "<table border=\"1\" class=\"dataframe\">\n",
       "  <thead>\n",
       "    <tr style=\"text-align: right;\">\n",
       "      <th></th>\n",
       "      <th>iem_cd</th>\n",
       "      <th>iem_krl_nm</th>\n",
       "      <th>보유 개수</th>\n",
       "      <th>btp_cfc_cd</th>\n",
       "      <th>name</th>\n",
       "    </tr>\n",
       "  </thead>\n",
       "  <tbody>\n",
       "    <tr>\n",
       "      <th>0</th>\n",
       "      <td>A005930</td>\n",
       "      <td>삼성전자</td>\n",
       "      <td>541</td>\n",
       "      <td>9</td>\n",
       "      <td>전기</td>\n",
       "    </tr>\n",
       "    <tr>\n",
       "      <th>1</th>\n",
       "      <td>A000660</td>\n",
       "      <td>SK하이닉스</td>\n",
       "      <td>262</td>\n",
       "      <td>9</td>\n",
       "      <td>전기</td>\n",
       "    </tr>\n",
       "    <tr>\n",
       "      <th>2</th>\n",
       "      <td>A005935</td>\n",
       "      <td>삼성전자우</td>\n",
       "      <td>188</td>\n",
       "      <td>9</td>\n",
       "      <td>전기</td>\n",
       "    </tr>\n",
       "    <tr>\n",
       "      <th>3</th>\n",
       "      <td>A015760</td>\n",
       "      <td>한국전력</td>\n",
       "      <td>161</td>\n",
       "      <td>9</td>\n",
       "      <td>전기</td>\n",
       "    </tr>\n",
       "    <tr>\n",
       "      <th>4</th>\n",
       "      <td>A006400</td>\n",
       "      <td>삼성SDI</td>\n",
       "      <td>154</td>\n",
       "      <td>9</td>\n",
       "      <td>전기</td>\n",
       "    </tr>\n",
       "    <tr>\n",
       "      <th>...</th>\n",
       "      <td>...</td>\n",
       "      <td>...</td>\n",
       "      <td>...</td>\n",
       "      <td>...</td>\n",
       "      <td>...</td>\n",
       "    </tr>\n",
       "    <tr>\n",
       "      <th>2342</th>\n",
       "      <td>A036800</td>\n",
       "      <td>나이스정보통신</td>\n",
       "      <td>5</td>\n",
       "      <td>4</td>\n",
       "      <td>통신</td>\n",
       "    </tr>\n",
       "    <tr>\n",
       "      <th>2343</th>\n",
       "      <td>A040300</td>\n",
       "      <td>YTN</td>\n",
       "      <td>3</td>\n",
       "      <td>4</td>\n",
       "      <td>통신</td>\n",
       "    </tr>\n",
       "    <tr>\n",
       "      <th>2344</th>\n",
       "      <td>A051780</td>\n",
       "      <td>큐로홀딩스</td>\n",
       "      <td>3</td>\n",
       "      <td>4</td>\n",
       "      <td>통신</td>\n",
       "    </tr>\n",
       "    <tr>\n",
       "      <th>2345</th>\n",
       "      <td>A039340</td>\n",
       "      <td>한국경제TV</td>\n",
       "      <td>1</td>\n",
       "      <td>4</td>\n",
       "      <td>통신</td>\n",
       "    </tr>\n",
       "    <tr>\n",
       "      <th>2346</th>\n",
       "      <td>A066790</td>\n",
       "      <td>씨씨에스</td>\n",
       "      <td>1</td>\n",
       "      <td>4</td>\n",
       "      <td>통신</td>\n",
       "    </tr>\n",
       "  </tbody>\n",
       "</table>\n",
       "<p>2347 rows × 5 columns</p>\n",
       "</div>"
      ],
      "text/plain": [
       "       iem_cd iem_krl_nm  보유 개수  btp_cfc_cd name\n",
       "0     A005930       삼성전자    541           9   전기\n",
       "1     A000660     SK하이닉스    262           9   전기\n",
       "2     A005935      삼성전자우    188           9   전기\n",
       "3     A015760       한국전력    161           9   전기\n",
       "4     A006400      삼성SDI    154           9   전기\n",
       "...       ...        ...    ...         ...  ...\n",
       "2342  A036800    나이스정보통신      5           4   통신\n",
       "2343  A040300        YTN      3           4   통신\n",
       "2344  A051780      큐로홀딩스      3           4   통신\n",
       "2345  A039340     한국경제TV      1           4   통신\n",
       "2346  A066790       씨씨에스      1           4   통신\n",
       "\n",
       "[2347 rows x 5 columns]"
      ]
     },
     "execution_count": 471,
     "metadata": {},
     "output_type": "execute_result"
    }
   ],
   "source": [
    "iem_f = iem[['iem_cd','iem_krl_nm']]\n",
    "test = {'iem_cd' : label, '보유 개수': num}\n",
    "df = DataFrame(test)\n",
    "df2 = pd.merge(iem_f, df, on='iem_cd').sort_values('보유 개수', ascending=False)\n",
    "test = iem[['iem_cd', 'btp_cfc_cd']]\n",
    "df3 = pd.merge(df2, test, on = 'iem_cd')\n",
    "\n",
    "btp_cfc_dic = {1:'건설',2:'금융',3:'기계',4:'통신',5:'서비스',6:'운송',7:'유통',8:'의료',9:'전기',10:'제조',11:'철강',12:'화학',13:'IT',14:'기타'}\n",
    "dic = {'btp_cfc_cd':list(btp_cfc_dic.keys()), 'name':list(btp_cfc_dic.values())}\n",
    "temp = DataFrame(dic)\n",
    "\n",
    "df4 = pd.merge(df3, temp, on='btp_cfc_cd')\n",
    "df4\n",
    "# iem_cd 는 무시해도 될 듯"
   ]
  },
  {
   "cell_type": "markdown",
   "metadata": {},
   "source": [
    "####  06: 가족성숙기_주부 (40-59세 & 주부 & 여자 ) : 보유 주식 별 분포(주식 종류X)"
   ]
  },
  {
   "cell_type": "code",
   "execution_count": 472,
   "metadata": {},
   "outputs": [
    {
     "data": {
      "image/png": "[encoded data removed]",
      "text/plain": [
       "<Figure size 432x288 with 1 Axes>"
      ]
     },
     "metadata": {},
     "output_type": "display_data"
    }
   ],
   "source": [
    "plt.pie(df2['보유 개수'][:10], labels = df2['iem_cd'][:10], \n",
    "        autopct = '%0.1f%%', counterclock = False)\n",
    "plt.title('06: 가족성숙기_주부 (40-59세 & 주부 & 여자 ) 보유 주식 분포')\n",
    "plt.show()"
   ]
  },
  {
   "cell_type": "markdown",
   "metadata": {},
   "source": [
    "#### 06: 가족성숙기_주부 (40-59세 & 주부 & 여자 ) : 보유 주식의 종류 별 분포"
   ]
  },
  {
   "cell_type": "code",
   "execution_count": 473,
   "metadata": {},
   "outputs": [
    {
     "data": {
      "image/png": "[encoded data removed]",
      "text/plain": [
       "<Figure size 432x288 with 1 Axes>"
      ]
     },
     "metadata": {
      "needs_background": "light"
     },
     "output_type": "display_data"
    }
   ],
   "source": [
    "df4\n",
    "label= list(df4['name'].unique())\n",
    "idx = np.arange(len(label))\n",
    "count = df4['btp_cfc_cd'].value_counts()\n",
    "plt.bar(idx, count)\n",
    "plt.title('06: 가족성숙기_주부 (40-59세 & 주부 & 여자 ) 보유 주식 종류 별 분포')\n",
    "plt.xlabel('업종')\n",
    "plt.ylabel('개수')\n",
    "plt.xticks(idx, label, fontsize=10)\n",
    "\n",
    "for i,v in enumerate(count):\n",
    "    plt.text(i,v,str(v), fontsize=10, horizontalalignment='center',verticalalignment=\"bottom\")\n",
    "\n",
    "plt.show()"
   ]
  },
  {
   "cell_type": "markdown",
   "metadata": {},
   "source": [
    "=============================================\n",
    "============================================="
   ]
  },
  {
   "cell_type": "markdown",
   "metadata": {},
   "source": [
    "#### 07: 가족성숙기_남자 (40-59세 & 기타 & 남자 )"
   ]
  },
  {
   "cell_type": "code",
   "execution_count": 474,
   "metadata": {},
   "outputs": [],
   "source": [
    "import operator\n",
    "cd_list = stage_cd['cd_list'][5]\n",
    "cd_list\n",
    "cd_dict = {}\n",
    "for i in range(len(cd_list)):\n",
    "    cus_cd = list(cd_list[i])\n",
    "    for j in range(len(cus_cd)):\n",
    "        if cus_cd[j] in cd_dict:\n",
    "            cd_dict[cus_cd[j]] += 1\n",
    "        else:\n",
    "            cd_dict[cus_cd[j]] = 1\n",
    "# cd_dict\n",
    "cd_num = sorted(cd_dict.items(), key = operator.itemgetter(1), reverse=True)\n",
    "label = []\n",
    "num = []\n",
    "for i in range(len(cd_num)):\n",
    "    label.append(cd_num[i][0])\n",
    "    num.append(cd_num[i][1])"
   ]
  },
  {
   "cell_type": "code",
   "execution_count": 475,
   "metadata": {},
   "outputs": [
    {
     "data": {
      "image/png": "[encoded data removed]",
      "text/plain": [
       "<Figure size 432x288 with 1 Axes>"
      ]
     },
     "metadata": {
      "needs_background": "light"
     },
     "output_type": "display_data"
    }
   ],
   "source": [
    "index = np.arange(len(label))\n",
    "plt.title('07: 가족성숙기_남자 (40-59세 & 기타 & 남자 )')\n",
    "plt.bar(index, num)\n",
    "plt.xticks(index, label, fontsize=3) # label 이름 넣기\n",
    "plt.ylim(0, max(num) + 100)\n",
    "plt.show()"
   ]
  },
  {
   "cell_type": "markdown",
   "metadata": {},
   "source": [
    "####  07: 가족성숙기_남자 (40-59세 & 기타 & 남자 ) : 보유 주식 개수 및 종류"
   ]
  },
  {
   "cell_type": "code",
   "execution_count": 476,
   "metadata": {},
   "outputs": [
    {
     "data": {
      "text/html": [
       "<div>\n",
       "<style scoped>\n",
       "    .dataframe tbody tr th:only-of-type {\n",
       "        vertical-align: middle;\n",
       "    }\n",
       "\n",
       "    .dataframe tbody tr th {\n",
       "        vertical-align: top;\n",
       "    }\n",
       "\n",
       "    .dataframe thead th {\n",
       "        text-align: right;\n",
       "    }\n",
       "</style>\n",
       "<table border=\"1\" class=\"dataframe\">\n",
       "  <thead>\n",
       "    <tr style=\"text-align: right;\">\n",
       "      <th></th>\n",
       "      <th>iem_cd</th>\n",
       "      <th>iem_krl_nm</th>\n",
       "      <th>보유 개수</th>\n",
       "      <th>btp_cfc_cd</th>\n",
       "      <th>name</th>\n",
       "    </tr>\n",
       "  </thead>\n",
       "  <tbody>\n",
       "    <tr>\n",
       "      <th>0</th>\n",
       "      <td>A005930</td>\n",
       "      <td>삼성전자</td>\n",
       "      <td>374</td>\n",
       "      <td>9</td>\n",
       "      <td>전기</td>\n",
       "    </tr>\n",
       "    <tr>\n",
       "      <th>1</th>\n",
       "      <td>A000660</td>\n",
       "      <td>SK하이닉스</td>\n",
       "      <td>182</td>\n",
       "      <td>9</td>\n",
       "      <td>전기</td>\n",
       "    </tr>\n",
       "    <tr>\n",
       "      <th>2</th>\n",
       "      <td>A005935</td>\n",
       "      <td>삼성전자우</td>\n",
       "      <td>129</td>\n",
       "      <td>9</td>\n",
       "      <td>전기</td>\n",
       "    </tr>\n",
       "    <tr>\n",
       "      <th>3</th>\n",
       "      <td>A015760</td>\n",
       "      <td>한국전력</td>\n",
       "      <td>115</td>\n",
       "      <td>9</td>\n",
       "      <td>전기</td>\n",
       "    </tr>\n",
       "    <tr>\n",
       "      <th>4</th>\n",
       "      <td>A336260</td>\n",
       "      <td>두산퓨얼셀</td>\n",
       "      <td>113</td>\n",
       "      <td>9</td>\n",
       "      <td>전기</td>\n",
       "    </tr>\n",
       "    <tr>\n",
       "      <th>...</th>\n",
       "      <td>...</td>\n",
       "      <td>...</td>\n",
       "      <td>...</td>\n",
       "      <td>...</td>\n",
       "      <td>...</td>\n",
       "    </tr>\n",
       "    <tr>\n",
       "      <th>2458</th>\n",
       "      <td>A051780</td>\n",
       "      <td>큐로홀딩스</td>\n",
       "      <td>7</td>\n",
       "      <td>4</td>\n",
       "      <td>통신</td>\n",
       "    </tr>\n",
       "    <tr>\n",
       "      <th>2459</th>\n",
       "      <td>A039340</td>\n",
       "      <td>한국경제TV</td>\n",
       "      <td>7</td>\n",
       "      <td>4</td>\n",
       "      <td>통신</td>\n",
       "    </tr>\n",
       "    <tr>\n",
       "      <th>2460</th>\n",
       "      <td>A036800</td>\n",
       "      <td>나이스정보통신</td>\n",
       "      <td>7</td>\n",
       "      <td>4</td>\n",
       "      <td>통신</td>\n",
       "    </tr>\n",
       "    <tr>\n",
       "      <th>2461</th>\n",
       "      <td>A040300</td>\n",
       "      <td>YTN</td>\n",
       "      <td>4</td>\n",
       "      <td>4</td>\n",
       "      <td>통신</td>\n",
       "    </tr>\n",
       "    <tr>\n",
       "      <th>2462</th>\n",
       "      <td>A066790</td>\n",
       "      <td>씨씨에스</td>\n",
       "      <td>2</td>\n",
       "      <td>4</td>\n",
       "      <td>통신</td>\n",
       "    </tr>\n",
       "  </tbody>\n",
       "</table>\n",
       "<p>2463 rows × 5 columns</p>\n",
       "</div>"
      ],
      "text/plain": [
       "       iem_cd iem_krl_nm  보유 개수  btp_cfc_cd name\n",
       "0     A005930       삼성전자    374           9   전기\n",
       "1     A000660     SK하이닉스    182           9   전기\n",
       "2     A005935      삼성전자우    129           9   전기\n",
       "3     A015760       한국전력    115           9   전기\n",
       "4     A336260      두산퓨얼셀    113           9   전기\n",
       "...       ...        ...    ...         ...  ...\n",
       "2458  A051780      큐로홀딩스      7           4   통신\n",
       "2459  A039340     한국경제TV      7           4   통신\n",
       "2460  A036800    나이스정보통신      7           4   통신\n",
       "2461  A040300        YTN      4           4   통신\n",
       "2462  A066790       씨씨에스      2           4   통신\n",
       "\n",
       "[2463 rows x 5 columns]"
      ]
     },
     "execution_count": 476,
     "metadata": {},
     "output_type": "execute_result"
    }
   ],
   "source": [
    "iem_f = iem[['iem_cd','iem_krl_nm']]\n",
    "test = {'iem_cd' : label, '보유 개수': num}\n",
    "df = DataFrame(test)\n",
    "df2 = pd.merge(iem_f, df, on='iem_cd').sort_values('보유 개수', ascending=False)\n",
    "test = iem[['iem_cd', 'btp_cfc_cd']]\n",
    "df3 = pd.merge(df2, test, on = 'iem_cd')\n",
    "\n",
    "btp_cfc_dic = {1:'건설',2:'금융',3:'기계',4:'통신',5:'서비스',6:'운송',7:'유통',8:'의료',9:'전기',10:'제조',11:'철강',12:'화학',13:'IT',14:'기타'}\n",
    "dic = {'btp_cfc_cd':list(btp_cfc_dic.keys()), 'name':list(btp_cfc_dic.values())}\n",
    "temp = DataFrame(dic)\n",
    "\n",
    "df4 = pd.merge(df3, temp, on='btp_cfc_cd')\n",
    "df4\n",
    "# iem_cd 는 무시해도 될 듯"
   ]
  },
  {
   "cell_type": "markdown",
   "metadata": {},
   "source": [
    "#### 07: 가족성숙기_남자 (40-59세 & 기타 & 남자 ) : 보유 주식 별 분포(주식 종류X)"
   ]
  },
  {
   "cell_type": "code",
   "execution_count": 477,
   "metadata": {},
   "outputs": [
    {
     "data": {
      "image/png": "[encoded data removed]",
      "text/plain": [
       "<Figure size 432x288 with 1 Axes>"
      ]
     },
     "metadata": {},
     "output_type": "display_data"
    }
   ],
   "source": [
    "plt.pie(df2['보유 개수'][:10], labels = df2['iem_cd'][:10], \n",
    "        autopct = '%0.1f%%', counterclock = False)\n",
    "plt.title('07: 가족성숙기_남자 (40-59세 & 기타 & 남자 ) 보유 주식 분포')\n",
    "plt.show()"
   ]
  },
  {
   "cell_type": "markdown",
   "metadata": {},
   "source": [
    "#### 07: 가족성숙기_남자 (40-59세 & 기타 & 남자 ) : 보유 주식의 종류 별 분포"
   ]
  },
  {
   "cell_type": "code",
   "execution_count": 478,
   "metadata": {},
   "outputs": [
    {
     "data": {
      "image/png": "[encoded data removed]",
      "text/plain": [
       "<Figure size 432x288 with 1 Axes>"
      ]
     },
     "metadata": {
      "needs_background": "light"
     },
     "output_type": "display_data"
    }
   ],
   "source": [
    "df4\n",
    "label= list(df4['name'].unique())\n",
    "idx = np.arange(len(label))\n",
    "count = df4['btp_cfc_cd'].value_counts()\n",
    "plt.bar(idx, count)\n",
    "plt.title('07: 가족성숙기_남자 (40-59세 & 기타 & 남자 ) 보유 주식 종류 별 분포')\n",
    "plt.xlabel('업종')\n",
    "plt.ylabel('개수')\n",
    "plt.xticks(idx, label, fontsize=10)\n",
    "\n",
    "for i,v in enumerate(count):\n",
    "    plt.text(i,v,str(v), fontsize=10, horizontalalignment='center',verticalalignment=\"bottom\")\n",
    "\n",
    "plt.show()"
   ]
  },
  {
   "cell_type": "markdown",
   "metadata": {},
   "source": [
    "=============================================\n",
    "============================================="
   ]
  },
  {
   "cell_type": "markdown",
   "metadata": {},
   "source": [
    "#### 08: 가족성숙기_여자 (40-59세 & 기타 & 여자)"
   ]
  },
  {
   "cell_type": "code",
   "execution_count": 479,
   "metadata": {},
   "outputs": [],
   "source": [
    "import operator\n",
    "cd_list = stage_cd['cd_list'][6]\n",
    "cd_list\n",
    "cd_dict = {}\n",
    "for i in range(len(cd_list)):\n",
    "    cus_cd = list(cd_list[i])\n",
    "    for j in range(len(cus_cd)):\n",
    "        if cus_cd[j] in cd_dict:\n",
    "            cd_dict[cus_cd[j]] += 1\n",
    "        else:\n",
    "            cd_dict[cus_cd[j]] = 1\n",
    "# cd_dict\n",
    "cd_num = sorted(cd_dict.items(), key = operator.itemgetter(1), reverse=True)\n",
    "label = []\n",
    "num = []\n",
    "for i in range(len(cd_num)):\n",
    "    label.append(cd_num[i][0])\n",
    "    num.append(cd_num[i][1])"
   ]
  },
  {
   "cell_type": "code",
   "execution_count": 480,
   "metadata": {},
   "outputs": [
    {
     "data": {
      "image/png": "[encoded data removed]",
      "text/plain": [
       "<Figure size 432x288 with 1 Axes>"
      ]
     },
     "metadata": {
      "needs_background": "light"
     },
     "output_type": "display_data"
    }
   ],
   "source": [
    "index = np.arange(len(label))\n",
    "plt.title('08: 가족성숙기_여자 (40-59세 & 기타 & 여자)')\n",
    "plt.bar(index, num)\n",
    "plt.xticks(index, label, fontsize=3) # label 이름 넣기\n",
    "plt.ylim(0, max(num) + 100)\n",
    "plt.show()"
   ]
  },
  {
   "cell_type": "markdown",
   "metadata": {},
   "source": [
    "####  08: 가족성숙기_여자 (40-59세 & 기타 & 여자) : 보유 주식 개수 및 종류"
   ]
  },
  {
   "cell_type": "code",
   "execution_count": 481,
   "metadata": {},
   "outputs": [
    {
     "data": {
      "text/html": [
       "<div>\n",
       "<style scoped>\n",
       "    .dataframe tbody tr th:only-of-type {\n",
       "        vertical-align: middle;\n",
       "    }\n",
       "\n",
       "    .dataframe tbody tr th {\n",
       "        vertical-align: top;\n",
       "    }\n",
       "\n",
       "    .dataframe thead th {\n",
       "        text-align: right;\n",
       "    }\n",
       "</style>\n",
       "<table border=\"1\" class=\"dataframe\">\n",
       "  <thead>\n",
       "    <tr style=\"text-align: right;\">\n",
       "      <th></th>\n",
       "      <th>iem_cd</th>\n",
       "      <th>iem_krl_nm</th>\n",
       "      <th>보유 개수</th>\n",
       "      <th>btp_cfc_cd</th>\n",
       "      <th>name</th>\n",
       "    </tr>\n",
       "  </thead>\n",
       "  <tbody>\n",
       "    <tr>\n",
       "      <th>0</th>\n",
       "      <td>A005930</td>\n",
       "      <td>삼성전자</td>\n",
       "      <td>262</td>\n",
       "      <td>9</td>\n",
       "      <td>전기</td>\n",
       "    </tr>\n",
       "    <tr>\n",
       "      <th>1</th>\n",
       "      <td>A000660</td>\n",
       "      <td>SK하이닉스</td>\n",
       "      <td>126</td>\n",
       "      <td>9</td>\n",
       "      <td>전기</td>\n",
       "    </tr>\n",
       "    <tr>\n",
       "      <th>2</th>\n",
       "      <td>A005935</td>\n",
       "      <td>삼성전자우</td>\n",
       "      <td>96</td>\n",
       "      <td>9</td>\n",
       "      <td>전기</td>\n",
       "    </tr>\n",
       "    <tr>\n",
       "      <th>3</th>\n",
       "      <td>A015760</td>\n",
       "      <td>한국전력</td>\n",
       "      <td>69</td>\n",
       "      <td>9</td>\n",
       "      <td>전기</td>\n",
       "    </tr>\n",
       "    <tr>\n",
       "      <th>4</th>\n",
       "      <td>A006400</td>\n",
       "      <td>삼성SDI</td>\n",
       "      <td>68</td>\n",
       "      <td>9</td>\n",
       "      <td>전기</td>\n",
       "    </tr>\n",
       "    <tr>\n",
       "      <th>...</th>\n",
       "      <td>...</td>\n",
       "      <td>...</td>\n",
       "      <td>...</td>\n",
       "      <td>...</td>\n",
       "      <td>...</td>\n",
       "    </tr>\n",
       "    <tr>\n",
       "      <th>2279</th>\n",
       "      <td>A051780</td>\n",
       "      <td>큐로홀딩스</td>\n",
       "      <td>2</td>\n",
       "      <td>4</td>\n",
       "      <td>통신</td>\n",
       "    </tr>\n",
       "    <tr>\n",
       "      <th>2280</th>\n",
       "      <td>A036800</td>\n",
       "      <td>나이스정보통신</td>\n",
       "      <td>2</td>\n",
       "      <td>4</td>\n",
       "      <td>통신</td>\n",
       "    </tr>\n",
       "    <tr>\n",
       "      <th>2281</th>\n",
       "      <td>A040300</td>\n",
       "      <td>YTN</td>\n",
       "      <td>1</td>\n",
       "      <td>4</td>\n",
       "      <td>통신</td>\n",
       "    </tr>\n",
       "    <tr>\n",
       "      <th>2282</th>\n",
       "      <td>A115310</td>\n",
       "      <td>인포바인</td>\n",
       "      <td>1</td>\n",
       "      <td>4</td>\n",
       "      <td>통신</td>\n",
       "    </tr>\n",
       "    <tr>\n",
       "      <th>2283</th>\n",
       "      <td>A066790</td>\n",
       "      <td>씨씨에스</td>\n",
       "      <td>1</td>\n",
       "      <td>4</td>\n",
       "      <td>통신</td>\n",
       "    </tr>\n",
       "  </tbody>\n",
       "</table>\n",
       "<p>2284 rows × 5 columns</p>\n",
       "</div>"
      ],
      "text/plain": [
       "       iem_cd iem_krl_nm  보유 개수  btp_cfc_cd name\n",
       "0     A005930       삼성전자    262           9   전기\n",
       "1     A000660     SK하이닉스    126           9   전기\n",
       "2     A005935      삼성전자우     96           9   전기\n",
       "3     A015760       한국전력     69           9   전기\n",
       "4     A006400      삼성SDI     68           9   전기\n",
       "...       ...        ...    ...         ...  ...\n",
       "2279  A051780      큐로홀딩스      2           4   통신\n",
       "2280  A036800    나이스정보통신      2           4   통신\n",
       "2281  A040300        YTN      1           4   통신\n",
       "2282  A115310       인포바인      1           4   통신\n",
       "2283  A066790       씨씨에스      1           4   통신\n",
       "\n",
       "[2284 rows x 5 columns]"
      ]
     },
     "execution_count": 481,
     "metadata": {},
     "output_type": "execute_result"
    }
   ],
   "source": [
    "iem_f = iem[['iem_cd','iem_krl_nm']]\n",
    "test = {'iem_cd' : label, '보유 개수': num}\n",
    "df = DataFrame(test)\n",
    "df2 = pd.merge(iem_f, df, on='iem_cd').sort_values('보유 개수', ascending=False)\n",
    "test = iem[['iem_cd', 'btp_cfc_cd']]\n",
    "df3 = pd.merge(df2, test, on = 'iem_cd')\n",
    "\n",
    "btp_cfc_dic = {1:'건설',2:'금융',3:'기계',4:'통신',5:'서비스',6:'운송',7:'유통',8:'의료',9:'전기',10:'제조',11:'철강',12:'화학',13:'IT',14:'기타'}\n",
    "dic = {'btp_cfc_cd':list(btp_cfc_dic.keys()), 'name':list(btp_cfc_dic.values())}\n",
    "temp = DataFrame(dic)\n",
    "\n",
    "df4 = pd.merge(df3, temp, on='btp_cfc_cd')\n",
    "df4\n",
    "# iem_cd 는 무시해도 될 듯"
   ]
  },
  {
   "cell_type": "markdown",
   "metadata": {},
   "source": [
    "#### 08: 가족성숙기_여자 (40-59세 & 기타 & 여자) : 보유 주식 별 분포(주식 종류X)"
   ]
  },
  {
   "cell_type": "code",
   "execution_count": 482,
   "metadata": {},
   "outputs": [
    {
     "data": {
      "image/png": "[encoded data removed]",
      "text/plain": [
       "<Figure size 432x288 with 1 Axes>"
      ]
     },
     "metadata": {},
     "output_type": "display_data"
    }
   ],
   "source": [
    "plt.pie(df2['보유 개수'][:10], labels = df2['iem_cd'][:10], \n",
    "        autopct = '%0.1f%%', counterclock = False)\n",
    "plt.title('08: 가족성숙기_여자 (40-59세 & 기타 & 여자) 보유 주식 분포')\n",
    "plt.show()"
   ]
  },
  {
   "cell_type": "markdown",
   "metadata": {},
   "source": [
    "#### 08: 가족성숙기_여자 (40-59세 & 기타 & 여자) : 보유 주식의 종류 별 분포"
   ]
  },
  {
   "cell_type": "code",
   "execution_count": 483,
   "metadata": {},
   "outputs": [
    {
     "data": {
      "image/png": "[encoded data removed]",
      "text/plain": [
       "<Figure size 432x288 with 1 Axes>"
      ]
     },
     "metadata": {
      "needs_background": "light"
     },
     "output_type": "display_data"
    }
   ],
   "source": [
    "df4\n",
    "label= list(df4['name'].unique())\n",
    "idx = np.arange(len(label))\n",
    "count = df4['btp_cfc_cd'].value_counts()\n",
    "plt.bar(idx, count)\n",
    "plt.title('08: 가족성숙기_여자 (40-59세 & 기타 & 여자) 보유 주식 종류 별 분포')\n",
    "plt.xlabel('업종')\n",
    "plt.ylabel('개수')\n",
    "plt.xticks(idx, label, fontsize=10)\n",
    "\n",
    "for i,v in enumerate(count):\n",
    "    plt.text(i,v,str(v), fontsize=10, horizontalalignment='center',verticalalignment=\"bottom\")\n",
    "\n",
    "plt.show()"
   ]
  },
  {
   "cell_type": "markdown",
   "metadata": {},
   "source": [
    "=============================================\n",
    "============================================="
   ]
  },
  {
   "cell_type": "markdown",
   "metadata": {},
   "source": [
    "#### 09: 은퇴기 (60-69세)"
   ]
  },
  {
   "cell_type": "code",
   "execution_count": 484,
   "metadata": {},
   "outputs": [],
   "source": [
    "import operator\n",
    "cd_list = stage_cd['cd_list'][7]\n",
    "cd_list\n",
    "cd_dict = {}\n",
    "for i in range(len(cd_list)):\n",
    "    cus_cd = list(cd_list[i])\n",
    "    for j in range(len(cus_cd)):\n",
    "        if cus_cd[j] in cd_dict:\n",
    "            cd_dict[cus_cd[j]] += 1\n",
    "        else:\n",
    "            cd_dict[cus_cd[j]] = 1\n",
    "# cd_dict\n",
    "cd_num = sorted(cd_dict.items(), key = operator.itemgetter(1), reverse=True)\n",
    "label = []\n",
    "num = []\n",
    "for i in range(len(cd_num)):\n",
    "    label.append(cd_num[i][0])\n",
    "    num.append(cd_num[i][1])"
   ]
  },
  {
   "cell_type": "code",
   "execution_count": 485,
   "metadata": {},
   "outputs": [
    {
     "data": {
      "image/png": "[encoded data removed]",
      "text/plain": [
       "<Figure size 432x288 with 1 Axes>"
      ]
     },
     "metadata": {
      "needs_background": "light"
     },
     "output_type": "display_data"
    }
   ],
   "source": [
    "index = np.arange(len(label))\n",
    "plt.title('09 은퇴기 (60~69세)')\n",
    "plt.bar(index, num)\n",
    "plt.xticks(index, label, fontsize=3) # label 이름 넣기\n",
    "plt.ylim(0, 200)\n",
    "plt.show()"
   ]
  },
  {
   "cell_type": "markdown",
   "metadata": {},
   "source": [
    "#### 09 은퇴기(60~69세) : 보유 주식 개수 및 종류"
   ]
  },
  {
   "cell_type": "code",
   "execution_count": 486,
   "metadata": {},
   "outputs": [
    {
     "data": {
      "text/html": [
       "<div>\n",
       "<style scoped>\n",
       "    .dataframe tbody tr th:only-of-type {\n",
       "        vertical-align: middle;\n",
       "    }\n",
       "\n",
       "    .dataframe tbody tr th {\n",
       "        vertical-align: top;\n",
       "    }\n",
       "\n",
       "    .dataframe thead th {\n",
       "        text-align: right;\n",
       "    }\n",
       "</style>\n",
       "<table border=\"1\" class=\"dataframe\">\n",
       "  <thead>\n",
       "    <tr style=\"text-align: right;\">\n",
       "      <th></th>\n",
       "      <th>iem_cd</th>\n",
       "      <th>iem_krl_nm</th>\n",
       "      <th>보유 개수</th>\n",
       "      <th>btp_cfc_cd</th>\n",
       "      <th>name</th>\n",
       "    </tr>\n",
       "  </thead>\n",
       "  <tbody>\n",
       "    <tr>\n",
       "      <th>0</th>\n",
       "      <td>A005930</td>\n",
       "      <td>삼성전자</td>\n",
       "      <td>236</td>\n",
       "      <td>9</td>\n",
       "      <td>전기</td>\n",
       "    </tr>\n",
       "    <tr>\n",
       "      <th>1</th>\n",
       "      <td>A000660</td>\n",
       "      <td>SK하이닉스</td>\n",
       "      <td>126</td>\n",
       "      <td>9</td>\n",
       "      <td>전기</td>\n",
       "    </tr>\n",
       "    <tr>\n",
       "      <th>2</th>\n",
       "      <td>A005935</td>\n",
       "      <td>삼성전자우</td>\n",
       "      <td>87</td>\n",
       "      <td>9</td>\n",
       "      <td>전기</td>\n",
       "    </tr>\n",
       "    <tr>\n",
       "      <th>3</th>\n",
       "      <td>A006400</td>\n",
       "      <td>삼성SDI</td>\n",
       "      <td>77</td>\n",
       "      <td>9</td>\n",
       "      <td>전기</td>\n",
       "    </tr>\n",
       "    <tr>\n",
       "      <th>4</th>\n",
       "      <td>A009150</td>\n",
       "      <td>삼성전기</td>\n",
       "      <td>64</td>\n",
       "      <td>9</td>\n",
       "      <td>전기</td>\n",
       "    </tr>\n",
       "    <tr>\n",
       "      <th>...</th>\n",
       "      <td>...</td>\n",
       "      <td>...</td>\n",
       "      <td>...</td>\n",
       "      <td>...</td>\n",
       "      <td>...</td>\n",
       "    </tr>\n",
       "    <tr>\n",
       "      <th>2314</th>\n",
       "      <td>A033830</td>\n",
       "      <td>티비씨</td>\n",
       "      <td>5</td>\n",
       "      <td>4</td>\n",
       "      <td>통신</td>\n",
       "    </tr>\n",
       "    <tr>\n",
       "      <th>2315</th>\n",
       "      <td>A048550</td>\n",
       "      <td>SM C&amp;C</td>\n",
       "      <td>4</td>\n",
       "      <td>4</td>\n",
       "      <td>통신</td>\n",
       "    </tr>\n",
       "    <tr>\n",
       "      <th>2316</th>\n",
       "      <td>A036800</td>\n",
       "      <td>나이스정보통신</td>\n",
       "      <td>2</td>\n",
       "      <td>4</td>\n",
       "      <td>통신</td>\n",
       "    </tr>\n",
       "    <tr>\n",
       "      <th>2317</th>\n",
       "      <td>A040300</td>\n",
       "      <td>YTN</td>\n",
       "      <td>1</td>\n",
       "      <td>4</td>\n",
       "      <td>통신</td>\n",
       "    </tr>\n",
       "    <tr>\n",
       "      <th>2318</th>\n",
       "      <td>A066790</td>\n",
       "      <td>씨씨에스</td>\n",
       "      <td>1</td>\n",
       "      <td>4</td>\n",
       "      <td>통신</td>\n",
       "    </tr>\n",
       "  </tbody>\n",
       "</table>\n",
       "<p>2319 rows × 5 columns</p>\n",
       "</div>"
      ],
      "text/plain": [
       "       iem_cd iem_krl_nm  보유 개수  btp_cfc_cd name\n",
       "0     A005930       삼성전자    236           9   전기\n",
       "1     A000660     SK하이닉스    126           9   전기\n",
       "2     A005935      삼성전자우     87           9   전기\n",
       "3     A006400      삼성SDI     77           9   전기\n",
       "4     A009150       삼성전기     64           9   전기\n",
       "...       ...        ...    ...         ...  ...\n",
       "2314  A033830        티비씨      5           4   통신\n",
       "2315  A048550     SM C&C      4           4   통신\n",
       "2316  A036800    나이스정보통신      2           4   통신\n",
       "2317  A040300        YTN      1           4   통신\n",
       "2318  A066790       씨씨에스      1           4   통신\n",
       "\n",
       "[2319 rows x 5 columns]"
      ]
     },
     "execution_count": 486,
     "metadata": {},
     "output_type": "execute_result"
    }
   ],
   "source": [
    "iem_f = iem[['iem_cd','iem_krl_nm']]\n",
    "test = {'iem_cd' : label, '보유 개수': num}\n",
    "df = DataFrame(test)\n",
    "df2 = pd.merge(iem_f, df, on='iem_cd').sort_values('보유 개수', ascending=False)\n",
    "test = iem[['iem_cd', 'btp_cfc_cd']]\n",
    "df3 = pd.merge(df2, test, on = 'iem_cd')\n",
    "\n",
    "btp_cfc_dic = {1:'건설',2:'금융',3:'기계',4:'통신',5:'서비스',6:'운송',7:'유통',8:'의료',9:'전기',10:'제조',11:'철강',12:'화학',13:'IT',14:'기타'}\n",
    "dic = {'btp_cfc_cd':list(btp_cfc_dic.keys()), 'name':list(btp_cfc_dic.values())}\n",
    "temp = DataFrame(dic)\n",
    "\n",
    "df4 = pd.merge(df3, temp, on='btp_cfc_cd')\n",
    "df4\n",
    "# iem_cd 는 무시해도 될 듯"
   ]
  },
  {
   "cell_type": "markdown",
   "metadata": {},
   "source": [
    "#### 09 은퇴기(60~69세) : 보유 주식 별 분포(주식 종류X)"
   ]
  },
  {
   "cell_type": "code",
   "execution_count": 487,
   "metadata": {},
   "outputs": [
    {
     "data": {
      "image/png": "[encoded data removed]",
      "text/plain": [
       "<Figure size 432x288 with 1 Axes>"
      ]
     },
     "metadata": {},
     "output_type": "display_data"
    }
   ],
   "source": [
    "plt.pie(df2['보유 개수'][:10], labels = df2['iem_cd'][:10], \n",
    "        autopct = '%0.1f%%', counterclock = False)\n",
    "plt.title('09: 은퇴기(60~69세) 보유 주식 분포')\n",
    "plt.show()"
   ]
  },
  {
   "cell_type": "markdown",
   "metadata": {},
   "source": [
    "#### 09 은퇴기(60~69세) : 보유 주식의 종류 별 분포"
   ]
  },
  {
   "cell_type": "code",
   "execution_count": 488,
   "metadata": {},
   "outputs": [
    {
     "data": {
      "image/png": "[encoded data removed]",
      "text/plain": [
       "<Figure size 432x288 with 1 Axes>"
      ]
     },
     "metadata": {
      "needs_background": "light"
     },
     "output_type": "display_data"
    }
   ],
   "source": [
    "df4\n",
    "label= list(df4['name'].unique())\n",
    "idx = np.arange(len(label))\n",
    "count = df4['btp_cfc_cd'].value_counts()\n",
    "plt.bar(idx, count)\n",
    "plt.title('09은퇴기(60~69세) 보유 주식 종류 별 분포')\n",
    "plt.xlabel('업종')\n",
    "plt.ylabel('개수')\n",
    "plt.xticks(idx, label, fontsize=10)\n",
    "\n",
    "for i,v in enumerate(count):\n",
    "    plt.text(i,v,str(v), fontsize=10, horizontalalignment='center',verticalalignment=\"bottom\")\n",
    "\n",
    "plt.show()"
   ]
  },
  {
   "cell_type": "markdown",
   "metadata": {},
   "source": [
    "=============================================\n",
    "============================================="
   ]
  },
  {
   "cell_type": "code",
   "execution_count": 489,
   "metadata": {},
   "outputs": [],
   "source": [
    "# cus_stg\n",
    "# cus_stg[(cus_stg['act_id'] == '64aae8dd71e5c0761000db9f9a6779e504e7a4aa9dc097067e5b41a971afa1da')]"
   ]
  },
  {
   "cell_type": "markdown",
   "metadata": {},
   "source": [
    "###  고객정보의 투자성향에 따른 종목 분포도 분석하면 좋을 것 같음\n",
    "투자성향 분포\n",
    "\n",
    "01: 안정형\n",
    "\n",
    "02: 안정추구형\n",
    "\n",
    "03: 위험중립형\n",
    "\n",
    "04: 적극투자형\n",
    "\n",
    "05: 공격투자형\n",
    "\n",
    "09: 전문투자가형\n",
    "\n",
    "00: 정보제공미동의\n",
    "\n",
    "99: 미정의"
   ]
  },
  {
   "cell_type": "markdown",
   "metadata": {},
   "source": [
    "## 종목 코드 분포도 분석\n",
    "\n",
    "- act_id : 계좌 번호\n",
    "- iem_cd : 종목 코드\n",
    "- iem_krl_nm : 종목 코드 이름"
   ]
  },
  {
   "cell_type": "markdown",
   "metadata": {},
   "source": [
    "#### 종목 코드"
   ]
  },
  {
   "cell_type": "code",
   "execution_count": 419,
   "metadata": {},
   "outputs": [
    {
     "data": {
      "text/plain": [
       "A005930    61617\n",
       "A000660    22483\n",
       "A035720    21616\n",
       "A005380    17722\n",
       "A005935    17651\n",
       "           ...  \n",
       "A145940        1\n",
       "A318590        1\n",
       "A258340        1\n",
       "A30703K        1\n",
       "A35732K        1\n",
       "Name: iem_cd, Length: 2926, dtype: int64"
      ]
     },
     "execution_count": 419,
     "metadata": {},
     "output_type": "execute_result"
    }
   ],
   "source": [
    "hist['iem_cd'].value_counts()"
   ]
  },
  {
   "cell_type": "code",
   "execution_count": 420,
   "metadata": {},
   "outputs": [
    {
     "data": {
      "text/html": [
       "<div>\n",
       "<style scoped>\n",
       "    .dataframe tbody tr th:only-of-type {\n",
       "        vertical-align: middle;\n",
       "    }\n",
       "\n",
       "    .dataframe tbody tr th {\n",
       "        vertical-align: top;\n",
       "    }\n",
       "\n",
       "    .dataframe thead th {\n",
       "        text-align: right;\n",
       "    }\n",
       "</style>\n",
       "<table border=\"1\" class=\"dataframe\">\n",
       "  <thead>\n",
       "    <tr style=\"text-align: right;\">\n",
       "      <th></th>\n",
       "      <th>iem_cd</th>\n",
       "      <th>count</th>\n",
       "    </tr>\n",
       "  </thead>\n",
       "  <tbody>\n",
       "    <tr>\n",
       "      <th>0</th>\n",
       "      <td>A005930</td>\n",
       "      <td>61617</td>\n",
       "    </tr>\n",
       "    <tr>\n",
       "      <th>1</th>\n",
       "      <td>A000660</td>\n",
       "      <td>22483</td>\n",
       "    </tr>\n",
       "    <tr>\n",
       "      <th>2</th>\n",
       "      <td>A035720</td>\n",
       "      <td>21616</td>\n",
       "    </tr>\n",
       "    <tr>\n",
       "      <th>3</th>\n",
       "      <td>A005380</td>\n",
       "      <td>17722</td>\n",
       "    </tr>\n",
       "    <tr>\n",
       "      <th>4</th>\n",
       "      <td>A005935</td>\n",
       "      <td>17651</td>\n",
       "    </tr>\n",
       "    <tr>\n",
       "      <th>...</th>\n",
       "      <td>...</td>\n",
       "      <td>...</td>\n",
       "    </tr>\n",
       "    <tr>\n",
       "      <th>2921</th>\n",
       "      <td>A145940</td>\n",
       "      <td>1</td>\n",
       "    </tr>\n",
       "    <tr>\n",
       "      <th>2922</th>\n",
       "      <td>A318590</td>\n",
       "      <td>1</td>\n",
       "    </tr>\n",
       "    <tr>\n",
       "      <th>2923</th>\n",
       "      <td>A258340</td>\n",
       "      <td>1</td>\n",
       "    </tr>\n",
       "    <tr>\n",
       "      <th>2924</th>\n",
       "      <td>A30703K</td>\n",
       "      <td>1</td>\n",
       "    </tr>\n",
       "    <tr>\n",
       "      <th>2925</th>\n",
       "      <td>A35732K</td>\n",
       "      <td>1</td>\n",
       "    </tr>\n",
       "  </tbody>\n",
       "</table>\n",
       "<p>2926 rows × 2 columns</p>\n",
       "</div>"
      ],
      "text/plain": [
       "       iem_cd  count\n",
       "0     A005930  61617\n",
       "1     A000660  22483\n",
       "2     A035720  21616\n",
       "3     A005380  17722\n",
       "4     A005935  17651\n",
       "...       ...    ...\n",
       "2921  A145940      1\n",
       "2922  A318590      1\n",
       "2923  A258340      1\n",
       "2924  A30703K      1\n",
       "2925  A35732K      1\n",
       "\n",
       "[2926 rows x 2 columns]"
      ]
     },
     "execution_count": 420,
     "metadata": {},
     "output_type": "execute_result"
    }
   ],
   "source": [
    "hist_f = hist['iem_cd'].value_counts().rename_axis('iem_cd').reset_index(name = 'count')\n",
    "hist_f"
   ]
  },
  {
   "cell_type": "markdown",
   "metadata": {},
   "source": [
    "#### 종목 코드 이름"
   ]
  },
  {
   "cell_type": "code",
   "execution_count": 421,
   "metadata": {},
   "outputs": [
    {
     "data": {
      "text/html": [
       "<div>\n",
       "<style scoped>\n",
       "    .dataframe tbody tr th:only-of-type {\n",
       "        vertical-align: middle;\n",
       "    }\n",
       "\n",
       "    .dataframe tbody tr th {\n",
       "        vertical-align: top;\n",
       "    }\n",
       "\n",
       "    .dataframe thead th {\n",
       "        text-align: right;\n",
       "    }\n",
       "</style>\n",
       "<table border=\"1\" class=\"dataframe\">\n",
       "  <thead>\n",
       "    <tr style=\"text-align: right;\">\n",
       "      <th></th>\n",
       "      <th>iem_cd</th>\n",
       "      <th>iem_krl_nm</th>\n",
       "    </tr>\n",
       "  </thead>\n",
       "  <tbody>\n",
       "    <tr>\n",
       "      <th>0</th>\n",
       "      <td>A000020</td>\n",
       "      <td>동화약품</td>\n",
       "    </tr>\n",
       "    <tr>\n",
       "      <th>1</th>\n",
       "      <td>A000080</td>\n",
       "      <td>하이트진로</td>\n",
       "    </tr>\n",
       "    <tr>\n",
       "      <th>2</th>\n",
       "      <td>A000180</td>\n",
       "      <td>성창기업지주</td>\n",
       "    </tr>\n",
       "    <tr>\n",
       "      <th>3</th>\n",
       "      <td>A000227</td>\n",
       "      <td>유유제약2우B</td>\n",
       "    </tr>\n",
       "    <tr>\n",
       "      <th>4</th>\n",
       "      <td>A000325</td>\n",
       "      <td>노루홀딩스우</td>\n",
       "    </tr>\n",
       "    <tr>\n",
       "      <th>...</th>\n",
       "      <td>...</td>\n",
       "      <td>...</td>\n",
       "    </tr>\n",
       "    <tr>\n",
       "      <th>3074</th>\n",
       "      <td>A383310</td>\n",
       "      <td>에코프로에이치엔</td>\n",
       "    </tr>\n",
       "    <tr>\n",
       "      <th>3075</th>\n",
       "      <td>A385520</td>\n",
       "      <td>KODEX K-미래차액티브</td>\n",
       "    </tr>\n",
       "    <tr>\n",
       "      <th>3076</th>\n",
       "      <td>A388280</td>\n",
       "      <td>KBSTAR Fn컨택트대표</td>\n",
       "    </tr>\n",
       "    <tr>\n",
       "      <th>3077</th>\n",
       "      <td>A388420</td>\n",
       "      <td>KBSTAR 비메모리반도체액티브</td>\n",
       "    </tr>\n",
       "    <tr>\n",
       "      <th>3078</th>\n",
       "      <td>A394350</td>\n",
       "      <td>KOSEF 릭소글로벌퓨처모빌리티MSCI</td>\n",
       "    </tr>\n",
       "  </tbody>\n",
       "</table>\n",
       "<p>3079 rows × 2 columns</p>\n",
       "</div>"
      ],
      "text/plain": [
       "       iem_cd             iem_krl_nm\n",
       "0     A000020                   동화약품\n",
       "1     A000080                  하이트진로\n",
       "2     A000180                 성창기업지주\n",
       "3     A000227                유유제약2우B\n",
       "4     A000325                 노루홀딩스우\n",
       "...       ...                    ...\n",
       "3074  A383310               에코프로에이치엔\n",
       "3075  A385520         KODEX K-미래차액티브\n",
       "3076  A388280         KBSTAR Fn컨택트대표\n",
       "3077  A388420      KBSTAR 비메모리반도체액티브\n",
       "3078  A394350  KOSEF 릭소글로벌퓨처모빌리티MSCI\n",
       "\n",
       "[3079 rows x 2 columns]"
      ]
     },
     "execution_count": 421,
     "metadata": {},
     "output_type": "execute_result"
    }
   ],
   "source": [
    "iem_f = iem[['iem_cd','iem_krl_nm']]\n",
    "iem_f"
   ]
  },
  {
   "cell_type": "markdown",
   "metadata": {},
   "source": [
    "#### 종목 종류 별 개수"
   ]
  },
  {
   "cell_type": "code",
   "execution_count": 422,
   "metadata": {},
   "outputs": [
    {
     "data": {
      "text/html": [
       "<div>\n",
       "<style scoped>\n",
       "    .dataframe tbody tr th:only-of-type {\n",
       "        vertical-align: middle;\n",
       "    }\n",
       "\n",
       "    .dataframe tbody tr th {\n",
       "        vertical-align: top;\n",
       "    }\n",
       "\n",
       "    .dataframe thead th {\n",
       "        text-align: right;\n",
       "    }\n",
       "</style>\n",
       "<table border=\"1\" class=\"dataframe\">\n",
       "  <thead>\n",
       "    <tr style=\"text-align: right;\">\n",
       "      <th></th>\n",
       "      <th>iem_cd</th>\n",
       "      <th>count</th>\n",
       "      <th>iem_krl_nm</th>\n",
       "    </tr>\n",
       "  </thead>\n",
       "  <tbody>\n",
       "    <tr>\n",
       "      <th>0</th>\n",
       "      <td>A005930</td>\n",
       "      <td>61617</td>\n",
       "      <td>삼성전자</td>\n",
       "    </tr>\n",
       "    <tr>\n",
       "      <th>1</th>\n",
       "      <td>A000660</td>\n",
       "      <td>22483</td>\n",
       "      <td>SK하이닉스</td>\n",
       "    </tr>\n",
       "    <tr>\n",
       "      <th>2</th>\n",
       "      <td>A035720</td>\n",
       "      <td>21616</td>\n",
       "      <td>카카오</td>\n",
       "    </tr>\n",
       "    <tr>\n",
       "      <th>3</th>\n",
       "      <td>A005380</td>\n",
       "      <td>17722</td>\n",
       "      <td>현대차</td>\n",
       "    </tr>\n",
       "    <tr>\n",
       "      <th>4</th>\n",
       "      <td>A005935</td>\n",
       "      <td>17651</td>\n",
       "      <td>삼성전자우</td>\n",
       "    </tr>\n",
       "    <tr>\n",
       "      <th>...</th>\n",
       "      <td>...</td>\n",
       "      <td>...</td>\n",
       "      <td>...</td>\n",
       "    </tr>\n",
       "    <tr>\n",
       "      <th>2921</th>\n",
       "      <td>A145940</td>\n",
       "      <td>1</td>\n",
       "      <td>알피니언메디칼시스템</td>\n",
       "    </tr>\n",
       "    <tr>\n",
       "      <th>2922</th>\n",
       "      <td>A318590</td>\n",
       "      <td>1</td>\n",
       "      <td>스탠다드그래핀</td>\n",
       "    </tr>\n",
       "    <tr>\n",
       "      <th>2923</th>\n",
       "      <td>A258340</td>\n",
       "      <td>1</td>\n",
       "      <td>센트롤</td>\n",
       "    </tr>\n",
       "    <tr>\n",
       "      <th>2924</th>\n",
       "      <td>A30703K</td>\n",
       "      <td>1</td>\n",
       "      <td>조앤강1우</td>\n",
       "    </tr>\n",
       "    <tr>\n",
       "      <th>2925</th>\n",
       "      <td>A35732K</td>\n",
       "      <td>1</td>\n",
       "      <td>하스퍼1우</td>\n",
       "    </tr>\n",
       "  </tbody>\n",
       "</table>\n",
       "<p>2926 rows × 3 columns</p>\n",
       "</div>"
      ],
      "text/plain": [
       "       iem_cd  count  iem_krl_nm\n",
       "0     A005930  61617        삼성전자\n",
       "1     A000660  22483      SK하이닉스\n",
       "2     A035720  21616         카카오\n",
       "3     A005380  17722         현대차\n",
       "4     A005935  17651       삼성전자우\n",
       "...       ...    ...         ...\n",
       "2921  A145940      1  알피니언메디칼시스템\n",
       "2922  A318590      1     스탠다드그래핀\n",
       "2923  A258340      1         센트롤\n",
       "2924  A30703K      1       조앤강1우\n",
       "2925  A35732K      1       하스퍼1우\n",
       "\n",
       "[2926 rows x 3 columns]"
      ]
     },
     "execution_count": 422,
     "metadata": {},
     "output_type": "execute_result"
    }
   ],
   "source": [
    "iem_cdname = pd.merge(hist_f, iem_f, on = 'iem_cd')\n",
    "iem_cdname"
   ]
  },
  {
   "cell_type": "markdown",
   "metadata": {},
   "source": [
    "#### 상위 10개 주식 종목 분포도"
   ]
  },
  {
   "cell_type": "code",
   "execution_count": 423,
   "metadata": {},
   "outputs": [
    {
     "data": {
      "image/png": "[encoded data removed]",
      "text/plain": [
       "<Figure size 432x288 with 1 Axes>"
      ]
     },
     "metadata": {},
     "output_type": "display_data"
    }
   ],
   "source": [
    "plt.pie(iem_cdname['count'][:10], labels = iem_cdname['iem_cd'][:10], \n",
    "        autopct = '%0.1f%%', counterclock = False)\n",
    "plt.show()"
   ]
  },
  {
   "cell_type": "markdown",
   "metadata": {},
   "source": [
    "## 종목 별 주당 액면가 \n",
    "- iem_cd : 종목 코드\n",
    "- stk_par_pr : 액면가"
   ]
  },
  {
   "cell_type": "code",
   "execution_count": 424,
   "metadata": {},
   "outputs": [
    {
     "data": {
      "text/html": [
       "<div>\n",
       "<style scoped>\n",
       "    .dataframe tbody tr th:only-of-type {\n",
       "        vertical-align: middle;\n",
       "    }\n",
       "\n",
       "    .dataframe tbody tr th {\n",
       "        vertical-align: top;\n",
       "    }\n",
       "\n",
       "    .dataframe thead th {\n",
       "        text-align: right;\n",
       "    }\n",
       "</style>\n",
       "<table border=\"1\" class=\"dataframe\">\n",
       "  <thead>\n",
       "    <tr style=\"text-align: right;\">\n",
       "      <th></th>\n",
       "      <th>iem_cd</th>\n",
       "      <th>count</th>\n",
       "      <th>iem_krl_nm</th>\n",
       "      <th>stk_par_pr</th>\n",
       "    </tr>\n",
       "  </thead>\n",
       "  <tbody>\n",
       "    <tr>\n",
       "      <th>0</th>\n",
       "      <td>A005930</td>\n",
       "      <td>61617</td>\n",
       "      <td>삼성전자</td>\n",
       "      <td>100.0</td>\n",
       "    </tr>\n",
       "    <tr>\n",
       "      <th>1</th>\n",
       "      <td>A000660</td>\n",
       "      <td>22483</td>\n",
       "      <td>SK하이닉스</td>\n",
       "      <td>5000.0</td>\n",
       "    </tr>\n",
       "    <tr>\n",
       "      <th>2</th>\n",
       "      <td>A035720</td>\n",
       "      <td>21616</td>\n",
       "      <td>카카오</td>\n",
       "      <td>500.0</td>\n",
       "    </tr>\n",
       "    <tr>\n",
       "      <th>3</th>\n",
       "      <td>A005380</td>\n",
       "      <td>17722</td>\n",
       "      <td>현대차</td>\n",
       "      <td>5000.0</td>\n",
       "    </tr>\n",
       "    <tr>\n",
       "      <th>4</th>\n",
       "      <td>A005935</td>\n",
       "      <td>17651</td>\n",
       "      <td>삼성전자우</td>\n",
       "      <td>5000.0</td>\n",
       "    </tr>\n",
       "    <tr>\n",
       "      <th>...</th>\n",
       "      <td>...</td>\n",
       "      <td>...</td>\n",
       "      <td>...</td>\n",
       "      <td>...</td>\n",
       "    </tr>\n",
       "    <tr>\n",
       "      <th>2921</th>\n",
       "      <td>A145940</td>\n",
       "      <td>1</td>\n",
       "      <td>알피니언메디칼시스템</td>\n",
       "      <td>500.0</td>\n",
       "    </tr>\n",
       "    <tr>\n",
       "      <th>2922</th>\n",
       "      <td>A318590</td>\n",
       "      <td>1</td>\n",
       "      <td>스탠다드그래핀</td>\n",
       "      <td>500.0</td>\n",
       "    </tr>\n",
       "    <tr>\n",
       "      <th>2923</th>\n",
       "      <td>A258340</td>\n",
       "      <td>1</td>\n",
       "      <td>센트롤</td>\n",
       "      <td>500.0</td>\n",
       "    </tr>\n",
       "    <tr>\n",
       "      <th>2924</th>\n",
       "      <td>A30703K</td>\n",
       "      <td>1</td>\n",
       "      <td>조앤강1우</td>\n",
       "      <td>100.0</td>\n",
       "    </tr>\n",
       "    <tr>\n",
       "      <th>2925</th>\n",
       "      <td>A35732K</td>\n",
       "      <td>1</td>\n",
       "      <td>하스퍼1우</td>\n",
       "      <td>5000.0</td>\n",
       "    </tr>\n",
       "  </tbody>\n",
       "</table>\n",
       "<p>2926 rows × 4 columns</p>\n",
       "</div>"
      ],
      "text/plain": [
       "       iem_cd  count  iem_krl_nm  stk_par_pr\n",
       "0     A005930  61617        삼성전자       100.0\n",
       "1     A000660  22483      SK하이닉스      5000.0\n",
       "2     A035720  21616         카카오       500.0\n",
       "3     A005380  17722         현대차      5000.0\n",
       "4     A005935  17651       삼성전자우      5000.0\n",
       "...       ...    ...         ...         ...\n",
       "2921  A145940      1  알피니언메디칼시스템       500.0\n",
       "2922  A318590      1     스탠다드그래핀       500.0\n",
       "2923  A258340      1         센트롤       500.0\n",
       "2924  A30703K      1       조앤강1우       100.0\n",
       "2925  A35732K      1       하스퍼1우      5000.0\n",
       "\n",
       "[2926 rows x 4 columns]"
      ]
     },
     "execution_count": 424,
     "metadata": {},
     "output_type": "execute_result"
    }
   ],
   "source": [
    "df1 = hist[['iem_cd', 'stk_par_pr']].drop_duplicates(['iem_cd'])\n",
    "df2 = pd.merge(iem_cdname, df1, on = 'iem_cd')\n",
    "df2"
   ]
  },
  {
   "cell_type": "markdown",
   "metadata": {},
   "source": [
    "#### 주당 액면가 분포도\n",
    "\n",
    "- 데이터에 포함된 종목 2926개 중 주당 액면가 분포 조사"
   ]
  },
  {
   "cell_type": "code",
   "execution_count": 425,
   "metadata": {},
   "outputs": [],
   "source": [
    "stk_par_pr = df2['stk_par_pr'].value_counts().rename_axis('par').reset_index(name='count')"
   ]
  },
  {
   "cell_type": "code",
   "execution_count": 426,
   "metadata": {},
   "outputs": [
    {
     "data": {
      "image/png": "[encoded data removed]",
      "text/plain": [
       "<Figure size 432x288 with 1 Axes>"
      ]
     },
     "metadata": {
      "needs_background": "light"
     },
     "output_type": "display_data"
    }
   ],
   "source": [
    "df_by_group = stk_par_pr.groupby(['par'])['count'].sum()\n",
    "label = df_by_group.index\n",
    "index = np.arange(len(label))\n",
    "plt.title('par Analysis')\n",
    "plt.bar(index, df_by_group)\n",
    "plt.xticks(index, label, fontsize=10) # label 이름 넣기\n",
    "plt.ylim(0, 2926)\n",
    "plt.show()"
   ]
  },
  {
   "cell_type": "markdown",
   "metadata": {},
   "source": [
    "### 계좌번호 별 보유종목의 잔고수량 및 잔고금액\n",
    "\n",
    "- 계좌번호 / 종목코드 / 기준일자 / 잔고수량 / 잔고금액\n",
    "- act_id / iem_cd / bse_dt / bnc_qty / tot_aet_amt\n",
    "- 계좌번호 별 보유종목 코드 : id_cd_list (위에 있음)\n"
   ]
  },
  {
   "cell_type": "code",
   "execution_count": 496,
   "metadata": {},
   "outputs": [
    {
     "data": {
      "text/html": [
       "<div>\n",
       "<style scoped>\n",
       "    .dataframe tbody tr th:only-of-type {\n",
       "        vertical-align: middle;\n",
       "    }\n",
       "\n",
       "    .dataframe tbody tr th {\n",
       "        vertical-align: top;\n",
       "    }\n",
       "\n",
       "    .dataframe thead th {\n",
       "        text-align: right;\n",
       "    }\n",
       "</style>\n",
       "<table border=\"1\" class=\"dataframe\">\n",
       "  <thead>\n",
       "    <tr style=\"text-align: right;\">\n",
       "      <th></th>\n",
       "      <th>act_id</th>\n",
       "      <th>iem_cd_list</th>\n",
       "      <th>count</th>\n",
       "    </tr>\n",
       "  </thead>\n",
       "  <tbody>\n",
       "    <tr>\n",
       "      <th>0</th>\n",
       "      <td>0000c7a5a5a1db9c7e890da984b20d544c09cb6f51c546...</td>\n",
       "      <td>{A079980, A093370, A104040, A033270, A247540, ...</td>\n",
       "      <td>27</td>\n",
       "    </tr>\n",
       "    <tr>\n",
       "      <th>1</th>\n",
       "      <td>0007f3d10282e6f9de1eb445a64eb1f13e9ed2308cfbfa...</td>\n",
       "      <td>{A092220, A000660, A060250, A227950, A033270, ...</td>\n",
       "      <td>32</td>\n",
       "    </tr>\n",
       "    <tr>\n",
       "      <th>2</th>\n",
       "      <td>0008d1bfac569bdb998897e2eb8519dec06b9277a686f4...</td>\n",
       "      <td>{A052020, A009420, A179900, A053800, A096630, ...</td>\n",
       "      <td>51</td>\n",
       "    </tr>\n",
       "    <tr>\n",
       "      <th>3</th>\n",
       "      <td>000a83a961cbcbce40673aed998effbd462fb10dcac8e6...</td>\n",
       "      <td>{A054050, A066570, A035720, A079160, A001040, ...</td>\n",
       "      <td>14</td>\n",
       "    </tr>\n",
       "    <tr>\n",
       "      <th>4</th>\n",
       "      <td>000b92ca83a96312a0909b1f489340f4d399c86555012f...</td>\n",
       "      <td>{A367380, A005930, A000660, A360200, A051910, ...</td>\n",
       "      <td>6</td>\n",
       "    </tr>\n",
       "    <tr>\n",
       "      <th>...</th>\n",
       "      <td>...</td>\n",
       "      <td>...</td>\n",
       "      <td>...</td>\n",
       "    </tr>\n",
       "    <tr>\n",
       "      <th>9987</th>\n",
       "      <td>ffea89aa464a4fcf8a5416989d21deef4e748192ba17bf...</td>\n",
       "      <td>{A034220, A066570, A153490, A082850, A037400}</td>\n",
       "      <td>5</td>\n",
       "    </tr>\n",
       "    <tr>\n",
       "      <th>9988</th>\n",
       "      <td>ffecc8e2823943ef1a7b0d9c6512f716a88032a1bdf7ba...</td>\n",
       "      <td>{A005360, A004770, A038340, A118990, A247540, ...</td>\n",
       "      <td>41</td>\n",
       "    </tr>\n",
       "    <tr>\n",
       "      <th>9989</th>\n",
       "      <td>ffee399294db1c721e010cbf3dae5c8a1f140dbaf2dcae...</td>\n",
       "      <td>{A004370, A104040, A012800, A068270, A082800, ...</td>\n",
       "      <td>27</td>\n",
       "    </tr>\n",
       "    <tr>\n",
       "      <th>9990</th>\n",
       "      <td>fff7d563e388744fdc1ca90153ec0161d1345511cb9070...</td>\n",
       "      <td>{A067630, A009420, A004770, A091090, A000995, ...</td>\n",
       "      <td>29</td>\n",
       "    </tr>\n",
       "    <tr>\n",
       "      <th>9991</th>\n",
       "      <td>fff9cf3aaffd32dcbf70dce8e5216411f9d38537b477d6...</td>\n",
       "      <td>{A298040, A043200, A253450, A004770, A293490, ...</td>\n",
       "      <td>37</td>\n",
       "    </tr>\n",
       "  </tbody>\n",
       "</table>\n",
       "<p>9992 rows × 3 columns</p>\n",
       "</div>"
      ],
      "text/plain": [
       "                                                 act_id  \\\n",
       "0     0000c7a5a5a1db9c7e890da984b20d544c09cb6f51c546...   \n",
       "1     0007f3d10282e6f9de1eb445a64eb1f13e9ed2308cfbfa...   \n",
       "2     0008d1bfac569bdb998897e2eb8519dec06b9277a686f4...   \n",
       "3     000a83a961cbcbce40673aed998effbd462fb10dcac8e6...   \n",
       "4     000b92ca83a96312a0909b1f489340f4d399c86555012f...   \n",
       "...                                                 ...   \n",
       "9987  ffea89aa464a4fcf8a5416989d21deef4e748192ba17bf...   \n",
       "9988  ffecc8e2823943ef1a7b0d9c6512f716a88032a1bdf7ba...   \n",
       "9989  ffee399294db1c721e010cbf3dae5c8a1f140dbaf2dcae...   \n",
       "9990  fff7d563e388744fdc1ca90153ec0161d1345511cb9070...   \n",
       "9991  fff9cf3aaffd32dcbf70dce8e5216411f9d38537b477d6...   \n",
       "\n",
       "                                            iem_cd_list  count  \n",
       "0     {A079980, A093370, A104040, A033270, A247540, ...     27  \n",
       "1     {A092220, A000660, A060250, A227950, A033270, ...     32  \n",
       "2     {A052020, A009420, A179900, A053800, A096630, ...     51  \n",
       "3     {A054050, A066570, A035720, A079160, A001040, ...     14  \n",
       "4     {A367380, A005930, A000660, A360200, A051910, ...      6  \n",
       "...                                                 ...    ...  \n",
       "9987      {A034220, A066570, A153490, A082850, A037400}      5  \n",
       "9988  {A005360, A004770, A038340, A118990, A247540, ...     41  \n",
       "9989  {A004370, A104040, A012800, A068270, A082800, ...     27  \n",
       "9990  {A067630, A009420, A004770, A091090, A000995, ...     29  \n",
       "9991  {A298040, A043200, A253450, A004770, A293490, ...     37  \n",
       "\n",
       "[9992 rows x 3 columns]"
      ]
     },
     "execution_count": 496,
     "metadata": {},
     "output_type": "execute_result"
    }
   ],
   "source": [
    "id_cd_list"
   ]
  },
  {
   "cell_type": "code",
   "execution_count": 498,
   "metadata": {},
   "outputs": [
    {
     "data": {
      "text/html": [
       "<div>\n",
       "<style scoped>\n",
       "    .dataframe tbody tr th:only-of-type {\n",
       "        vertical-align: middle;\n",
       "    }\n",
       "\n",
       "    .dataframe tbody tr th {\n",
       "        vertical-align: top;\n",
       "    }\n",
       "\n",
       "    .dataframe thead th {\n",
       "        text-align: right;\n",
       "    }\n",
       "</style>\n",
       "<table border=\"1\" class=\"dataframe\">\n",
       "  <thead>\n",
       "    <tr style=\"text-align: right;\">\n",
       "      <th></th>\n",
       "      <th>act_id</th>\n",
       "      <th>iem_cd</th>\n",
       "      <th>bse_dt</th>\n",
       "      <th>bnc_qty</th>\n",
       "      <th>tot_aet_amt</th>\n",
       "    </tr>\n",
       "  </thead>\n",
       "  <tbody>\n",
       "    <tr>\n",
       "      <th>0</th>\n",
       "      <td>1119c23c3a504ca7b75060277410c0f6fb9018ec7638c2...</td>\n",
       "      <td>A008770</td>\n",
       "      <td>20200820</td>\n",
       "      <td>40.0</td>\n",
       "      <td>2828000.0</td>\n",
       "    </tr>\n",
       "    <tr>\n",
       "      <th>1</th>\n",
       "      <td>1119c23c3a504ca7b75060277410c0f6fb9018ec7638c2...</td>\n",
       "      <td>A008770</td>\n",
       "      <td>20200623</td>\n",
       "      <td>20.0</td>\n",
       "      <td>1390000.0</td>\n",
       "    </tr>\n",
       "    <tr>\n",
       "      <th>2</th>\n",
       "      <td>1119c23c3a504ca7b75060277410c0f6fb9018ec7638c2...</td>\n",
       "      <td>A005940</td>\n",
       "      <td>20160104</td>\n",
       "      <td>311.0</td>\n",
       "      <td>2982490.0</td>\n",
       "    </tr>\n",
       "    <tr>\n",
       "      <th>3</th>\n",
       "      <td>1119c23c3a504ca7b75060277410c0f6fb9018ec7638c2...</td>\n",
       "      <td>A005930</td>\n",
       "      <td>20200814</td>\n",
       "      <td>40.0</td>\n",
       "      <td>2320000.0</td>\n",
       "    </tr>\n",
       "    <tr>\n",
       "      <th>4</th>\n",
       "      <td>1119c23c3a504ca7b75060277410c0f6fb9018ec7638c2...</td>\n",
       "      <td>A005930</td>\n",
       "      <td>20200623</td>\n",
       "      <td>20.0</td>\n",
       "      <td>1028000.0</td>\n",
       "    </tr>\n",
       "    <tr>\n",
       "      <th>...</th>\n",
       "      <td>...</td>\n",
       "      <td>...</td>\n",
       "      <td>...</td>\n",
       "      <td>...</td>\n",
       "      <td>...</td>\n",
       "    </tr>\n",
       "    <tr>\n",
       "      <th>2573834</th>\n",
       "      <td>720aa28d24bfa8fbeddf4fe625cb53af0a6f7ff2d526de...</td>\n",
       "      <td>A035720</td>\n",
       "      <td>20200806</td>\n",
       "      <td>1.0</td>\n",
       "      <td>364000.0</td>\n",
       "    </tr>\n",
       "    <tr>\n",
       "      <th>2573835</th>\n",
       "      <td>720aa28d24bfa8fbeddf4fe625cb53af0a6f7ff2d526de...</td>\n",
       "      <td>A035720</td>\n",
       "      <td>20200813</td>\n",
       "      <td>0.0</td>\n",
       "      <td>0.0</td>\n",
       "    </tr>\n",
       "    <tr>\n",
       "      <th>2573836</th>\n",
       "      <td>720aa28d24bfa8fbeddf4fe625cb53af0a6f7ff2d526de...</td>\n",
       "      <td>A035720</td>\n",
       "      <td>20200819</td>\n",
       "      <td>1.0</td>\n",
       "      <td>376500.0</td>\n",
       "    </tr>\n",
       "    <tr>\n",
       "      <th>2573837</th>\n",
       "      <td>720aa28d24bfa8fbeddf4fe625cb53af0a6f7ff2d526de...</td>\n",
       "      <td>A035720</td>\n",
       "      <td>20200825</td>\n",
       "      <td>0.0</td>\n",
       "      <td>0.0</td>\n",
       "    </tr>\n",
       "    <tr>\n",
       "      <th>2573838</th>\n",
       "      <td>720aa28d24bfa8fbeddf4fe625cb53af0a6f7ff2d526de...</td>\n",
       "      <td>A035720</td>\n",
       "      <td>20200901</td>\n",
       "      <td>1.0</td>\n",
       "      <td>401500.0</td>\n",
       "    </tr>\n",
       "  </tbody>\n",
       "</table>\n",
       "<p>2573839 rows × 5 columns</p>\n",
       "</div>"
      ],
      "text/plain": [
       "                                                    act_id   iem_cd    bse_dt  \\\n",
       "0        1119c23c3a504ca7b75060277410c0f6fb9018ec7638c2...  A008770  20200820   \n",
       "1        1119c23c3a504ca7b75060277410c0f6fb9018ec7638c2...  A008770  20200623   \n",
       "2        1119c23c3a504ca7b75060277410c0f6fb9018ec7638c2...  A005940  20160104   \n",
       "3        1119c23c3a504ca7b75060277410c0f6fb9018ec7638c2...  A005930  20200814   \n",
       "4        1119c23c3a504ca7b75060277410c0f6fb9018ec7638c2...  A005930  20200623   \n",
       "...                                                    ...      ...       ...   \n",
       "2573834  720aa28d24bfa8fbeddf4fe625cb53af0a6f7ff2d526de...  A035720  20200806   \n",
       "2573835  720aa28d24bfa8fbeddf4fe625cb53af0a6f7ff2d526de...  A035720  20200813   \n",
       "2573836  720aa28d24bfa8fbeddf4fe625cb53af0a6f7ff2d526de...  A035720  20200819   \n",
       "2573837  720aa28d24bfa8fbeddf4fe625cb53af0a6f7ff2d526de...  A035720  20200825   \n",
       "2573838  720aa28d24bfa8fbeddf4fe625cb53af0a6f7ff2d526de...  A035720  20200901   \n",
       "\n",
       "         bnc_qty  tot_aet_amt  \n",
       "0           40.0    2828000.0  \n",
       "1           20.0    1390000.0  \n",
       "2          311.0    2982490.0  \n",
       "3           40.0    2320000.0  \n",
       "4           20.0    1028000.0  \n",
       "...          ...          ...  \n",
       "2573834      1.0     364000.0  \n",
       "2573835      0.0          0.0  \n",
       "2573836      1.0     376500.0  \n",
       "2573837      0.0          0.0  \n",
       "2573838      1.0     401500.0  \n",
       "\n",
       "[2573839 rows x 5 columns]"
      ]
     },
     "execution_count": 498,
     "metadata": {},
     "output_type": "execute_result"
    }
   ],
   "source": [
    "df = hist[['act_id', 'iem_cd', 'bse_dt', 'bnc_qty', 'tot_aet_amt']]\n",
    "df"
   ]
  },
  {
   "cell_type": "markdown",
   "metadata": {},
   "source": [
    "### 기준일자 별 매매종목 확인(수정 중)"
   ]
  },
  {
   "cell_type": "code",
   "execution_count": 501,
   "metadata": {},
   "outputs": [
    {
     "data": {
      "text/html": [
       "<div>\n",
       "<style scoped>\n",
       "    .dataframe tbody tr th:only-of-type {\n",
       "        vertical-align: middle;\n",
       "    }\n",
       "\n",
       "    .dataframe tbody tr th {\n",
       "        vertical-align: top;\n",
       "    }\n",
       "\n",
       "    .dataframe thead th {\n",
       "        text-align: right;\n",
       "    }\n",
       "</style>\n",
       "<table border=\"1\" class=\"dataframe\">\n",
       "  <thead>\n",
       "    <tr style=\"text-align: right;\">\n",
       "      <th></th>\n",
       "      <th>bse_dt</th>\n",
       "      <th>bnc_qty</th>\n",
       "      <th>tot_aet_amt</th>\n",
       "    </tr>\n",
       "  </thead>\n",
       "  <tbody>\n",
       "    <tr>\n",
       "      <th>0</th>\n",
       "      <td>20200820</td>\n",
       "      <td>40.0</td>\n",
       "      <td>2828000.0</td>\n",
       "    </tr>\n",
       "    <tr>\n",
       "      <th>1</th>\n",
       "      <td>20200623</td>\n",
       "      <td>20.0</td>\n",
       "      <td>1390000.0</td>\n",
       "    </tr>\n",
       "    <tr>\n",
       "      <th>1179</th>\n",
       "      <td>20160104</td>\n",
       "      <td>5.0</td>\n",
       "      <td>390500.0</td>\n",
       "    </tr>\n",
       "    <tr>\n",
       "      <th>1259</th>\n",
       "      <td>20200527</td>\n",
       "      <td>206.0</td>\n",
       "      <td>16521200.0</td>\n",
       "    </tr>\n",
       "    <tr>\n",
       "      <th>1260</th>\n",
       "      <td>20200528</td>\n",
       "      <td>0.0</td>\n",
       "      <td>0.0</td>\n",
       "    </tr>\n",
       "    <tr>\n",
       "      <th>...</th>\n",
       "      <td>...</td>\n",
       "      <td>...</td>\n",
       "      <td>...</td>\n",
       "    </tr>\n",
       "    <tr>\n",
       "      <th>2571208</th>\n",
       "      <td>20200921</td>\n",
       "      <td>0.0</td>\n",
       "      <td>0.0</td>\n",
       "    </tr>\n",
       "    <tr>\n",
       "      <th>2573115</th>\n",
       "      <td>20200818</td>\n",
       "      <td>0.0</td>\n",
       "      <td>0.0</td>\n",
       "    </tr>\n",
       "    <tr>\n",
       "      <th>2573116</th>\n",
       "      <td>20201019</td>\n",
       "      <td>4.0</td>\n",
       "      <td>308800.0</td>\n",
       "    </tr>\n",
       "    <tr>\n",
       "      <th>2573117</th>\n",
       "      <td>20201118</td>\n",
       "      <td>0.0</td>\n",
       "      <td>0.0</td>\n",
       "    </tr>\n",
       "    <tr>\n",
       "      <th>2573418</th>\n",
       "      <td>20200630</td>\n",
       "      <td>3.0</td>\n",
       "      <td>213000.0</td>\n",
       "    </tr>\n",
       "  </tbody>\n",
       "</table>\n",
       "<p>8050 rows × 3 columns</p>\n",
       "</div>"
      ],
      "text/plain": [
       "           bse_dt  bnc_qty  tot_aet_amt\n",
       "0        20200820     40.0    2828000.0\n",
       "1        20200623     20.0    1390000.0\n",
       "1179     20160104      5.0     390500.0\n",
       "1259     20200527    206.0   16521200.0\n",
       "1260     20200528      0.0          0.0\n",
       "...           ...      ...          ...\n",
       "2571208  20200921      0.0          0.0\n",
       "2573115  20200818      0.0          0.0\n",
       "2573116  20201019      4.0     308800.0\n",
       "2573117  20201118      0.0          0.0\n",
       "2573418  20200630      3.0     213000.0\n",
       "\n",
       "[8050 rows x 3 columns]"
      ]
     },
     "execution_count": 501,
     "metadata": {},
     "output_type": "execute_result"
    }
   ],
   "source": [
    "df[(df['iem_cd'] == 'A008770')][['bse_dt','bnc_qty','tot_aet_amt']]"
   ]
  },
  {
   "cell_type": "code",
   "execution_count": 429,
   "metadata": {},
   "outputs": [
    {
     "data": {
      "text/plain": [
       "<pandas.core.groupby.generic.SeriesGroupBy object at 0x7fe8e9a1ab50>"
      ]
     },
     "execution_count": 429,
     "metadata": {},
     "output_type": "execute_result"
    }
   ],
   "source": [
    "for i in range(1):\n",
    "    tmp = list(id_cd_list['iem_cd_list'][i])\n",
    "    for j in range(len(tmp)):\n",
    "        tmp2 = df[(df['iem_cd'] == tmp[j])][['bse_dt','bnc_qty','tot_aet_amt']]\n",
    "        "
   ]
  },
  {
   "cell_type": "code",
   "execution_count": null,
   "metadata": {},
   "outputs": [],
   "source": []
  }
 ],
 "metadata": {
  "kernelspec": {
   "display_name": "Python 3",
   "language": "python",
   "name": "python3"
  },
  "language_info": {
   "codemirror_mode": {
    "name": "ipython",
    "version": 3
   },
   "file_extension": ".py",
   "mimetype": "text/x-python",
   "name": "python",
   "nbconvert_exporter": "python",
   "pygments_lexer": "ipython3",
   "version": "3.8.3"
  }
 },
 "nbformat": 4,
 "nbformat_minor": 4
}
