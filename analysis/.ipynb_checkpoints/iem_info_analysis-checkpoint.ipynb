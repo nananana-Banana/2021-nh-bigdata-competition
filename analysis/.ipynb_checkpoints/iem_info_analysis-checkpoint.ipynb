{
 "cells": [
  {
   "cell_type": "code",
   "execution_count": 38,
   "id": "88a8770b",
   "metadata": {},
   "outputs": [],
   "source": [
    "import pandas as pd\n",
    "import numpy as np\n",
    "import sys\n",
    "sys.path.append('../')\n",
    "import matplotlib as mpl\n",
    "import matplotlib.pyplot as plt\n",
    "import matplotlib.font_manager as fm\n",
    "import core.config as conf\n",
    "%matplotlib inline"
   ]
  },
  {
   "cell_type": "code",
   "execution_count": 2,
   "id": "4a1f03a9",
   "metadata": {},
   "outputs": [],
   "source": [
    "filepath = '../data/iem_info_20210902.csv'\n",
    "iem_df = pd.read_csv(filepath)"
   ]
  },
  {
   "cell_type": "code",
   "execution_count": 4,
   "id": "864669ec",
   "metadata": {},
   "outputs": [
    {
     "data": {
      "text/html": [
       "<div>\n",
       "<style scoped>\n",
       "    .dataframe tbody tr th:only-of-type {\n",
       "        vertical-align: middle;\n",
       "    }\n",
       "\n",
       "    .dataframe tbody tr th {\n",
       "        vertical-align: top;\n",
       "    }\n",
       "\n",
       "    .dataframe thead th {\n",
       "        text-align: right;\n",
       "    }\n",
       "</style>\n",
       "<table border=\"1\" class=\"dataframe\">\n",
       "  <thead>\n",
       "    <tr style=\"text-align: right;\">\n",
       "      <th></th>\n",
       "      <th>iem_cd</th>\n",
       "      <th>iem_krl_nm</th>\n",
       "      <th>btp_cfc_cd</th>\n",
       "      <th>mkt_pr_tal_scl_tp_cd</th>\n",
       "      <th>stk_dit_cd</th>\n",
       "    </tr>\n",
       "  </thead>\n",
       "  <tbody>\n",
       "    <tr>\n",
       "      <th>0</th>\n",
       "      <td>A000020</td>\n",
       "      <td>동화약품</td>\n",
       "      <td>8</td>\n",
       "      <td>2</td>\n",
       "      <td>99</td>\n",
       "    </tr>\n",
       "    <tr>\n",
       "      <th>1</th>\n",
       "      <td>A000080</td>\n",
       "      <td>하이트진로</td>\n",
       "      <td>14</td>\n",
       "      <td>2</td>\n",
       "      <td>1</td>\n",
       "    </tr>\n",
       "    <tr>\n",
       "      <th>2</th>\n",
       "      <td>A000180</td>\n",
       "      <td>성창기업지주</td>\n",
       "      <td>5</td>\n",
       "      <td>3</td>\n",
       "      <td>99</td>\n",
       "    </tr>\n",
       "    <tr>\n",
       "      <th>3</th>\n",
       "      <td>A000227</td>\n",
       "      <td>유유제약2우B</td>\n",
       "      <td>8</td>\n",
       "      <td>99</td>\n",
       "      <td>99</td>\n",
       "    </tr>\n",
       "    <tr>\n",
       "      <th>4</th>\n",
       "      <td>A000325</td>\n",
       "      <td>노루홀딩스우</td>\n",
       "      <td>2</td>\n",
       "      <td>99</td>\n",
       "      <td>99</td>\n",
       "    </tr>\n",
       "  </tbody>\n",
       "</table>\n",
       "</div>"
      ],
      "text/plain": [
       "    iem_cd iem_krl_nm  btp_cfc_cd  mkt_pr_tal_scl_tp_cd  stk_dit_cd\n",
       "0  A000020       동화약품           8                     2          99\n",
       "1  A000080      하이트진로          14                     2           1\n",
       "2  A000180     성창기업지주           5                     3          99\n",
       "3  A000227    유유제약2우B           8                    99          99\n",
       "4  A000325     노루홀딩스우           2                    99          99"
      ]
     },
     "execution_count": 4,
     "metadata": {},
     "output_type": "execute_result"
    }
   ],
   "source": [
    "iem_df.head()"
   ]
  },
  {
   "cell_type": "markdown",
   "id": "281d7fa7",
   "metadata": {},
   "source": [
    "### iem_info.csv(3,078건): 종목 정보\n",
    "- iem_cd: 종목코드\n",
    "- iem_krl_nm: 종목한글명\n",
    "- btp_cfc_cd: 종목업종\n",
    "- mkt_pr_tal_scl_tp_cd: 시가총액 규모유형\n",
    "- stk_dit_cd: 시장구분"
   ]
  },
  {
   "cell_type": "code",
   "execution_count": 8,
   "id": "5d285e66",
   "metadata": {},
   "outputs": [
    {
     "data": {
      "text/plain": [
       "3079"
      ]
     },
     "execution_count": 8,
     "metadata": {},
     "output_type": "execute_result"
    }
   ],
   "source": [
    "len(iem_df) "
   ]
  },
  {
   "cell_type": "markdown",
   "id": "ace836b2",
   "metadata": {},
   "source": [
    "3078건 아니고 3079건이 맞는 듯"
   ]
  },
  {
   "cell_type": "markdown",
   "id": "100d9f35",
   "metadata": {},
   "source": [
    "### btp_cfc_cd: 종목업종\n",
    "14개 업종<Br>\n",
    "01: 건설 &nbsp; 02: 금융 &nbsp; 03: 기계 &nbsp; 04: 통신 &nbsp; 05: 서비스 &nbsp;\n",
    "06: 운송 &nbsp; 07: 유통 &nbsp;<br>\n",
    "08: 의료 &nbsp; 09: 전기 &nbsp; 10: 제조 &nbsp; 11: 철강 &nbsp; 12: 화학 &nbsp;&nbsp;&nbsp;&nbsp; 13: IT &nbsp;&nbsp;&nbsp;&nbsp;&nbsp;&nbsp; 14: 기타 "
   ]
  },
  {
   "cell_type": "code",
   "execution_count": 9,
   "id": "0e604af1",
   "metadata": {},
   "outputs": [],
   "source": [
    "count = iem_df['btp_cfc_cd'].value_counts().sort_index()"
   ]
  },
  {
   "cell_type": "code",
   "execution_count": 10,
   "id": "39eb5d10",
   "metadata": {},
   "outputs": [
    {
     "data": {
      "text/plain": [
       "1      61\n",
       "2     211\n",
       "3      43\n",
       "4      22\n",
       "5     203\n",
       "6      95\n",
       "7     150\n",
       "8      57\n",
       "9      82\n",
       "10    666\n",
       "11     78\n",
       "12    121\n",
       "13    455\n",
       "14    835\n",
       "Name: btp_cfc_cd, dtype: int64"
      ]
     },
     "execution_count": 10,
     "metadata": {},
     "output_type": "execute_result"
    }
   ],
   "source": [
    "count"
   ]
  },
  {
   "cell_type": "code",
   "execution_count": 12,
   "id": "48b7c637",
   "metadata": {},
   "outputs": [],
   "source": [
    "btp_cfc_dic = {'01':'건설','02':'금융','03':'기계','04':'통신','05':'서비스','06':'운송','07':'유통','08':'의료','09':'전기','10':'제조','11':'철강','12':'화학','13':'IT','14':'기타'}"
   ]
  },
  {
   "cell_type": "code",
   "execution_count": 14,
   "id": "d9f9a14f",
   "metadata": {},
   "outputs": [],
   "source": [
    "temp = pd.DataFrame({'code':btp_cfc_dic.keys(),'industry':btp_cfc_dic.values(),'count':count})"
   ]
  },
  {
   "cell_type": "code",
   "execution_count": 18,
   "id": "45c1d323",
   "metadata": {},
   "outputs": [
    {
     "data": {
      "text/html": [
       "<div>\n",
       "<style scoped>\n",
       "    .dataframe tbody tr th:only-of-type {\n",
       "        vertical-align: middle;\n",
       "    }\n",
       "\n",
       "    .dataframe tbody tr th {\n",
       "        vertical-align: top;\n",
       "    }\n",
       "\n",
       "    .dataframe thead th {\n",
       "        text-align: right;\n",
       "    }\n",
       "</style>\n",
       "<table border=\"1\" class=\"dataframe\">\n",
       "  <thead>\n",
       "    <tr style=\"text-align: right;\">\n",
       "      <th></th>\n",
       "      <th>code</th>\n",
       "      <th>industry</th>\n",
       "      <th>count</th>\n",
       "    </tr>\n",
       "  </thead>\n",
       "  <tbody>\n",
       "    <tr>\n",
       "      <th>14</th>\n",
       "      <td>14</td>\n",
       "      <td>기타</td>\n",
       "      <td>835</td>\n",
       "    </tr>\n",
       "    <tr>\n",
       "      <th>10</th>\n",
       "      <td>10</td>\n",
       "      <td>제조</td>\n",
       "      <td>666</td>\n",
       "    </tr>\n",
       "    <tr>\n",
       "      <th>13</th>\n",
       "      <td>13</td>\n",
       "      <td>IT</td>\n",
       "      <td>455</td>\n",
       "    </tr>\n",
       "    <tr>\n",
       "      <th>2</th>\n",
       "      <td>02</td>\n",
       "      <td>금융</td>\n",
       "      <td>211</td>\n",
       "    </tr>\n",
       "    <tr>\n",
       "      <th>5</th>\n",
       "      <td>05</td>\n",
       "      <td>서비스</td>\n",
       "      <td>203</td>\n",
       "    </tr>\n",
       "    <tr>\n",
       "      <th>7</th>\n",
       "      <td>07</td>\n",
       "      <td>유통</td>\n",
       "      <td>150</td>\n",
       "    </tr>\n",
       "    <tr>\n",
       "      <th>12</th>\n",
       "      <td>12</td>\n",
       "      <td>화학</td>\n",
       "      <td>121</td>\n",
       "    </tr>\n",
       "    <tr>\n",
       "      <th>6</th>\n",
       "      <td>06</td>\n",
       "      <td>운송</td>\n",
       "      <td>95</td>\n",
       "    </tr>\n",
       "    <tr>\n",
       "      <th>9</th>\n",
       "      <td>09</td>\n",
       "      <td>전기</td>\n",
       "      <td>82</td>\n",
       "    </tr>\n",
       "    <tr>\n",
       "      <th>11</th>\n",
       "      <td>11</td>\n",
       "      <td>철강</td>\n",
       "      <td>78</td>\n",
       "    </tr>\n",
       "    <tr>\n",
       "      <th>1</th>\n",
       "      <td>01</td>\n",
       "      <td>건설</td>\n",
       "      <td>61</td>\n",
       "    </tr>\n",
       "    <tr>\n",
       "      <th>8</th>\n",
       "      <td>08</td>\n",
       "      <td>의료</td>\n",
       "      <td>57</td>\n",
       "    </tr>\n",
       "    <tr>\n",
       "      <th>3</th>\n",
       "      <td>03</td>\n",
       "      <td>기계</td>\n",
       "      <td>43</td>\n",
       "    </tr>\n",
       "    <tr>\n",
       "      <th>4</th>\n",
       "      <td>04</td>\n",
       "      <td>통신</td>\n",
       "      <td>22</td>\n",
       "    </tr>\n",
       "  </tbody>\n",
       "</table>\n",
       "</div>"
      ],
      "text/plain": [
       "   code industry  count\n",
       "14   14       기타    835\n",
       "10   10       제조    666\n",
       "13   13       IT    455\n",
       "2    02       금융    211\n",
       "5    05      서비스    203\n",
       "7    07       유통    150\n",
       "12   12       화학    121\n",
       "6    06       운송     95\n",
       "9    09       전기     82\n",
       "11   11       철강     78\n",
       "1    01       건설     61\n",
       "8    08       의료     57\n",
       "3    03       기계     43\n",
       "4    04       통신     22"
      ]
     },
     "execution_count": 18,
     "metadata": {},
     "output_type": "execute_result"
    }
   ],
   "source": [
    "temp.sort_values('count',ascending=False)"
   ]
  },
  {
   "cell_type": "code",
   "execution_count": 36,
   "id": "b5ef931f",
   "metadata": {},
   "outputs": [
    {
     "data": {
      "image/png": "[encoded data removed]",
      "text/plain": [
       "<Figure size 432x288 with 1 Axes>"
      ]
     },
     "metadata": {
      "needs_background": "light"
     },
     "output_type": "display_data"
    }
   ],
   "source": [
    "label= list(btp_cfc_dic.values())\n",
    "idx = np.arange(len(label))\n",
    "plt.bar(idx, count)\n",
    "plt.title('업종별 종목 개수')\n",
    "plt.xlabel('종목 업종')\n",
    "plt.ylabel('개수')\n",
    "plt.xticks(idx, label, fontsize=15)\n",
    "plt.show()"
   ]
  },
  {
   "cell_type": "code",
   "execution_count": 41,
   "id": "9b631d4b",
   "metadata": {},
   "outputs": [
    {
     "name": "stdout",
     "output_type": "stream",
     "text": [
      "버전:  3.3.4\n",
      "설치 위치:  C:\\Users\\s_py9\\anaconda3\\lib\\site-packages\\matplotlib\\__init__.py\n",
      "설정 위치:  C:\\Users\\s_py9\\.matplotlib\n",
      "캐시 위치:  C:\\Users\\s_py9\\.matplotlib\n",
      "설정파일 위치:  C:\\Users\\s_py9\\anaconda3\\lib\\site-packages\\matplotlib\\mpl-data\\matplotlibrc\n"
     ]
    }
   ],
   "source": [
    "print ('버전: ', mpl.__version__)\n",
    "print ('설치 위치: ', mpl.__file__)\n",
    "print ('설정 위치: ', mpl.get_configdir())\n",
    "print ('캐시 위치: ', mpl.get_cachedir())\n",
    "print ('설정파일 위치: ', mpl.matplotlib_fname())"
   ]
  },
  {
   "cell_type": "code",
   "execution_count": 44,
   "id": "9d95d234",
   "metadata": {},
   "outputs": [
    {
     "name": "stdout",
     "output_type": "stream",
     "text": [
      "809\n"
     ]
    }
   ],
   "source": [
    "font_list = fm.findSystemFonts(fontpaths=None, fontext='ttf')\n",
    "\n",
    "# ttf 폰트 전체갯수\n",
    "print(len(font_list))\n"
   ]
  },
  {
   "cell_type": "code",
   "execution_count": 47,
   "id": "6b5c6dbf",
   "metadata": {},
   "outputs": [
    {
     "data": {
      "text/plain": [
       "[('NanumGothic', 'C:\\\\windows\\\\Fonts\\\\\\x7f\\x7f\\x7f\\x7fEXTRABOLD.TTF'),\n",
       " ('NanumGothic', 'C:\\\\Windows\\\\Fonts\\\\\\x7f\\x7f\\x7f\\x7f.TTF'),\n",
       " ('NanumGothic', 'C:\\\\windows\\\\Fonts\\\\\\x7f\\x7f\\x7f\\x7f.TTF'),\n",
       " ('NanumGothic', 'C:\\\\Windows\\\\Fonts\\\\\\x7f\\x7f\\x7f\\x7fEXTRABOLD.TTF'),\n",
       " ('NanumGothic', 'C:\\\\Windows\\\\Fonts\\\\\\x7f\\x7f\\x7f\\x7fBOLD.TTF'),\n",
       " ('NanumGothic', 'C:\\\\windows\\\\Fonts\\\\\\x7f\\x7f\\x7f\\x7fBOLD.TTF')]"
      ]
     },
     "execution_count": 47,
     "metadata": {},
     "output_type": "execute_result"
    }
   ],
   "source": [
    "[(f.name, f.fname) for f in fm.fontManager.ttflist if 'Nanum' in f.name]\n"
   ]
  },
  {
   "cell_type": "markdown",
   "id": "d1194973",
   "metadata": {},
   "source": [
    "### mkt_pr_tal_scl_tp_cd: 시가총액 규모유형\n",
    "01: 대형주  &nbsp;&nbsp; 02: 중형주 &nbsp;&nbsp; 03: 소형주 &nbsp;&nbsp; 99: 기타"
   ]
  },
  {
   "cell_type": "code",
   "execution_count": 21,
   "id": "c33170c0",
   "metadata": {},
   "outputs": [
    {
     "data": {
      "text/plain": [
       "1      201\n",
       "2      512\n",
       "3     1577\n",
       "99     789\n",
       "Name: mkt_pr_tal_scl_tp_cd, dtype: int64"
      ]
     },
     "execution_count": 21,
     "metadata": {},
     "output_type": "execute_result"
    }
   ],
   "source": [
    "iem_df['mkt_pr_tal_scl_tp_cd'].value_counts().sort_index()"
   ]
  },
  {
   "cell_type": "code",
   "execution_count": null,
   "id": "b881662b",
   "metadata": {},
   "outputs": [],
   "source": []
  },
  {
   "cell_type": "code",
   "execution_count": null,
   "id": "4e254ad7",
   "metadata": {},
   "outputs": [],
   "source": []
  },
  {
   "cell_type": "markdown",
   "id": "9b6fd9bb",
   "metadata": {},
   "source": [
    "### stk_dit_cd: 시장구분\n",
    "01: 코스피200 &nbsp;&nbsp; 02: 코스닥150 &nbsp;&nbsp; 99: 기타"
   ]
  },
  {
   "cell_type": "code",
   "execution_count": 22,
   "id": "17df755b",
   "metadata": {},
   "outputs": [
    {
     "data": {
      "text/plain": [
       "1      201\n",
       "2      150\n",
       "99    2728\n",
       "Name: stk_dit_cd, dtype: int64"
      ]
     },
     "execution_count": 22,
     "metadata": {},
     "output_type": "execute_result"
    }
   ],
   "source": [
    "iem_df['stk_dit_cd'].value_counts().sort_index()"
   ]
  },
  {
   "cell_type": "code",
   "execution_count": null,
   "id": "2f9fdf09",
   "metadata": {},
   "outputs": [],
   "source": []
  },
  {
   "cell_type": "code",
   "execution_count": null,
   "id": "ce8d4f5b",
   "metadata": {},
   "outputs": [],
   "source": []
  },
  {
   "cell_type": "code",
   "execution_count": null,
   "id": "2f12ef78",
   "metadata": {},
   "outputs": [],
   "source": []
  },
  {
   "cell_type": "code",
   "execution_count": null,
   "id": "8fa5778b",
   "metadata": {},
   "outputs": [],
   "source": []
  }
 ],
 "metadata": {
  "kernelspec": {
   "display_name": "Python 3",
   "language": "python",
   "name": "python3"
  },
  "language_info": {
   "codemirror_mode": {
    "name": "ipython",
    "version": 3
   },
   "file_extension": ".py",
   "mimetype": "text/x-python",
   "name": "python",
   "nbconvert_exporter": "python",
   "pygments_lexer": "ipython3",
   "version": "3.8.8"
  }
 },
 "nbformat": 4,
 "nbformat_minor": 5
}
