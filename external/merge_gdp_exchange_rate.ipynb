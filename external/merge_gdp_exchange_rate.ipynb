{
 "cells": [
  {
   "cell_type": "markdown",
   "id": "e5d0bf28",
   "metadata": {},
   "source": [
    "# 국내총생산 및 경제성장률\n",
    "https://www.index.go.kr/potal/stts/idxMain/selectPoSttsIdxSearch.do?idx_cd=2736\n",
    "\n",
    "한국은행「국민소득」\n",
    "\n",
    "주석 : * 국민총생산(명목, 시장가격)\n",
    "* 실질GDP, 실질성장률은 발표시기(한국은행, GDP속보치 발표)와 명목GDP, 명목소득 증감률의 발표시기(한국은행, GDP잠정치 발표)가 차이가 있어 국내총생산(명목GDP)과 경제성장률(실질성장률) 업데이트 시기가 다름\n",
    "\n",
    "# 환율"
   ]
  },
  {
   "cell_type": "code",
   "execution_count": null,
   "id": "a304d8b7",
   "metadata": {},
   "outputs": [],
   "source": []
  }
 ],
 "metadata": {
  "kernelspec": {
   "display_name": "Python 3 (ipykernel)",
   "language": "python",
   "name": "python3"
  },
  "language_info": {
   "codemirror_mode": {
    "name": "ipython",
    "version": 3
   },
   "file_extension": ".py",
   "mimetype": "text/x-python",
   "name": "python",
   "nbconvert_exporter": "python",
   "pygments_lexer": "ipython3",
   "version": "3.7.11"
  }
 },
 "nbformat": 4,
 "nbformat_minor": 5
}
